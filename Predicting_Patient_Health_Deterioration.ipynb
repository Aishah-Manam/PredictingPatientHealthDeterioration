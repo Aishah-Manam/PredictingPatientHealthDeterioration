{
  "nbformat": 4,
  "nbformat_minor": 0,
  "metadata": {
    "colab": {
      "provenance": [],
      "toc_visible": true,
      "authorship_tag": "ABX9TyO8+vPjDo/bzwnxm1mUx5nY",
      "include_colab_link": true
    },
    "kernelspec": {
      "name": "python3",
      "display_name": "Python 3"
    },
    "language_info": {
      "name": "python"
    }
  },
  "cells": [
    {
      "cell_type": "markdown",
      "metadata": {
        "id": "view-in-github",
        "colab_type": "text"
      },
      "source": [
        "<a href=\"https://colab.research.google.com/github/Aishah-Manam/PredictingPatientHealthDeterioration/blob/main/Predicting_Patient_Health_Deterioration.ipynb\" target=\"_parent\"><img src=\"https://colab.research.google.com/assets/colab-badge.svg\" alt=\"Open In Colab\"/></a>"
      ]
    },
    {
      "cell_type": "markdown",
      "source": [
        "#TITLE: PREDICTING PATIENT HEALTH DETERIORATION"
      ],
      "metadata": {
        "id": "-IuvqPsn5lmb"
      }
    },
    {
      "cell_type": "markdown",
      "source": [
        "# Setup and Installation"
      ],
      "metadata": {
        "id": "z1oJrMP69kHx"
      }
    },
    {
      "cell_type": "code",
      "source": [
        "import torch, numpy as np, transformers\n",
        "print(torch.__version__, np.__version__, transformers.__version__)"
      ],
      "metadata": {
        "colab": {
          "base_uri": "https://localhost:8080/",
          "height": 0
        },
        "id": "zYI10ifM-VjY",
        "outputId": "42be229e-bcb8-4eda-8852-cbd1dc026c9c"
      },
      "execution_count": 1,
      "outputs": [
        {
          "output_type": "stream",
          "name": "stdout",
          "text": [
            "2.6.0+cu124 2.0.2 4.52.4\n"
          ]
        }
      ]
    },
    {
      "cell_type": "code",
      "source": [
        "# 1️⃣  clean any half-installed wheels (first cell already removed torch)\n",
        "!pip -q uninstall -y torch torchvision torchaudio sentence-transformers timm thinc fastai gcsfs fsspec\n",
        "\n",
        "# 2️⃣  core stack we need, WITHOUT pulling extra deps\n",
        "!pip -q install --no-deps torch==2.1.2+cpu  -f https://download.pytorch.org/whl/cpu/torch_stable.html\n",
        "!pip -q install --no-deps numpy==2.0.0 pandas==2.2.2 transformers==4.38.2 \\\n",
        "                 sentencepiece accelerate matplotlib seaborn scikit-learn shap tqdm\n"
      ],
      "metadata": {
        "colab": {
          "base_uri": "https://localhost:8080/",
          "height": 0
        },
        "id": "6zxZaINP_wA9",
        "outputId": "57782c70-a2ff-458b-9875-6f33409cffd3"
      },
      "execution_count": 2,
      "outputs": [
        {
          "output_type": "stream",
          "name": "stdout",
          "text": [
            "\u001b[2K     \u001b[90m━━━━━━━━━━━━━━━━━━━━━━━━━━━━━━━━━━━━━━━\u001b[0m \u001b[32m184.9/184.9 MB\u001b[0m \u001b[31m6.8 MB/s\u001b[0m eta \u001b[36m0:00:00\u001b[0m\n",
            "\u001b[2K     \u001b[90m━━━━━━━━━━━━━━━━━━━━━━━━━━━━━━━━━━━━━━━━\u001b[0m \u001b[32m60.9/60.9 kB\u001b[0m \u001b[31m1.9 MB/s\u001b[0m eta \u001b[36m0:00:00\u001b[0m\n",
            "\u001b[2K     \u001b[90m━━━━━━━━━━━━━━━━━━━━━━━━━━━━━━━━━━━━━━━\u001b[0m \u001b[32m130.7/130.7 kB\u001b[0m \u001b[31m3.3 MB/s\u001b[0m eta \u001b[36m0:00:00\u001b[0m\n",
            "\u001b[2K   \u001b[90m━━━━━━━━━━━━━━━━━━━━━━━━━━━━━━━━━━━━━━━━\u001b[0m \u001b[32m19.3/19.3 MB\u001b[0m \u001b[31m27.3 MB/s\u001b[0m eta \u001b[36m0:00:00\u001b[0m\n",
            "\u001b[2K   \u001b[90m━━━━━━━━━━━━━━━━━━━━━━━━━━━━━━━━━━━━━━━━\u001b[0m \u001b[32m8.5/8.5 MB\u001b[0m \u001b[31m21.5 MB/s\u001b[0m eta \u001b[36m0:00:00\u001b[0m\n",
            "\u001b[?25h"
          ]
        }
      ]
    },
    {
      "cell_type": "code",
      "source": [
        "import torch, numpy, transformers\n",
        "print(torch.__version__, numpy.__version__, transformers.__version__)\n"
      ],
      "metadata": {
        "colab": {
          "base_uri": "https://localhost:8080/",
          "height": 0
        },
        "id": "2NSq7Yh6_5Yy",
        "outputId": "011e3038-a638-463d-a83e-63ae7fc3c6f1"
      },
      "execution_count": 3,
      "outputs": [
        {
          "output_type": "stream",
          "name": "stdout",
          "text": [
            "2.6.0+cu124 2.0.2 4.52.4\n"
          ]
        }
      ]
    },
    {
      "cell_type": "code",
      "source": [
        "# 1️⃣ remove the stripped-down copy\n",
        "!pip -q uninstall -y transformers\n",
        "\n",
        "# 2️⃣ reinstall a complete wheel\n",
        "!pip -q install transformers==4.38.2 sentencepiece --upgrade --no-cache-dir\n"
      ],
      "metadata": {
        "colab": {
          "base_uri": "https://localhost:8080/",
          "height": 0
        },
        "id": "6PFMLgzFWXJ8",
        "outputId": "8776f5ef-c4f7-46f1-efe6-f4bf45e4e3a0"
      },
      "execution_count": 5,
      "outputs": [
        {
          "output_type": "stream",
          "name": "stdout",
          "text": [
            "\u001b[2K     \u001b[90m━━━━━━━━━━━━━━━━━━━━━━━━━━━━━━━━━━━━━━━\u001b[0m \u001b[32m130.7/130.7 kB\u001b[0m \u001b[31m5.3 MB/s\u001b[0m eta \u001b[36m0:00:00\u001b[0m\n",
            "\u001b[2K   \u001b[90m━━━━━━━━━━━━━━━━━━━━━━━━━━━━━━━━━━━━━━━━\u001b[0m \u001b[32m8.5/8.5 MB\u001b[0m \u001b[31m47.5 MB/s\u001b[0m eta \u001b[36m0:00:00\u001b[0m\n",
            "\u001b[2K   \u001b[90m━━━━━━━━━━━━━━━━━━━━━━━━━━━━━━━━━━━━━━━━\u001b[0m \u001b[32m3.6/3.6 MB\u001b[0m \u001b[31m77.2 MB/s\u001b[0m eta \u001b[36m0:00:00\u001b[0m\n",
            "\u001b[2K   \u001b[90m━━━━━━━━━━━━━━━━━━━━━━━━━━━━━━━━━━━━━━━\u001b[0m \u001b[32m199.1/199.1 kB\u001b[0m \u001b[31m151.0 MB/s\u001b[0m eta \u001b[36m0:00:00\u001b[0m\n",
            "\u001b[?25h\u001b[31mERROR: pip's dependency resolver does not currently take into account all the packages that are installed. This behaviour is the source of the following dependency conflicts.\n",
            "bigframes 2.6.0 requires gcsfs!=2025.5.0,>=2023.3.0, which is not installed.\u001b[0m\u001b[31m\n",
            "\u001b[0m"
          ]
        }
      ]
    },
    {
      "cell_type": "code",
      "source": [
        "# ── satisfy Bigframes ─────────────────────────────────────────\n",
        "!pip -q install \"gcsfs==2023.6.0\" \"fsspec==2023.6.0\"\n",
        "\n",
        "# ── reinstall Transformers full wheel ────────────────────────\n",
        "!pip -q install transformers==4.38.2 sentencepiece --upgrade --no-cache-dir\n"
      ],
      "metadata": {
        "colab": {
          "base_uri": "https://localhost:8080/",
          "height": 0
        },
        "id": "rwntecXdW8b9",
        "outputId": "1fafc34e-2f43-4911-c6b8-e9de42f55a2e"
      },
      "execution_count": 6,
      "outputs": [
        {
          "output_type": "stream",
          "name": "stdout",
          "text": [
            "\u001b[?25l   \u001b[90m━━━━━━━━━━━━━━━━━━━━━━━━━━━━━━━━━━━━━━━━\u001b[0m \u001b[32m0.0/163.8 kB\u001b[0m \u001b[31m?\u001b[0m eta \u001b[36m-:--:--\u001b[0m\r\u001b[2K   \u001b[90m━━━━━━━━━━━━━━━━━━━━━━━━━━━━━━━━━━━━━━━━\u001b[0m \u001b[32m163.8/163.8 kB\u001b[0m \u001b[31m4.8 MB/s\u001b[0m eta \u001b[36m0:00:00\u001b[0m\n",
            "\u001b[?25h"
          ]
        }
      ]
    },
    {
      "cell_type": "markdown",
      "source": [
        "#1.0 Simulate Patient Dataset"
      ],
      "metadata": {
        "id": "N8zCsy_c9f2q"
      }
    },
    {
      "cell_type": "markdown",
      "source": [
        "what to write here"
      ],
      "metadata": {
        "id": "uI71PyFo6HT9"
      }
    },
    {
      "cell_type": "markdown",
      "source": [
        "## 1.1 Load GPT-2-medium & helper"
      ],
      "metadata": {
        "id": "Z8JwXVomANQl"
      }
    },
    {
      "cell_type": "code",
      "source": [
        "import torch\n",
        "from transformers import AutoTokenizer, AutoModelForCausalLM\n",
        "tok   = AutoTokenizer.from_pretrained(\"gpt2-medium\")\n",
        "model = AutoModelForCausalLM.from_pretrained(\"gpt2-medium\")\n",
        "\n",
        "def gpt2_generate(prompt, max_new=25, temp=0.9, top_p=0.95):\n",
        "    ids = tok(prompt, return_tensors=\"pt\").input_ids\n",
        "    with torch.no_grad():\n",
        "        out = model.generate(ids, max_new_tokens=max_new,\n",
        "                             do_sample=True, temperature=temp, top_p=top_p,\n",
        "                             pad_token_id=tok.eos_token_id)\n",
        "    txt = tok.decode(out[0], skip_special_tokens=True)\n",
        "    return txt[len(prompt):].strip()\n",
        "\n",
        "print(\"Sanity →\", gpt2_generate(\"Hello nurse,\"))   # should print a short reply\n"
      ],
      "metadata": {
        "colab": {
          "base_uri": "https://localhost:8080/",
          "height": 0
        },
        "id": "fZvDffubAMQX",
        "outputId": "6ff565cf-7660-4f03-8468-9e03333d4d8b"
      },
      "execution_count": 2,
      "outputs": [
        {
          "output_type": "stream",
          "name": "stdout",
          "text": [
            "Sanity → will you teach me how to make my legs numb by rubbing them?\"\n",
            "\n",
            "\"Of course. It'll only take one\n"
          ]
        }
      ]
    },
    {
      "cell_type": "markdown",
      "source": [
        "## 1.2 Simulate vitals (500 patients × 31 days) + 10 % missing"
      ],
      "metadata": {
        "id": "ApWl5AkOAYX-"
      }
    },
    {
      "cell_type": "code",
      "source": [
        "import numpy as np, pandas as pd\n",
        "rng   = np.random.default_rng(42)\n",
        "days  = pd.date_range(\"2025-01-01\", periods=31, freq=\"D\")\n",
        "df    = pd.MultiIndex.from_product([range(1,501), days],\n",
        "                                   names=[\"patient_id\",\"date\"]).to_frame(index=False)\n",
        "\n",
        "def vital(base, sd, drift=0):\n",
        "    noise = rng.normal(0, sd, len(df))\n",
        "    dseq  = df['date'].dt.dayofyear.values\n",
        "    return (base + drift*(dseq-dseq.mean())/dseq.std() + noise).round(1)\n",
        "\n",
        "df[\"spo2\"]        = vital(97,   1.5)\n",
        "df[\"heart_rate\"]  = vital(80,  12,  0.2)\n",
        "df[\"temperature\"] = vital(36.8,0.4, 0.05)\n",
        "df[\"sys_bp\"]      = vital(120, 15,  0.3)\n",
        "df[\"dia_bp\"]      = vital(78,  10,  0.2)\n",
        "df[\"weight\"]      = vital(70,   8, -0.05)\n",
        "df[\"glucose\"]     = vital(5.5,  1.2, 0.1)\n",
        "\n",
        "for c in [\"spo2\",\"heart_rate\",\"temperature\",\"sys_bp\",\"dia_bp\",\"weight\",\"glucose\"]:\n",
        "    df.loc[rng.random(len(df))<0.10, c] = np.nan   # 10 % missing\n",
        "\n",
        "print(\"Vitals grid ready →\", df.shape)"
      ],
      "metadata": {
        "colab": {
          "base_uri": "https://localhost:8080/",
          "height": 0
        },
        "id": "PuPOoKwbASL8",
        "outputId": "3a9b94d4-c302-4c9c-c2b0-42638c85facd"
      },
      "execution_count": 3,
      "outputs": [
        {
          "output_type": "stream",
          "name": "stdout",
          "text": [
            "Vitals grid ready → (15500, 9)\n"
          ]
        }
      ]
    },
    {
      "cell_type": "code",
      "source": [
        "df.head()"
      ],
      "metadata": {
        "colab": {
          "base_uri": "https://localhost:8080/",
          "height": 206
        },
        "id": "mt9F6-jgBpC9",
        "outputId": "f849290c-fe16-4ff0-e906-b0ddfcdf43b0"
      },
      "execution_count": 4,
      "outputs": [
        {
          "output_type": "execute_result",
          "data": {
            "text/plain": [
              "   patient_id       date  spo2  heart_rate  temperature  sys_bp  dia_bp  \\\n",
              "0           1 2025-01-01  97.5        92.3         36.2   118.8    82.9   \n",
              "1           1 2025-01-02  95.4        91.6         36.7   148.0    84.8   \n",
              "2           1 2025-01-03  98.1        84.8         36.9   105.7    84.8   \n",
              "3           1 2025-01-04  98.4        91.0         37.3   133.0    81.2   \n",
              "4           1 2025-01-05  94.1        90.2         36.5   135.4    91.9   \n",
              "\n",
              "   weight  glucose  \n",
              "0    66.6      6.3  \n",
              "1    67.1      6.3  \n",
              "2    55.8      6.1  \n",
              "3    62.0      4.8  \n",
              "4    91.4      4.8  "
            ],
            "text/html": [
              "\n",
              "  <div id=\"df-c1b8470d-ca52-4b7b-9762-d593d5b46cfb\" class=\"colab-df-container\">\n",
              "    <div>\n",
              "<style scoped>\n",
              "    .dataframe tbody tr th:only-of-type {\n",
              "        vertical-align: middle;\n",
              "    }\n",
              "\n",
              "    .dataframe tbody tr th {\n",
              "        vertical-align: top;\n",
              "    }\n",
              "\n",
              "    .dataframe thead th {\n",
              "        text-align: right;\n",
              "    }\n",
              "</style>\n",
              "<table border=\"1\" class=\"dataframe\">\n",
              "  <thead>\n",
              "    <tr style=\"text-align: right;\">\n",
              "      <th></th>\n",
              "      <th>patient_id</th>\n",
              "      <th>date</th>\n",
              "      <th>spo2</th>\n",
              "      <th>heart_rate</th>\n",
              "      <th>temperature</th>\n",
              "      <th>sys_bp</th>\n",
              "      <th>dia_bp</th>\n",
              "      <th>weight</th>\n",
              "      <th>glucose</th>\n",
              "    </tr>\n",
              "  </thead>\n",
              "  <tbody>\n",
              "    <tr>\n",
              "      <th>0</th>\n",
              "      <td>1</td>\n",
              "      <td>2025-01-01</td>\n",
              "      <td>97.5</td>\n",
              "      <td>92.3</td>\n",
              "      <td>36.2</td>\n",
              "      <td>118.8</td>\n",
              "      <td>82.9</td>\n",
              "      <td>66.6</td>\n",
              "      <td>6.3</td>\n",
              "    </tr>\n",
              "    <tr>\n",
              "      <th>1</th>\n",
              "      <td>1</td>\n",
              "      <td>2025-01-02</td>\n",
              "      <td>95.4</td>\n",
              "      <td>91.6</td>\n",
              "      <td>36.7</td>\n",
              "      <td>148.0</td>\n",
              "      <td>84.8</td>\n",
              "      <td>67.1</td>\n",
              "      <td>6.3</td>\n",
              "    </tr>\n",
              "    <tr>\n",
              "      <th>2</th>\n",
              "      <td>1</td>\n",
              "      <td>2025-01-03</td>\n",
              "      <td>98.1</td>\n",
              "      <td>84.8</td>\n",
              "      <td>36.9</td>\n",
              "      <td>105.7</td>\n",
              "      <td>84.8</td>\n",
              "      <td>55.8</td>\n",
              "      <td>6.1</td>\n",
              "    </tr>\n",
              "    <tr>\n",
              "      <th>3</th>\n",
              "      <td>1</td>\n",
              "      <td>2025-01-04</td>\n",
              "      <td>98.4</td>\n",
              "      <td>91.0</td>\n",
              "      <td>37.3</td>\n",
              "      <td>133.0</td>\n",
              "      <td>81.2</td>\n",
              "      <td>62.0</td>\n",
              "      <td>4.8</td>\n",
              "    </tr>\n",
              "    <tr>\n",
              "      <th>4</th>\n",
              "      <td>1</td>\n",
              "      <td>2025-01-05</td>\n",
              "      <td>94.1</td>\n",
              "      <td>90.2</td>\n",
              "      <td>36.5</td>\n",
              "      <td>135.4</td>\n",
              "      <td>91.9</td>\n",
              "      <td>91.4</td>\n",
              "      <td>4.8</td>\n",
              "    </tr>\n",
              "  </tbody>\n",
              "</table>\n",
              "</div>\n",
              "    <div class=\"colab-df-buttons\">\n",
              "\n",
              "  <div class=\"colab-df-container\">\n",
              "    <button class=\"colab-df-convert\" onclick=\"convertToInteractive('df-c1b8470d-ca52-4b7b-9762-d593d5b46cfb')\"\n",
              "            title=\"Convert this dataframe to an interactive table.\"\n",
              "            style=\"display:none;\">\n",
              "\n",
              "  <svg xmlns=\"http://www.w3.org/2000/svg\" height=\"24px\" viewBox=\"0 -960 960 960\">\n",
              "    <path d=\"M120-120v-720h720v720H120Zm60-500h600v-160H180v160Zm220 220h160v-160H400v160Zm0 220h160v-160H400v160ZM180-400h160v-160H180v160Zm440 0h160v-160H620v160ZM180-180h160v-160H180v160Zm440 0h160v-160H620v160Z\"/>\n",
              "  </svg>\n",
              "    </button>\n",
              "\n",
              "  <style>\n",
              "    .colab-df-container {\n",
              "      display:flex;\n",
              "      gap: 12px;\n",
              "    }\n",
              "\n",
              "    .colab-df-convert {\n",
              "      background-color: #E8F0FE;\n",
              "      border: none;\n",
              "      border-radius: 50%;\n",
              "      cursor: pointer;\n",
              "      display: none;\n",
              "      fill: #1967D2;\n",
              "      height: 32px;\n",
              "      padding: 0 0 0 0;\n",
              "      width: 32px;\n",
              "    }\n",
              "\n",
              "    .colab-df-convert:hover {\n",
              "      background-color: #E2EBFA;\n",
              "      box-shadow: 0px 1px 2px rgba(60, 64, 67, 0.3), 0px 1px 3px 1px rgba(60, 64, 67, 0.15);\n",
              "      fill: #174EA6;\n",
              "    }\n",
              "\n",
              "    .colab-df-buttons div {\n",
              "      margin-bottom: 4px;\n",
              "    }\n",
              "\n",
              "    [theme=dark] .colab-df-convert {\n",
              "      background-color: #3B4455;\n",
              "      fill: #D2E3FC;\n",
              "    }\n",
              "\n",
              "    [theme=dark] .colab-df-convert:hover {\n",
              "      background-color: #434B5C;\n",
              "      box-shadow: 0px 1px 3px 1px rgba(0, 0, 0, 0.15);\n",
              "      filter: drop-shadow(0px 1px 2px rgba(0, 0, 0, 0.3));\n",
              "      fill: #FFFFFF;\n",
              "    }\n",
              "  </style>\n",
              "\n",
              "    <script>\n",
              "      const buttonEl =\n",
              "        document.querySelector('#df-c1b8470d-ca52-4b7b-9762-d593d5b46cfb button.colab-df-convert');\n",
              "      buttonEl.style.display =\n",
              "        google.colab.kernel.accessAllowed ? 'block' : 'none';\n",
              "\n",
              "      async function convertToInteractive(key) {\n",
              "        const element = document.querySelector('#df-c1b8470d-ca52-4b7b-9762-d593d5b46cfb');\n",
              "        const dataTable =\n",
              "          await google.colab.kernel.invokeFunction('convertToInteractive',\n",
              "                                                    [key], {});\n",
              "        if (!dataTable) return;\n",
              "\n",
              "        const docLinkHtml = 'Like what you see? Visit the ' +\n",
              "          '<a target=\"_blank\" href=https://colab.research.google.com/notebooks/data_table.ipynb>data table notebook</a>'\n",
              "          + ' to learn more about interactive tables.';\n",
              "        element.innerHTML = '';\n",
              "        dataTable['output_type'] = 'display_data';\n",
              "        await google.colab.output.renderOutput(dataTable, element);\n",
              "        const docLink = document.createElement('div');\n",
              "        docLink.innerHTML = docLinkHtml;\n",
              "        element.appendChild(docLink);\n",
              "      }\n",
              "    </script>\n",
              "  </div>\n",
              "\n",
              "\n",
              "    <div id=\"df-c2c4a722-7852-48f0-a4b5-bfca71cd6790\">\n",
              "      <button class=\"colab-df-quickchart\" onclick=\"quickchart('df-c2c4a722-7852-48f0-a4b5-bfca71cd6790')\"\n",
              "                title=\"Suggest charts\"\n",
              "                style=\"display:none;\">\n",
              "\n",
              "<svg xmlns=\"http://www.w3.org/2000/svg\" height=\"24px\"viewBox=\"0 0 24 24\"\n",
              "     width=\"24px\">\n",
              "    <g>\n",
              "        <path d=\"M19 3H5c-1.1 0-2 .9-2 2v14c0 1.1.9 2 2 2h14c1.1 0 2-.9 2-2V5c0-1.1-.9-2-2-2zM9 17H7v-7h2v7zm4 0h-2V7h2v10zm4 0h-2v-4h2v4z\"/>\n",
              "    </g>\n",
              "</svg>\n",
              "      </button>\n",
              "\n",
              "<style>\n",
              "  .colab-df-quickchart {\n",
              "      --bg-color: #E8F0FE;\n",
              "      --fill-color: #1967D2;\n",
              "      --hover-bg-color: #E2EBFA;\n",
              "      --hover-fill-color: #174EA6;\n",
              "      --disabled-fill-color: #AAA;\n",
              "      --disabled-bg-color: #DDD;\n",
              "  }\n",
              "\n",
              "  [theme=dark] .colab-df-quickchart {\n",
              "      --bg-color: #3B4455;\n",
              "      --fill-color: #D2E3FC;\n",
              "      --hover-bg-color: #434B5C;\n",
              "      --hover-fill-color: #FFFFFF;\n",
              "      --disabled-bg-color: #3B4455;\n",
              "      --disabled-fill-color: #666;\n",
              "  }\n",
              "\n",
              "  .colab-df-quickchart {\n",
              "    background-color: var(--bg-color);\n",
              "    border: none;\n",
              "    border-radius: 50%;\n",
              "    cursor: pointer;\n",
              "    display: none;\n",
              "    fill: var(--fill-color);\n",
              "    height: 32px;\n",
              "    padding: 0;\n",
              "    width: 32px;\n",
              "  }\n",
              "\n",
              "  .colab-df-quickchart:hover {\n",
              "    background-color: var(--hover-bg-color);\n",
              "    box-shadow: 0 1px 2px rgba(60, 64, 67, 0.3), 0 1px 3px 1px rgba(60, 64, 67, 0.15);\n",
              "    fill: var(--button-hover-fill-color);\n",
              "  }\n",
              "\n",
              "  .colab-df-quickchart-complete:disabled,\n",
              "  .colab-df-quickchart-complete:disabled:hover {\n",
              "    background-color: var(--disabled-bg-color);\n",
              "    fill: var(--disabled-fill-color);\n",
              "    box-shadow: none;\n",
              "  }\n",
              "\n",
              "  .colab-df-spinner {\n",
              "    border: 2px solid var(--fill-color);\n",
              "    border-color: transparent;\n",
              "    border-bottom-color: var(--fill-color);\n",
              "    animation:\n",
              "      spin 1s steps(1) infinite;\n",
              "  }\n",
              "\n",
              "  @keyframes spin {\n",
              "    0% {\n",
              "      border-color: transparent;\n",
              "      border-bottom-color: var(--fill-color);\n",
              "      border-left-color: var(--fill-color);\n",
              "    }\n",
              "    20% {\n",
              "      border-color: transparent;\n",
              "      border-left-color: var(--fill-color);\n",
              "      border-top-color: var(--fill-color);\n",
              "    }\n",
              "    30% {\n",
              "      border-color: transparent;\n",
              "      border-left-color: var(--fill-color);\n",
              "      border-top-color: var(--fill-color);\n",
              "      border-right-color: var(--fill-color);\n",
              "    }\n",
              "    40% {\n",
              "      border-color: transparent;\n",
              "      border-right-color: var(--fill-color);\n",
              "      border-top-color: var(--fill-color);\n",
              "    }\n",
              "    60% {\n",
              "      border-color: transparent;\n",
              "      border-right-color: var(--fill-color);\n",
              "    }\n",
              "    80% {\n",
              "      border-color: transparent;\n",
              "      border-right-color: var(--fill-color);\n",
              "      border-bottom-color: var(--fill-color);\n",
              "    }\n",
              "    90% {\n",
              "      border-color: transparent;\n",
              "      border-bottom-color: var(--fill-color);\n",
              "    }\n",
              "  }\n",
              "</style>\n",
              "\n",
              "      <script>\n",
              "        async function quickchart(key) {\n",
              "          const quickchartButtonEl =\n",
              "            document.querySelector('#' + key + ' button');\n",
              "          quickchartButtonEl.disabled = true;  // To prevent multiple clicks.\n",
              "          quickchartButtonEl.classList.add('colab-df-spinner');\n",
              "          try {\n",
              "            const charts = await google.colab.kernel.invokeFunction(\n",
              "                'suggestCharts', [key], {});\n",
              "          } catch (error) {\n",
              "            console.error('Error during call to suggestCharts:', error);\n",
              "          }\n",
              "          quickchartButtonEl.classList.remove('colab-df-spinner');\n",
              "          quickchartButtonEl.classList.add('colab-df-quickchart-complete');\n",
              "        }\n",
              "        (() => {\n",
              "          let quickchartButtonEl =\n",
              "            document.querySelector('#df-c2c4a722-7852-48f0-a4b5-bfca71cd6790 button');\n",
              "          quickchartButtonEl.style.display =\n",
              "            google.colab.kernel.accessAllowed ? 'block' : 'none';\n",
              "        })();\n",
              "      </script>\n",
              "    </div>\n",
              "\n",
              "    </div>\n",
              "  </div>\n"
            ],
            "application/vnd.google.colaboratory.intrinsic+json": {
              "type": "dataframe",
              "variable_name": "df",
              "summary": "{\n  \"name\": \"df\",\n  \"rows\": 15500,\n  \"fields\": [\n    {\n      \"column\": \"patient_id\",\n      \"properties\": {\n        \"dtype\": \"number\",\n        \"std\": 144,\n        \"min\": 1,\n        \"max\": 500,\n        \"num_unique_values\": 500,\n        \"samples\": [\n          362,\n          74,\n          375\n        ],\n        \"semantic_type\": \"\",\n        \"description\": \"\"\n      }\n    },\n    {\n      \"column\": \"date\",\n      \"properties\": {\n        \"dtype\": \"date\",\n        \"min\": \"2025-01-01 00:00:00\",\n        \"max\": \"2025-01-31 00:00:00\",\n        \"num_unique_values\": 31,\n        \"samples\": [\n          \"2025-01-28 00:00:00\",\n          \"2025-01-16 00:00:00\",\n          \"2025-01-24 00:00:00\"\n        ],\n        \"semantic_type\": \"\",\n        \"description\": \"\"\n      }\n    },\n    {\n      \"column\": \"spo2\",\n      \"properties\": {\n        \"dtype\": \"number\",\n        \"std\": 1.5054473312111107,\n        \"min\": 90.4,\n        \"max\": 103.2,\n        \"num_unique_values\": 108,\n        \"samples\": [\n          91.5,\n          98.2,\n          94.1\n        ],\n        \"semantic_type\": \"\",\n        \"description\": \"\"\n      }\n    },\n    {\n      \"column\": \"heart_rate\",\n      \"properties\": {\n        \"dtype\": \"number\",\n        \"std\": 12.061101263039067,\n        \"min\": 35.6,\n        \"max\": 124.0,\n        \"num_unique_values\": 703,\n        \"samples\": [\n          96.5,\n          65.6,\n          77.9\n        ],\n        \"semantic_type\": \"\",\n        \"description\": \"\"\n      }\n    },\n    {\n      \"column\": \"temperature\",\n      \"properties\": {\n        \"dtype\": \"number\",\n        \"std\": 0.40346856042658524,\n        \"min\": 35.1,\n        \"max\": 38.8,\n        \"num_unique_values\": 36,\n        \"samples\": [\n          38.5,\n          37.5,\n          35.4\n        ],\n        \"semantic_type\": \"\",\n        \"description\": \"\"\n      }\n    },\n    {\n      \"column\": \"sys_bp\",\n      \"properties\": {\n        \"dtype\": \"number\",\n        \"std\": 14.977981157930179,\n        \"min\": 61.1,\n        \"max\": 182.4,\n        \"num_unique_values\": 862,\n        \"samples\": [\n          172.0,\n          139.1,\n          117.4\n        ],\n        \"semantic_type\": \"\",\n        \"description\": \"\"\n      }\n    },\n    {\n      \"column\": \"dia_bp\",\n      \"properties\": {\n        \"dtype\": \"number\",\n        \"std\": 10.06104271322045,\n        \"min\": 39.4,\n        \"max\": 118.6,\n        \"num_unique_values\": 613,\n        \"samples\": [\n          91.6,\n          74.3,\n          67.3\n        ],\n        \"semantic_type\": \"\",\n        \"description\": \"\"\n      }\n    },\n    {\n      \"column\": \"weight\",\n      \"properties\": {\n        \"dtype\": \"number\",\n        \"std\": 8.052715860077535,\n        \"min\": 41.8,\n        \"max\": 99.9,\n        \"num_unique_values\": 496,\n        \"samples\": [\n          87.3,\n          60.7,\n          79.5\n        ],\n        \"semantic_type\": \"\",\n        \"description\": \"\"\n      }\n    },\n    {\n      \"column\": \"glucose\",\n      \"properties\": {\n        \"dtype\": \"number\",\n        \"std\": 1.2125053116852116,\n        \"min\": 0.8,\n        \"max\": 10.4,\n        \"num_unique_values\": 89,\n        \"samples\": [\n          10.1,\n          6.6,\n          3.7\n        ],\n        \"semantic_type\": \"\",\n        \"description\": \"\"\n      }\n    }\n  ]\n}"
            }
          },
          "metadata": {},
          "execution_count": 4
        }
      ]
    },
    {
      "cell_type": "markdown",
      "source": [
        "##1.3 Adding Clinical Diversity to Dataset"
      ],
      "metadata": {
        "id": "sHzceeUAHaa_"
      }
    },
    {
      "cell_type": "markdown",
      "source": [
        "Adds Clinical Diversity\n",
        "\n",
        "1. Patient-level heterogeneity\n",
        "* 40 COPD, 75 HTN, 70 DM, rest baseline (overlaps allowed with +INF tag).\n",
        "\n",
        "2. Event-level heterogeneity\n",
        "*  ~775 row-level infection spikes sprinkled across any patient.\n",
        "3. Prediction task becomes richer\n",
        "* Low SpO₂ and high HR appear both chronically (COPD) and acutely (infection).\n",
        "* Blood-pressure and glucose outliers add diversity for anomaly detection."
      ],
      "metadata": {
        "id": "WbOX0N1-COMe"
      }
    },
    {
      "cell_type": "markdown",
      "source": [
        "| Cohort / episode            | Prevalence                      | What changes                                      | Why                                                           |\n",
        "| --------------------------- | ------------------------------- | ------------------------------------------------- | ------------------------------------------------------------- |\n",
        "| **Chronic COPD / hypoxia**  | 8 % of patients                 | baseline SpO₂ −6 %, HR +6 bpm                     | chronically low O₂, mild tachycardia                          |\n",
        "| **Essential hypertension**  | 15 % of patients                | SBP +25 mmHg, DBP +12 mmHg                        | stable high BP                                                |\n",
        "| **Type-2 diabetes**         | 14 % of patients                | baseline glucose +3 mmol/L                        | raised glucose all month                                      |\n",
        "| **Acute infection episode** | 5 % of *all* rows (random days) | Temp +1.8 °C, HR +25 bpm, SpO₂ −3 %, SBP −10 mmHg | fever spike with tachycardia, mild hypotension / desaturation |\n"
      ],
      "metadata": {
        "id": "LhJnHMCmC-Vr"
      }
    },
    {
      "cell_type": "code",
      "source": [
        "# ─── Add clinical diversity ──────────────────────────────────────────\n",
        "rng = np.random.default_rng(123)     # new seed keeps base vitals unchanged\n",
        "\n",
        "df[\"profile\"] = \"BASE\"               # default tag\n",
        "\n",
        "# 1) COPD cohort  (8 % of 500 patients ≈ 40)\n",
        "copd_patients = rng.choice(df[\"patient_id\"].unique(),\n",
        "                           size=int(0.08*500), replace=False)\n",
        "mask = df[\"patient_id\"].isin(copd_patients)\n",
        "df.loc[mask, \"spo2\"]        -= 6\n",
        "df.loc[mask, \"heart_rate\"]  += 6\n",
        "df.loc[mask, \"profile\"]      = \"COPD\"\n",
        "\n",
        "# 2) Hypertension cohort  (15 %)\n",
        "htn_patients = rng.choice(np.setdiff1d(df[\"patient_id\"].unique(), copd_patients),\n",
        "                          size=int(0.15*500), replace=False)\n",
        "mask = df[\"patient_id\"].isin(htn_patients)\n",
        "df.loc[mask, \"sys_bp\"]      += 25\n",
        "df.loc[mask, \"dia_bp\"]      += 12\n",
        "df.loc[mask & (df[\"profile\"]==\"BASE\"), \"profile\"] = \"HTN\"\n",
        "\n",
        "# 3) Diabetes cohort  (14 %)\n",
        "dm_patients = rng.choice(np.setdiff1d(df[\"patient_id\"].unique(),\n",
        "                                      np.r_[copd_patients, htn_patients]),\n",
        "                         size=int(0.14*500), replace=False)\n",
        "mask = df[\"patient_id\"].isin(dm_patients)\n",
        "df.loc[mask, \"glucose\"]     += 3\n",
        "df.loc[mask & (df[\"profile\"]==\"BASE\"), \"profile\"] = \"DM\"\n",
        "\n",
        "# 4) Random acute infection spikes (5 % of rows)\n",
        "acute_mask = rng.random(len(df)) < 0.05\n",
        "df.loc[acute_mask, [\"temperature\",\"heart_rate\",\"spo2\",\"sys_bp\"]] += [1.8, 25, -3, -10]\n",
        "df.loc[acute_mask, \"profile\"] = df.loc[acute_mask, \"profile\"].astype(str) + \"+INF\"\n",
        "\n",
        "# Clip physiological bounds to keep values realistic\n",
        "df[\"spo2\"]  = df[\"spo2\"].clip(lower=70, upper=100)\n",
        "df[\"sys_bp\"] = df[\"sys_bp\"].clip(80, 220)\n",
        "df[\"dia_bp\"] = df[\"dia_bp\"].clip(40, 140)\n",
        "df[\"temperature\"] = df[\"temperature\"].clip(34.0, 42.0)\n",
        "df[\"glucose\"] = df[\"glucose\"].clip(3.0, 20.0)\n",
        "\n",
        "print(df[\"profile\"].value_counts().head())\n",
        "df.head()\n"
      ],
      "metadata": {
        "colab": {
          "base_uri": "https://localhost:8080/",
          "height": 327
        },
        "id": "SybunguGCNZn",
        "outputId": "dfae8d05-c4e4-4f9e-d15a-8d03b19e0064"
      },
      "execution_count": 6,
      "outputs": [
        {
          "output_type": "stream",
          "name": "stdout",
          "text": [
            "profile\n",
            "BASE        9291\n",
            "HTN         2209\n",
            "DM          2077\n",
            "COPD        1177\n",
            "BASE+INF     474\n",
            "Name: count, dtype: int64\n"
          ]
        },
        {
          "output_type": "execute_result",
          "data": {
            "text/plain": [
              "   patient_id       date  spo2  heart_rate  temperature  sys_bp  dia_bp  \\\n",
              "0           1 2025-01-01  97.5        92.3         36.2   118.8    82.9   \n",
              "1           1 2025-01-02  95.4        91.6         36.7   148.0    84.8   \n",
              "2           1 2025-01-03  98.1        84.8         36.9   105.7    84.8   \n",
              "3           1 2025-01-04  98.4        91.0         37.3   133.0    81.2   \n",
              "4           1 2025-01-05  94.1        90.2         36.5   135.4    91.9   \n",
              "\n",
              "   weight  glucose profile  \n",
              "0    66.6      6.3    BASE  \n",
              "1    67.1      6.3    BASE  \n",
              "2    55.8      6.1    BASE  \n",
              "3    62.0      4.8    BASE  \n",
              "4    91.4      4.8    BASE  "
            ],
            "text/html": [
              "\n",
              "  <div id=\"df-47c5a771-a322-4f3b-b02c-4eddb9e83821\" class=\"colab-df-container\">\n",
              "    <div>\n",
              "<style scoped>\n",
              "    .dataframe tbody tr th:only-of-type {\n",
              "        vertical-align: middle;\n",
              "    }\n",
              "\n",
              "    .dataframe tbody tr th {\n",
              "        vertical-align: top;\n",
              "    }\n",
              "\n",
              "    .dataframe thead th {\n",
              "        text-align: right;\n",
              "    }\n",
              "</style>\n",
              "<table border=\"1\" class=\"dataframe\">\n",
              "  <thead>\n",
              "    <tr style=\"text-align: right;\">\n",
              "      <th></th>\n",
              "      <th>patient_id</th>\n",
              "      <th>date</th>\n",
              "      <th>spo2</th>\n",
              "      <th>heart_rate</th>\n",
              "      <th>temperature</th>\n",
              "      <th>sys_bp</th>\n",
              "      <th>dia_bp</th>\n",
              "      <th>weight</th>\n",
              "      <th>glucose</th>\n",
              "      <th>profile</th>\n",
              "    </tr>\n",
              "  </thead>\n",
              "  <tbody>\n",
              "    <tr>\n",
              "      <th>0</th>\n",
              "      <td>1</td>\n",
              "      <td>2025-01-01</td>\n",
              "      <td>97.5</td>\n",
              "      <td>92.3</td>\n",
              "      <td>36.2</td>\n",
              "      <td>118.8</td>\n",
              "      <td>82.9</td>\n",
              "      <td>66.6</td>\n",
              "      <td>6.3</td>\n",
              "      <td>BASE</td>\n",
              "    </tr>\n",
              "    <tr>\n",
              "      <th>1</th>\n",
              "      <td>1</td>\n",
              "      <td>2025-01-02</td>\n",
              "      <td>95.4</td>\n",
              "      <td>91.6</td>\n",
              "      <td>36.7</td>\n",
              "      <td>148.0</td>\n",
              "      <td>84.8</td>\n",
              "      <td>67.1</td>\n",
              "      <td>6.3</td>\n",
              "      <td>BASE</td>\n",
              "    </tr>\n",
              "    <tr>\n",
              "      <th>2</th>\n",
              "      <td>1</td>\n",
              "      <td>2025-01-03</td>\n",
              "      <td>98.1</td>\n",
              "      <td>84.8</td>\n",
              "      <td>36.9</td>\n",
              "      <td>105.7</td>\n",
              "      <td>84.8</td>\n",
              "      <td>55.8</td>\n",
              "      <td>6.1</td>\n",
              "      <td>BASE</td>\n",
              "    </tr>\n",
              "    <tr>\n",
              "      <th>3</th>\n",
              "      <td>1</td>\n",
              "      <td>2025-01-04</td>\n",
              "      <td>98.4</td>\n",
              "      <td>91.0</td>\n",
              "      <td>37.3</td>\n",
              "      <td>133.0</td>\n",
              "      <td>81.2</td>\n",
              "      <td>62.0</td>\n",
              "      <td>4.8</td>\n",
              "      <td>BASE</td>\n",
              "    </tr>\n",
              "    <tr>\n",
              "      <th>4</th>\n",
              "      <td>1</td>\n",
              "      <td>2025-01-05</td>\n",
              "      <td>94.1</td>\n",
              "      <td>90.2</td>\n",
              "      <td>36.5</td>\n",
              "      <td>135.4</td>\n",
              "      <td>91.9</td>\n",
              "      <td>91.4</td>\n",
              "      <td>4.8</td>\n",
              "      <td>BASE</td>\n",
              "    </tr>\n",
              "  </tbody>\n",
              "</table>\n",
              "</div>\n",
              "    <div class=\"colab-df-buttons\">\n",
              "\n",
              "  <div class=\"colab-df-container\">\n",
              "    <button class=\"colab-df-convert\" onclick=\"convertToInteractive('df-47c5a771-a322-4f3b-b02c-4eddb9e83821')\"\n",
              "            title=\"Convert this dataframe to an interactive table.\"\n",
              "            style=\"display:none;\">\n",
              "\n",
              "  <svg xmlns=\"http://www.w3.org/2000/svg\" height=\"24px\" viewBox=\"0 -960 960 960\">\n",
              "    <path d=\"M120-120v-720h720v720H120Zm60-500h600v-160H180v160Zm220 220h160v-160H400v160Zm0 220h160v-160H400v160ZM180-400h160v-160H180v160Zm440 0h160v-160H620v160ZM180-180h160v-160H180v160Zm440 0h160v-160H620v160Z\"/>\n",
              "  </svg>\n",
              "    </button>\n",
              "\n",
              "  <style>\n",
              "    .colab-df-container {\n",
              "      display:flex;\n",
              "      gap: 12px;\n",
              "    }\n",
              "\n",
              "    .colab-df-convert {\n",
              "      background-color: #E8F0FE;\n",
              "      border: none;\n",
              "      border-radius: 50%;\n",
              "      cursor: pointer;\n",
              "      display: none;\n",
              "      fill: #1967D2;\n",
              "      height: 32px;\n",
              "      padding: 0 0 0 0;\n",
              "      width: 32px;\n",
              "    }\n",
              "\n",
              "    .colab-df-convert:hover {\n",
              "      background-color: #E2EBFA;\n",
              "      box-shadow: 0px 1px 2px rgba(60, 64, 67, 0.3), 0px 1px 3px 1px rgba(60, 64, 67, 0.15);\n",
              "      fill: #174EA6;\n",
              "    }\n",
              "\n",
              "    .colab-df-buttons div {\n",
              "      margin-bottom: 4px;\n",
              "    }\n",
              "\n",
              "    [theme=dark] .colab-df-convert {\n",
              "      background-color: #3B4455;\n",
              "      fill: #D2E3FC;\n",
              "    }\n",
              "\n",
              "    [theme=dark] .colab-df-convert:hover {\n",
              "      background-color: #434B5C;\n",
              "      box-shadow: 0px 1px 3px 1px rgba(0, 0, 0, 0.15);\n",
              "      filter: drop-shadow(0px 1px 2px rgba(0, 0, 0, 0.3));\n",
              "      fill: #FFFFFF;\n",
              "    }\n",
              "  </style>\n",
              "\n",
              "    <script>\n",
              "      const buttonEl =\n",
              "        document.querySelector('#df-47c5a771-a322-4f3b-b02c-4eddb9e83821 button.colab-df-convert');\n",
              "      buttonEl.style.display =\n",
              "        google.colab.kernel.accessAllowed ? 'block' : 'none';\n",
              "\n",
              "      async function convertToInteractive(key) {\n",
              "        const element = document.querySelector('#df-47c5a771-a322-4f3b-b02c-4eddb9e83821');\n",
              "        const dataTable =\n",
              "          await google.colab.kernel.invokeFunction('convertToInteractive',\n",
              "                                                    [key], {});\n",
              "        if (!dataTable) return;\n",
              "\n",
              "        const docLinkHtml = 'Like what you see? Visit the ' +\n",
              "          '<a target=\"_blank\" href=https://colab.research.google.com/notebooks/data_table.ipynb>data table notebook</a>'\n",
              "          + ' to learn more about interactive tables.';\n",
              "        element.innerHTML = '';\n",
              "        dataTable['output_type'] = 'display_data';\n",
              "        await google.colab.output.renderOutput(dataTable, element);\n",
              "        const docLink = document.createElement('div');\n",
              "        docLink.innerHTML = docLinkHtml;\n",
              "        element.appendChild(docLink);\n",
              "      }\n",
              "    </script>\n",
              "  </div>\n",
              "\n",
              "\n",
              "    <div id=\"df-2fccaa41-ab5c-403a-9af2-bd10368a9c23\">\n",
              "      <button class=\"colab-df-quickchart\" onclick=\"quickchart('df-2fccaa41-ab5c-403a-9af2-bd10368a9c23')\"\n",
              "                title=\"Suggest charts\"\n",
              "                style=\"display:none;\">\n",
              "\n",
              "<svg xmlns=\"http://www.w3.org/2000/svg\" height=\"24px\"viewBox=\"0 0 24 24\"\n",
              "     width=\"24px\">\n",
              "    <g>\n",
              "        <path d=\"M19 3H5c-1.1 0-2 .9-2 2v14c0 1.1.9 2 2 2h14c1.1 0 2-.9 2-2V5c0-1.1-.9-2-2-2zM9 17H7v-7h2v7zm4 0h-2V7h2v10zm4 0h-2v-4h2v4z\"/>\n",
              "    </g>\n",
              "</svg>\n",
              "      </button>\n",
              "\n",
              "<style>\n",
              "  .colab-df-quickchart {\n",
              "      --bg-color: #E8F0FE;\n",
              "      --fill-color: #1967D2;\n",
              "      --hover-bg-color: #E2EBFA;\n",
              "      --hover-fill-color: #174EA6;\n",
              "      --disabled-fill-color: #AAA;\n",
              "      --disabled-bg-color: #DDD;\n",
              "  }\n",
              "\n",
              "  [theme=dark] .colab-df-quickchart {\n",
              "      --bg-color: #3B4455;\n",
              "      --fill-color: #D2E3FC;\n",
              "      --hover-bg-color: #434B5C;\n",
              "      --hover-fill-color: #FFFFFF;\n",
              "      --disabled-bg-color: #3B4455;\n",
              "      --disabled-fill-color: #666;\n",
              "  }\n",
              "\n",
              "  .colab-df-quickchart {\n",
              "    background-color: var(--bg-color);\n",
              "    border: none;\n",
              "    border-radius: 50%;\n",
              "    cursor: pointer;\n",
              "    display: none;\n",
              "    fill: var(--fill-color);\n",
              "    height: 32px;\n",
              "    padding: 0;\n",
              "    width: 32px;\n",
              "  }\n",
              "\n",
              "  .colab-df-quickchart:hover {\n",
              "    background-color: var(--hover-bg-color);\n",
              "    box-shadow: 0 1px 2px rgba(60, 64, 67, 0.3), 0 1px 3px 1px rgba(60, 64, 67, 0.15);\n",
              "    fill: var(--button-hover-fill-color);\n",
              "  }\n",
              "\n",
              "  .colab-df-quickchart-complete:disabled,\n",
              "  .colab-df-quickchart-complete:disabled:hover {\n",
              "    background-color: var(--disabled-bg-color);\n",
              "    fill: var(--disabled-fill-color);\n",
              "    box-shadow: none;\n",
              "  }\n",
              "\n",
              "  .colab-df-spinner {\n",
              "    border: 2px solid var(--fill-color);\n",
              "    border-color: transparent;\n",
              "    border-bottom-color: var(--fill-color);\n",
              "    animation:\n",
              "      spin 1s steps(1) infinite;\n",
              "  }\n",
              "\n",
              "  @keyframes spin {\n",
              "    0% {\n",
              "      border-color: transparent;\n",
              "      border-bottom-color: var(--fill-color);\n",
              "      border-left-color: var(--fill-color);\n",
              "    }\n",
              "    20% {\n",
              "      border-color: transparent;\n",
              "      border-left-color: var(--fill-color);\n",
              "      border-top-color: var(--fill-color);\n",
              "    }\n",
              "    30% {\n",
              "      border-color: transparent;\n",
              "      border-left-color: var(--fill-color);\n",
              "      border-top-color: var(--fill-color);\n",
              "      border-right-color: var(--fill-color);\n",
              "    }\n",
              "    40% {\n",
              "      border-color: transparent;\n",
              "      border-right-color: var(--fill-color);\n",
              "      border-top-color: var(--fill-color);\n",
              "    }\n",
              "    60% {\n",
              "      border-color: transparent;\n",
              "      border-right-color: var(--fill-color);\n",
              "    }\n",
              "    80% {\n",
              "      border-color: transparent;\n",
              "      border-right-color: var(--fill-color);\n",
              "      border-bottom-color: var(--fill-color);\n",
              "    }\n",
              "    90% {\n",
              "      border-color: transparent;\n",
              "      border-bottom-color: var(--fill-color);\n",
              "    }\n",
              "  }\n",
              "</style>\n",
              "\n",
              "      <script>\n",
              "        async function quickchart(key) {\n",
              "          const quickchartButtonEl =\n",
              "            document.querySelector('#' + key + ' button');\n",
              "          quickchartButtonEl.disabled = true;  // To prevent multiple clicks.\n",
              "          quickchartButtonEl.classList.add('colab-df-spinner');\n",
              "          try {\n",
              "            const charts = await google.colab.kernel.invokeFunction(\n",
              "                'suggestCharts', [key], {});\n",
              "          } catch (error) {\n",
              "            console.error('Error during call to suggestCharts:', error);\n",
              "          }\n",
              "          quickchartButtonEl.classList.remove('colab-df-spinner');\n",
              "          quickchartButtonEl.classList.add('colab-df-quickchart-complete');\n",
              "        }\n",
              "        (() => {\n",
              "          let quickchartButtonEl =\n",
              "            document.querySelector('#df-2fccaa41-ab5c-403a-9af2-bd10368a9c23 button');\n",
              "          quickchartButtonEl.style.display =\n",
              "            google.colab.kernel.accessAllowed ? 'block' : 'none';\n",
              "        })();\n",
              "      </script>\n",
              "    </div>\n",
              "\n",
              "    </div>\n",
              "  </div>\n"
            ],
            "application/vnd.google.colaboratory.intrinsic+json": {
              "type": "dataframe",
              "variable_name": "df",
              "summary": "{\n  \"name\": \"df\",\n  \"rows\": 15500,\n  \"fields\": [\n    {\n      \"column\": \"patient_id\",\n      \"properties\": {\n        \"dtype\": \"number\",\n        \"std\": 144,\n        \"min\": 1,\n        \"max\": 500,\n        \"num_unique_values\": 500,\n        \"samples\": [\n          362,\n          74,\n          375\n        ],\n        \"semantic_type\": \"\",\n        \"description\": \"\"\n      }\n    },\n    {\n      \"column\": \"date\",\n      \"properties\": {\n        \"dtype\": \"date\",\n        \"min\": \"2025-01-01 00:00:00\",\n        \"max\": \"2025-01-31 00:00:00\",\n        \"num_unique_values\": 31,\n        \"samples\": [\n          \"2025-01-28 00:00:00\",\n          \"2025-01-16 00:00:00\",\n          \"2025-01-24 00:00:00\"\n        ],\n        \"semantic_type\": \"\",\n        \"description\": \"\"\n      }\n    },\n    {\n      \"column\": \"spo2\",\n      \"properties\": {\n        \"dtype\": \"number\",\n        \"std\": 3.7992314625870307,\n        \"min\": 76.3,\n        \"max\": 100.0,\n        \"num_unique_values\": 223,\n        \"samples\": [\n          98.3,\n          94.6,\n          94.2\n        ],\n        \"semantic_type\": \"\",\n        \"description\": \"\"\n      }\n    },\n    {\n      \"column\": \"heart_rate\",\n      \"properties\": {\n        \"dtype\": \"number\",\n        \"std\": 16.433010159635337,\n        \"min\": 37.3,\n        \"max\": 167.5,\n        \"num_unique_values\": 1018,\n        \"samples\": [\n          101.1,\n          121.5,\n          86.6\n        ],\n        \"semantic_type\": \"\",\n        \"description\": \"\"\n      }\n    },\n    {\n      \"column\": \"temperature\",\n      \"properties\": {\n        \"dtype\": \"number\",\n        \"std\": 0.8740397028975687,\n        \"min\": 35.1,\n        \"max\": 41.39999999999999,\n        \"num_unique_values\": 58,\n        \"samples\": [\n          36.2,\n          37.2,\n          40.49999999999999\n        ],\n        \"semantic_type\": \"\",\n        \"description\": \"\"\n      }\n    },\n    {\n      \"column\": \"sys_bp\",\n      \"properties\": {\n        \"dtype\": \"number\",\n        \"std\": 23.72352815004421,\n        \"min\": 80.0,\n        \"max\": 220.0,\n        \"num_unique_values\": 1227,\n        \"samples\": [\n          158.9,\n          120.8,\n          169.2\n        ],\n        \"semantic_type\": \"\",\n        \"description\": \"\"\n      }\n    },\n    {\n      \"column\": \"dia_bp\",\n      \"properties\": {\n        \"dtype\": \"number\",\n        \"std\": 13.224373069819565,\n        \"min\": 40.0,\n        \"max\": 133.0,\n        \"num_unique_values\": 773,\n        \"samples\": [\n          69.6,\n          98.6,\n          57.6\n        ],\n        \"semantic_type\": \"\",\n        \"description\": \"\"\n      }\n    },\n    {\n      \"column\": \"weight\",\n      \"properties\": {\n        \"dtype\": \"number\",\n        \"std\": 8.052715860077535,\n        \"min\": 41.8,\n        \"max\": 99.9,\n        \"num_unique_values\": 496,\n        \"samples\": [\n          87.3,\n          60.7,\n          79.5\n        ],\n        \"semantic_type\": \"\",\n        \"description\": \"\"\n      }\n    },\n    {\n      \"column\": \"glucose\",\n      \"properties\": {\n        \"dtype\": \"number\",\n        \"std\": 2.415570767113708,\n        \"min\": 3.0,\n        \"max\": 15.4,\n        \"num_unique_values\": 122,\n        \"samples\": [\n          4.5,\n          12.9,\n          10.5\n        ],\n        \"semantic_type\": \"\",\n        \"description\": \"\"\n      }\n    },\n    {\n      \"column\": \"profile\",\n      \"properties\": {\n        \"dtype\": \"category\",\n        \"num_unique_values\": 8,\n        \"samples\": [\n          \"HTN\",\n          \"BASE+INF\",\n          \"BASE\"\n        ],\n        \"semantic_type\": \"\",\n        \"description\": \"\"\n      }\n    }\n  ]\n}"
            }
          },
          "metadata": {},
          "execution_count": 6
        }
      ]
    },
    {
      "cell_type": "markdown",
      "source": [
        "| `profile` value | How rows got this label                                                                                                     | What it represents clinically                                        | Typical changes you injected                                                                        |\n",
        "| --------------- | --------------------------------------------------------------------------------------------------------------------------- | -------------------------------------------------------------------- | --------------------------------------------------------------------------------------------------- |\n",
        "| **BASE**        | Patient belongs to no chronic cohort *and* is not in an acute-infection row                                                 | “Healthy baseline” adult                                             | All vitals drawn from the original Gaussian distributions you set (SpO₂ ≈ 97 %, HR ≈ 80 bpm, etc.). |\n",
        "| **HTN**         | Patient was selected into the *hypertension* cohort (≈ 15 % of patients)                                                    | Chronic essential hypertension                                       | Systolic BP + 25 mmHg, Diastolic BP + 12 mmHg across the whole month. Other vitals unchanged.       |\n",
        "| **DM**          | Patient chosen for the *diabetes* cohort (≈ 14 %)                                                                           | Type-2 diabetes with persistently elevated glucose                   | Glucose + 3 mmol/L for every day.                                                                   |\n",
        "| **COPD**        | Patient in the *COPD / chronic hypoxia* cohort (≈ 8 %)                                                                      | Patients with chronic obstructive pulmonary disease                  | SpO₂ − 6 %, HR + 6 bpm baseline.                                                                    |\n",
        "| **BASE+INF**    | Row was randomly flagged by the acute-infection mask (< 5 % of *all* rows) **and** the patient was otherwise a BASE patient | A transient febrile/infective episode in an otherwise healthy person | Temp + 1.8 °C, HR + 25 bpm, SpO₂ − 3 %, SBP − 10 mmHg **only on that date**.                        |\n"
      ],
      "metadata": {
        "id": "Yf-t4D7vHPtT"
      }
    },
    {
      "cell_type": "code",
      "source": [
        "df.to_csv(\"final_patient_dataset.csv\", index=False)"
      ],
      "metadata": {
        "id": "e0sOUiJ9JCEE"
      },
      "execution_count": 21,
      "outputs": []
    },
    {
      "cell_type": "code",
      "source": [
        "from google.colab import files\n",
        "files.download(\"final_patient_dataset.csv\")"
      ],
      "metadata": {
        "colab": {
          "base_uri": "https://localhost:8080/",
          "height": 17
        },
        "id": "qho3Uql7JC7K",
        "outputId": "0f9ad67a-d3d2-4131-87ce-a342f2db99d6"
      },
      "execution_count": 22,
      "outputs": [
        {
          "output_type": "display_data",
          "data": {
            "text/plain": [
              "<IPython.core.display.Javascript object>"
            ],
            "application/javascript": [
              "\n",
              "    async function download(id, filename, size) {\n",
              "      if (!google.colab.kernel.accessAllowed) {\n",
              "        return;\n",
              "      }\n",
              "      const div = document.createElement('div');\n",
              "      const label = document.createElement('label');\n",
              "      label.textContent = `Downloading \"${filename}\": `;\n",
              "      div.appendChild(label);\n",
              "      const progress = document.createElement('progress');\n",
              "      progress.max = size;\n",
              "      div.appendChild(progress);\n",
              "      document.body.appendChild(div);\n",
              "\n",
              "      const buffers = [];\n",
              "      let downloaded = 0;\n",
              "\n",
              "      const channel = await google.colab.kernel.comms.open(id);\n",
              "      // Send a message to notify the kernel that we're ready.\n",
              "      channel.send({})\n",
              "\n",
              "      for await (const message of channel.messages) {\n",
              "        // Send a message to notify the kernel that we're ready.\n",
              "        channel.send({})\n",
              "        if (message.buffers) {\n",
              "          for (const buffer of message.buffers) {\n",
              "            buffers.push(buffer);\n",
              "            downloaded += buffer.byteLength;\n",
              "            progress.value = downloaded;\n",
              "          }\n",
              "        }\n",
              "      }\n",
              "      const blob = new Blob(buffers, {type: 'application/binary'});\n",
              "      const a = document.createElement('a');\n",
              "      a.href = window.URL.createObjectURL(blob);\n",
              "      a.download = filename;\n",
              "      div.appendChild(a);\n",
              "      a.click();\n",
              "      div.remove();\n",
              "    }\n",
              "  "
            ]
          },
          "metadata": {}
        },
        {
          "output_type": "display_data",
          "data": {
            "text/plain": [
              "<IPython.core.display.Javascript object>"
            ],
            "application/javascript": [
              "download(\"download_d5c002ff-7292-4075-bdab-7747d1252487\", \"final_patient_dataset.csv\", 1033431)"
            ]
          },
          "metadata": {}
        }
      ]
    },
    {
      "cell_type": "markdown",
      "source": [
        "##1.4  Generate Clinical Notes"
      ],
      "metadata": {
        "id": "rUeHDg9LAhh1"
      }
    },
    {
      "cell_type": "markdown",
      "source": [
        "To simulate real-world documentation, clinical notes were generated using two language models: GPT-2 medium (for the first 2805 rows) and DistilGPT2 (for the remaining records, prioritizing speed). Prompts were built using SOAP-style structured vital readings, generating concise ED triage narratives."
      ],
      "metadata": {
        "id": "Cj8T8b0qTbHG"
      }
    },
    {
      "cell_type": "markdown",
      "source": [
        "### 1.4.1 Generate Clinical Notes using GPT2-medium"
      ],
      "metadata": {
        "id": "Wcc03DQF8b3x"
      }
    },
    {
      "cell_type": "code",
      "source": [
        "# --- 3.x  Generate GPT-2 clinical notes for *all* rows -------------------------\n",
        "\n",
        "import torch, pandas as pd, numpy as np, tqdm\n",
        "from transformers import AutoTokenizer, AutoModelForCausalLM\n",
        "\n",
        "MODEL_NAME   = \"gpt2-medium\"\n",
        "BATCH_SIZE   = 64            # ~= 0.9 GB RAM / batch on CPU\n",
        "MAX_NEW      = 40            # → ~2 short sentences\n",
        "TEMP, TOP_P  = 0.9, 0.95     # decoding settings\n",
        "\n",
        "# ↳ 1.  Load model + tokenizer (CPU)  -----------------------------------------\n",
        "tok = AutoTokenizer.from_pretrained(MODEL_NAME)\n",
        "tok.pad_token    = tok.eos_token             # add a PAD token if not present\n",
        "tok.padding_side = \"left\"                    # **critical** for decoder-only models\n",
        "\n",
        "model = AutoModelForCausalLM.from_pretrained(MODEL_NAME)\n",
        "model.config.pad_token_id = tok.pad_token_id # keep hf happy\n",
        "model.eval().to(\"cpu\")                        # change to \"cuda\" if you switch GPU\n",
        "\n",
        "# ↳ 2.  Prompt builder – returns one string per row  --------------------------\n",
        "def build_prompt(row) -> str:\n",
        "    safe = lambda v,f=\"{:.1f}\": f.format(v) if pd.notna(v) else \"--\"\n",
        "    return (\n",
        "        f\"F/S: Pt c/o none.\\n\"\n",
        "        f\"V/S SpO2 {safe(row.spo2)} %, HR {safe(row.heart_rate)} bpm, \"\n",
        "        f\"Temp {safe(row.temperature)} °C, BP {safe(row.sys_bp)}/{safe(row.dia_bp)}.\\n\"\n",
        "        f\"FSBG {safe(row.glucose)} mmol/L.\\n\"\n",
        "        \"A/P:\"\n",
        "    )\n",
        "\n",
        "SYSTEM = (\n",
        "    \"You are documenting an ED triage encounter in 1–2 concise sentences. \"\n",
        "    \"Use SOAP abbreviations (c/o, NAD, q4h, etc.) and include vitals.\\n\\n\"\n",
        ")\n",
        "\n",
        "# make the full prompt list\n",
        "prompts = (SYSTEM + df.apply(build_prompt, axis=1)).tolist()\n",
        "n_rows  = len(prompts)\n",
        "n_batches = int(np.ceil(n_rows / BATCH_SIZE))\n",
        "\n",
        "# holders\n",
        "notes, prompt_log = [\"\"]*n_rows, []\n",
        "\n",
        "# ↳ 3.  Batched generation loop  ---------------------------------------------\n",
        "for b in tqdm.tqdm(range(n_batches), desc=\"GPT-2 clinical notes\"):\n",
        "    batch = prompts[b*BATCH_SIZE:(b+1)*BATCH_SIZE]\n",
        "\n",
        "    # encode + pad (LEFT-padding!)\n",
        "    ids = tok(batch, return_tensors=\"pt\", padding=True).to(model.device)[\"input_ids\"]\n",
        "\n",
        "    with torch.no_grad():\n",
        "        out = model.generate(\n",
        "            ids, max_new_tokens=MAX_NEW,\n",
        "            do_sample=True, temperature=TEMP, top_p=TOP_P,\n",
        "            pad_token_id=tok.eos_token_id\n",
        "        )\n",
        "\n",
        "    decoded = tok.batch_decode(out, skip_special_tokens=True)\n",
        "    for idx, full in enumerate(decoded):\n",
        "        note  = full.split(\"A/P:\")[-1].strip()   # keep only model completion\n",
        "        row_i = b*BATCH_SIZE + idx\n",
        "        notes[row_i]  = note\n",
        "        prompt_log.append({\"row\": row_i, \"prompt\": batch[idx], \"note\": note})\n",
        "\n",
        "# ↳ 4.  Save + attach to dataframe  ------------------------------------------\n",
        "df[\"note\"] = notes\n",
        "pd.DataFrame(prompt_log).to_csv(\"prompt_log_full.csv\", index=False)\n",
        "df.to_csv(\"synthetic_patient_month_with_notes.csv\", index=False)\n",
        "print(f\"✅ Done – {len(notes)} notes saved.\")\n"
      ],
      "metadata": {
        "colab": {
          "base_uri": "https://localhost:8080/",
          "height": 428
        },
        "id": "U2mJILiWaORc",
        "outputId": "6bc71255-b685-4d07-8de2-5274a6a8b0da"
      },
      "execution_count": 9,
      "outputs": [
        {
          "output_type": "stream",
          "name": "stderr",
          "text": [
            "/usr/local/lib/python3.11/dist-packages/huggingface_hub/file_download.py:943: FutureWarning: `resume_download` is deprecated and will be removed in version 1.0.0. Downloads always resume when possible. If you want to force a new download, use `force_download=True`.\n",
            "  warnings.warn(\n",
            "GPT-2 clinical notes:  18%|█▊        | 44/243 [2:20:02<10:33:24, 190.98s/it]\n"
          ]
        },
        {
          "output_type": "error",
          "ename": "KeyboardInterrupt",
          "evalue": "",
          "traceback": [
            "\u001b[0;31m---------------------------------------------------------------------------\u001b[0m",
            "\u001b[0;31mKeyboardInterrupt\u001b[0m                         Traceback (most recent call last)",
            "\u001b[0;32m/tmp/ipython-input-9-4087112496.py\u001b[0m in \u001b[0;36m<cell line: 0>\u001b[0;34m()\u001b[0m\n\u001b[1;32m     50\u001b[0m \u001b[0;34m\u001b[0m\u001b[0m\n\u001b[1;32m     51\u001b[0m     \u001b[0;32mwith\u001b[0m \u001b[0mtorch\u001b[0m\u001b[0;34m.\u001b[0m\u001b[0mno_grad\u001b[0m\u001b[0;34m(\u001b[0m\u001b[0;34m)\u001b[0m\u001b[0;34m:\u001b[0m\u001b[0;34m\u001b[0m\u001b[0;34m\u001b[0m\u001b[0m\n\u001b[0;32m---> 52\u001b[0;31m         out = model.generate(\n\u001b[0m\u001b[1;32m     53\u001b[0m             \u001b[0mids\u001b[0m\u001b[0;34m,\u001b[0m \u001b[0mmax_new_tokens\u001b[0m\u001b[0;34m=\u001b[0m\u001b[0mMAX_NEW\u001b[0m\u001b[0;34m,\u001b[0m\u001b[0;34m\u001b[0m\u001b[0;34m\u001b[0m\u001b[0m\n\u001b[1;32m     54\u001b[0m             \u001b[0mdo_sample\u001b[0m\u001b[0;34m=\u001b[0m\u001b[0;32mTrue\u001b[0m\u001b[0;34m,\u001b[0m \u001b[0mtemperature\u001b[0m\u001b[0;34m=\u001b[0m\u001b[0mTEMP\u001b[0m\u001b[0;34m,\u001b[0m \u001b[0mtop_p\u001b[0m\u001b[0;34m=\u001b[0m\u001b[0mTOP_P\u001b[0m\u001b[0;34m,\u001b[0m\u001b[0;34m\u001b[0m\u001b[0;34m\u001b[0m\u001b[0m\n",
            "\u001b[0;32m/usr/local/lib/python3.11/dist-packages/torch/utils/_contextlib.py\u001b[0m in \u001b[0;36mdecorate_context\u001b[0;34m(*args, **kwargs)\u001b[0m\n\u001b[1;32m    113\u001b[0m     \u001b[0;32mdef\u001b[0m \u001b[0mdecorate_context\u001b[0m\u001b[0;34m(\u001b[0m\u001b[0;34m*\u001b[0m\u001b[0margs\u001b[0m\u001b[0;34m,\u001b[0m \u001b[0;34m**\u001b[0m\u001b[0mkwargs\u001b[0m\u001b[0;34m)\u001b[0m\u001b[0;34m:\u001b[0m\u001b[0;34m\u001b[0m\u001b[0;34m\u001b[0m\u001b[0m\n\u001b[1;32m    114\u001b[0m         \u001b[0;32mwith\u001b[0m \u001b[0mctx_factory\u001b[0m\u001b[0;34m(\u001b[0m\u001b[0;34m)\u001b[0m\u001b[0;34m:\u001b[0m\u001b[0;34m\u001b[0m\u001b[0;34m\u001b[0m\u001b[0m\n\u001b[0;32m--> 115\u001b[0;31m             \u001b[0;32mreturn\u001b[0m \u001b[0mfunc\u001b[0m\u001b[0;34m(\u001b[0m\u001b[0;34m*\u001b[0m\u001b[0margs\u001b[0m\u001b[0;34m,\u001b[0m \u001b[0;34m**\u001b[0m\u001b[0mkwargs\u001b[0m\u001b[0;34m)\u001b[0m\u001b[0;34m\u001b[0m\u001b[0;34m\u001b[0m\u001b[0m\n\u001b[0m\u001b[1;32m    116\u001b[0m \u001b[0;34m\u001b[0m\u001b[0m\n\u001b[1;32m    117\u001b[0m     \u001b[0;32mreturn\u001b[0m \u001b[0mdecorate_context\u001b[0m\u001b[0;34m\u001b[0m\u001b[0;34m\u001b[0m\u001b[0m\n",
            "\u001b[0;32m/usr/local/lib/python3.11/dist-packages/transformers/generation/utils.py\u001b[0m in \u001b[0;36mgenerate\u001b[0;34m(self, inputs, generation_config, logits_processor, stopping_criteria, prefix_allowed_tokens_fn, synced_gpus, assistant_model, streamer, negative_prompt_ids, negative_prompt_attention_mask, **kwargs)\u001b[0m\n\u001b[1;32m   1590\u001b[0m \u001b[0;34m\u001b[0m\u001b[0m\n\u001b[1;32m   1591\u001b[0m             \u001b[0;31m# 13. run sample\u001b[0m\u001b[0;34m\u001b[0m\u001b[0;34m\u001b[0m\u001b[0m\n\u001b[0;32m-> 1592\u001b[0;31m             return self.sample(\n\u001b[0m\u001b[1;32m   1593\u001b[0m                 \u001b[0minput_ids\u001b[0m\u001b[0;34m,\u001b[0m\u001b[0;34m\u001b[0m\u001b[0;34m\u001b[0m\u001b[0m\n\u001b[1;32m   1594\u001b[0m                 \u001b[0mlogits_processor\u001b[0m\u001b[0;34m=\u001b[0m\u001b[0mprepared_logits_processor\u001b[0m\u001b[0;34m,\u001b[0m\u001b[0;34m\u001b[0m\u001b[0;34m\u001b[0m\u001b[0m\n",
            "\u001b[0;32m/usr/local/lib/python3.11/dist-packages/transformers/generation/utils.py\u001b[0m in \u001b[0;36msample\u001b[0;34m(self, input_ids, logits_processor, stopping_criteria, logits_warper, max_length, pad_token_id, eos_token_id, output_attentions, output_hidden_states, output_scores, output_logits, return_dict_in_generate, synced_gpus, streamer, **model_kwargs)\u001b[0m\n\u001b[1;32m   2694\u001b[0m \u001b[0;34m\u001b[0m\u001b[0m\n\u001b[1;32m   2695\u001b[0m             \u001b[0;31m# forward pass to get next token\u001b[0m\u001b[0;34m\u001b[0m\u001b[0;34m\u001b[0m\u001b[0m\n\u001b[0;32m-> 2696\u001b[0;31m             outputs = self(\n\u001b[0m\u001b[1;32m   2697\u001b[0m                 \u001b[0;34m**\u001b[0m\u001b[0mmodel_inputs\u001b[0m\u001b[0;34m,\u001b[0m\u001b[0;34m\u001b[0m\u001b[0;34m\u001b[0m\u001b[0m\n\u001b[1;32m   2698\u001b[0m                 \u001b[0mreturn_dict\u001b[0m\u001b[0;34m=\u001b[0m\u001b[0;32mTrue\u001b[0m\u001b[0;34m,\u001b[0m\u001b[0;34m\u001b[0m\u001b[0;34m\u001b[0m\u001b[0m\n",
            "\u001b[0;32m/usr/local/lib/python3.11/dist-packages/torch/nn/modules/module.py\u001b[0m in \u001b[0;36m_wrapped_call_impl\u001b[0;34m(self, *args, **kwargs)\u001b[0m\n\u001b[1;32m   1516\u001b[0m             \u001b[0;32mreturn\u001b[0m \u001b[0mself\u001b[0m\u001b[0;34m.\u001b[0m\u001b[0m_compiled_call_impl\u001b[0m\u001b[0;34m(\u001b[0m\u001b[0;34m*\u001b[0m\u001b[0margs\u001b[0m\u001b[0;34m,\u001b[0m \u001b[0;34m**\u001b[0m\u001b[0mkwargs\u001b[0m\u001b[0;34m)\u001b[0m  \u001b[0;31m# type: ignore[misc]\u001b[0m\u001b[0;34m\u001b[0m\u001b[0;34m\u001b[0m\u001b[0m\n\u001b[1;32m   1517\u001b[0m         \u001b[0;32melse\u001b[0m\u001b[0;34m:\u001b[0m\u001b[0;34m\u001b[0m\u001b[0;34m\u001b[0m\u001b[0m\n\u001b[0;32m-> 1518\u001b[0;31m             \u001b[0;32mreturn\u001b[0m \u001b[0mself\u001b[0m\u001b[0;34m.\u001b[0m\u001b[0m_call_impl\u001b[0m\u001b[0;34m(\u001b[0m\u001b[0;34m*\u001b[0m\u001b[0margs\u001b[0m\u001b[0;34m,\u001b[0m \u001b[0;34m**\u001b[0m\u001b[0mkwargs\u001b[0m\u001b[0;34m)\u001b[0m\u001b[0;34m\u001b[0m\u001b[0;34m\u001b[0m\u001b[0m\n\u001b[0m\u001b[1;32m   1519\u001b[0m \u001b[0;34m\u001b[0m\u001b[0m\n\u001b[1;32m   1520\u001b[0m     \u001b[0;32mdef\u001b[0m \u001b[0m_call_impl\u001b[0m\u001b[0;34m(\u001b[0m\u001b[0mself\u001b[0m\u001b[0;34m,\u001b[0m \u001b[0;34m*\u001b[0m\u001b[0margs\u001b[0m\u001b[0;34m,\u001b[0m \u001b[0;34m**\u001b[0m\u001b[0mkwargs\u001b[0m\u001b[0;34m)\u001b[0m\u001b[0;34m:\u001b[0m\u001b[0;34m\u001b[0m\u001b[0;34m\u001b[0m\u001b[0m\n",
            "\u001b[0;32m/usr/local/lib/python3.11/dist-packages/torch/nn/modules/module.py\u001b[0m in \u001b[0;36m_call_impl\u001b[0;34m(self, *args, **kwargs)\u001b[0m\n\u001b[1;32m   1525\u001b[0m                 \u001b[0;32mor\u001b[0m \u001b[0m_global_backward_pre_hooks\u001b[0m \u001b[0;32mor\u001b[0m \u001b[0m_global_backward_hooks\u001b[0m\u001b[0;34m\u001b[0m\u001b[0;34m\u001b[0m\u001b[0m\n\u001b[1;32m   1526\u001b[0m                 or _global_forward_hooks or _global_forward_pre_hooks):\n\u001b[0;32m-> 1527\u001b[0;31m             \u001b[0;32mreturn\u001b[0m \u001b[0mforward_call\u001b[0m\u001b[0;34m(\u001b[0m\u001b[0;34m*\u001b[0m\u001b[0margs\u001b[0m\u001b[0;34m,\u001b[0m \u001b[0;34m**\u001b[0m\u001b[0mkwargs\u001b[0m\u001b[0;34m)\u001b[0m\u001b[0;34m\u001b[0m\u001b[0;34m\u001b[0m\u001b[0m\n\u001b[0m\u001b[1;32m   1528\u001b[0m \u001b[0;34m\u001b[0m\u001b[0m\n\u001b[1;32m   1529\u001b[0m         \u001b[0;32mtry\u001b[0m\u001b[0;34m:\u001b[0m\u001b[0;34m\u001b[0m\u001b[0;34m\u001b[0m\u001b[0m\n",
            "\u001b[0;32m/usr/local/lib/python3.11/dist-packages/transformers/models/gpt2/modeling_gpt2.py\u001b[0m in \u001b[0;36mforward\u001b[0;34m(self, input_ids, past_key_values, attention_mask, token_type_ids, position_ids, head_mask, inputs_embeds, encoder_hidden_states, encoder_attention_mask, labels, use_cache, output_attentions, output_hidden_states, return_dict)\u001b[0m\n\u001b[1;32m   1072\u001b[0m         \u001b[0mreturn_dict\u001b[0m \u001b[0;34m=\u001b[0m \u001b[0mreturn_dict\u001b[0m \u001b[0;32mif\u001b[0m \u001b[0mreturn_dict\u001b[0m \u001b[0;32mis\u001b[0m \u001b[0;32mnot\u001b[0m \u001b[0;32mNone\u001b[0m \u001b[0;32melse\u001b[0m \u001b[0mself\u001b[0m\u001b[0;34m.\u001b[0m\u001b[0mconfig\u001b[0m\u001b[0;34m.\u001b[0m\u001b[0muse_return_dict\u001b[0m\u001b[0;34m\u001b[0m\u001b[0;34m\u001b[0m\u001b[0m\n\u001b[1;32m   1073\u001b[0m \u001b[0;34m\u001b[0m\u001b[0m\n\u001b[0;32m-> 1074\u001b[0;31m         transformer_outputs = self.transformer(\n\u001b[0m\u001b[1;32m   1075\u001b[0m             \u001b[0minput_ids\u001b[0m\u001b[0;34m,\u001b[0m\u001b[0;34m\u001b[0m\u001b[0;34m\u001b[0m\u001b[0m\n\u001b[1;32m   1076\u001b[0m             \u001b[0mpast_key_values\u001b[0m\u001b[0;34m=\u001b[0m\u001b[0mpast_key_values\u001b[0m\u001b[0;34m,\u001b[0m\u001b[0;34m\u001b[0m\u001b[0;34m\u001b[0m\u001b[0m\n",
            "\u001b[0;32m/usr/local/lib/python3.11/dist-packages/torch/nn/modules/module.py\u001b[0m in \u001b[0;36m_wrapped_call_impl\u001b[0;34m(self, *args, **kwargs)\u001b[0m\n\u001b[1;32m   1516\u001b[0m             \u001b[0;32mreturn\u001b[0m \u001b[0mself\u001b[0m\u001b[0;34m.\u001b[0m\u001b[0m_compiled_call_impl\u001b[0m\u001b[0;34m(\u001b[0m\u001b[0;34m*\u001b[0m\u001b[0margs\u001b[0m\u001b[0;34m,\u001b[0m \u001b[0;34m**\u001b[0m\u001b[0mkwargs\u001b[0m\u001b[0;34m)\u001b[0m  \u001b[0;31m# type: ignore[misc]\u001b[0m\u001b[0;34m\u001b[0m\u001b[0;34m\u001b[0m\u001b[0m\n\u001b[1;32m   1517\u001b[0m         \u001b[0;32melse\u001b[0m\u001b[0;34m:\u001b[0m\u001b[0;34m\u001b[0m\u001b[0;34m\u001b[0m\u001b[0m\n\u001b[0;32m-> 1518\u001b[0;31m             \u001b[0;32mreturn\u001b[0m \u001b[0mself\u001b[0m\u001b[0;34m.\u001b[0m\u001b[0m_call_impl\u001b[0m\u001b[0;34m(\u001b[0m\u001b[0;34m*\u001b[0m\u001b[0margs\u001b[0m\u001b[0;34m,\u001b[0m \u001b[0;34m**\u001b[0m\u001b[0mkwargs\u001b[0m\u001b[0;34m)\u001b[0m\u001b[0;34m\u001b[0m\u001b[0;34m\u001b[0m\u001b[0m\n\u001b[0m\u001b[1;32m   1519\u001b[0m \u001b[0;34m\u001b[0m\u001b[0m\n\u001b[1;32m   1520\u001b[0m     \u001b[0;32mdef\u001b[0m \u001b[0m_call_impl\u001b[0m\u001b[0;34m(\u001b[0m\u001b[0mself\u001b[0m\u001b[0;34m,\u001b[0m \u001b[0;34m*\u001b[0m\u001b[0margs\u001b[0m\u001b[0;34m,\u001b[0m \u001b[0;34m**\u001b[0m\u001b[0mkwargs\u001b[0m\u001b[0;34m)\u001b[0m\u001b[0;34m:\u001b[0m\u001b[0;34m\u001b[0m\u001b[0;34m\u001b[0m\u001b[0m\n",
            "\u001b[0;32m/usr/local/lib/python3.11/dist-packages/torch/nn/modules/module.py\u001b[0m in \u001b[0;36m_call_impl\u001b[0;34m(self, *args, **kwargs)\u001b[0m\n\u001b[1;32m   1525\u001b[0m                 \u001b[0;32mor\u001b[0m \u001b[0m_global_backward_pre_hooks\u001b[0m \u001b[0;32mor\u001b[0m \u001b[0m_global_backward_hooks\u001b[0m\u001b[0;34m\u001b[0m\u001b[0;34m\u001b[0m\u001b[0m\n\u001b[1;32m   1526\u001b[0m                 or _global_forward_hooks or _global_forward_pre_hooks):\n\u001b[0;32m-> 1527\u001b[0;31m             \u001b[0;32mreturn\u001b[0m \u001b[0mforward_call\u001b[0m\u001b[0;34m(\u001b[0m\u001b[0;34m*\u001b[0m\u001b[0margs\u001b[0m\u001b[0;34m,\u001b[0m \u001b[0;34m**\u001b[0m\u001b[0mkwargs\u001b[0m\u001b[0;34m)\u001b[0m\u001b[0;34m\u001b[0m\u001b[0;34m\u001b[0m\u001b[0m\n\u001b[0m\u001b[1;32m   1528\u001b[0m \u001b[0;34m\u001b[0m\u001b[0m\n\u001b[1;32m   1529\u001b[0m         \u001b[0;32mtry\u001b[0m\u001b[0;34m:\u001b[0m\u001b[0;34m\u001b[0m\u001b[0;34m\u001b[0m\u001b[0m\n",
            "\u001b[0;32m/usr/local/lib/python3.11/dist-packages/transformers/models/gpt2/modeling_gpt2.py\u001b[0m in \u001b[0;36mforward\u001b[0;34m(self, input_ids, past_key_values, attention_mask, token_type_ids, position_ids, head_mask, inputs_embeds, encoder_hidden_states, encoder_attention_mask, use_cache, output_attentions, output_hidden_states, return_dict)\u001b[0m\n\u001b[1;32m    886\u001b[0m                 )\n\u001b[1;32m    887\u001b[0m             \u001b[0;32melse\u001b[0m\u001b[0;34m:\u001b[0m\u001b[0;34m\u001b[0m\u001b[0;34m\u001b[0m\u001b[0m\n\u001b[0;32m--> 888\u001b[0;31m                 outputs = block(\n\u001b[0m\u001b[1;32m    889\u001b[0m                     \u001b[0mhidden_states\u001b[0m\u001b[0;34m,\u001b[0m\u001b[0;34m\u001b[0m\u001b[0;34m\u001b[0m\u001b[0m\n\u001b[1;32m    890\u001b[0m                     \u001b[0mlayer_past\u001b[0m\u001b[0;34m=\u001b[0m\u001b[0mlayer_past\u001b[0m\u001b[0;34m,\u001b[0m\u001b[0;34m\u001b[0m\u001b[0;34m\u001b[0m\u001b[0m\n",
            "\u001b[0;32m/usr/local/lib/python3.11/dist-packages/torch/nn/modules/module.py\u001b[0m in \u001b[0;36m_wrapped_call_impl\u001b[0;34m(self, *args, **kwargs)\u001b[0m\n\u001b[1;32m   1516\u001b[0m             \u001b[0;32mreturn\u001b[0m \u001b[0mself\u001b[0m\u001b[0;34m.\u001b[0m\u001b[0m_compiled_call_impl\u001b[0m\u001b[0;34m(\u001b[0m\u001b[0;34m*\u001b[0m\u001b[0margs\u001b[0m\u001b[0;34m,\u001b[0m \u001b[0;34m**\u001b[0m\u001b[0mkwargs\u001b[0m\u001b[0;34m)\u001b[0m  \u001b[0;31m# type: ignore[misc]\u001b[0m\u001b[0;34m\u001b[0m\u001b[0;34m\u001b[0m\u001b[0m\n\u001b[1;32m   1517\u001b[0m         \u001b[0;32melse\u001b[0m\u001b[0;34m:\u001b[0m\u001b[0;34m\u001b[0m\u001b[0;34m\u001b[0m\u001b[0m\n\u001b[0;32m-> 1518\u001b[0;31m             \u001b[0;32mreturn\u001b[0m \u001b[0mself\u001b[0m\u001b[0;34m.\u001b[0m\u001b[0m_call_impl\u001b[0m\u001b[0;34m(\u001b[0m\u001b[0;34m*\u001b[0m\u001b[0margs\u001b[0m\u001b[0;34m,\u001b[0m \u001b[0;34m**\u001b[0m\u001b[0mkwargs\u001b[0m\u001b[0;34m)\u001b[0m\u001b[0;34m\u001b[0m\u001b[0;34m\u001b[0m\u001b[0m\n\u001b[0m\u001b[1;32m   1519\u001b[0m \u001b[0;34m\u001b[0m\u001b[0m\n\u001b[1;32m   1520\u001b[0m     \u001b[0;32mdef\u001b[0m \u001b[0m_call_impl\u001b[0m\u001b[0;34m(\u001b[0m\u001b[0mself\u001b[0m\u001b[0;34m,\u001b[0m \u001b[0;34m*\u001b[0m\u001b[0margs\u001b[0m\u001b[0;34m,\u001b[0m \u001b[0;34m**\u001b[0m\u001b[0mkwargs\u001b[0m\u001b[0;34m)\u001b[0m\u001b[0;34m:\u001b[0m\u001b[0;34m\u001b[0m\u001b[0;34m\u001b[0m\u001b[0m\n",
            "\u001b[0;32m/usr/local/lib/python3.11/dist-packages/torch/nn/modules/module.py\u001b[0m in \u001b[0;36m_call_impl\u001b[0;34m(self, *args, **kwargs)\u001b[0m\n\u001b[1;32m   1525\u001b[0m                 \u001b[0;32mor\u001b[0m \u001b[0m_global_backward_pre_hooks\u001b[0m \u001b[0;32mor\u001b[0m \u001b[0m_global_backward_hooks\u001b[0m\u001b[0;34m\u001b[0m\u001b[0;34m\u001b[0m\u001b[0m\n\u001b[1;32m   1526\u001b[0m                 or _global_forward_hooks or _global_forward_pre_hooks):\n\u001b[0;32m-> 1527\u001b[0;31m             \u001b[0;32mreturn\u001b[0m \u001b[0mforward_call\u001b[0m\u001b[0;34m(\u001b[0m\u001b[0;34m*\u001b[0m\u001b[0margs\u001b[0m\u001b[0;34m,\u001b[0m \u001b[0;34m**\u001b[0m\u001b[0mkwargs\u001b[0m\u001b[0;34m)\u001b[0m\u001b[0;34m\u001b[0m\u001b[0;34m\u001b[0m\u001b[0m\n\u001b[0m\u001b[1;32m   1528\u001b[0m \u001b[0;34m\u001b[0m\u001b[0m\n\u001b[1;32m   1529\u001b[0m         \u001b[0;32mtry\u001b[0m\u001b[0;34m:\u001b[0m\u001b[0;34m\u001b[0m\u001b[0;34m\u001b[0m\u001b[0m\n",
            "\u001b[0;32m/usr/local/lib/python3.11/dist-packages/transformers/models/gpt2/modeling_gpt2.py\u001b[0m in \u001b[0;36mforward\u001b[0;34m(self, hidden_states, layer_past, attention_mask, head_mask, encoder_hidden_states, encoder_attention_mask, use_cache, output_attentions)\u001b[0m\n\u001b[1;32m    388\u001b[0m         \u001b[0mresidual\u001b[0m \u001b[0;34m=\u001b[0m \u001b[0mhidden_states\u001b[0m\u001b[0;34m\u001b[0m\u001b[0;34m\u001b[0m\u001b[0m\n\u001b[1;32m    389\u001b[0m         \u001b[0mhidden_states\u001b[0m \u001b[0;34m=\u001b[0m \u001b[0mself\u001b[0m\u001b[0;34m.\u001b[0m\u001b[0mln_1\u001b[0m\u001b[0;34m(\u001b[0m\u001b[0mhidden_states\u001b[0m\u001b[0;34m)\u001b[0m\u001b[0;34m\u001b[0m\u001b[0;34m\u001b[0m\u001b[0m\n\u001b[0;32m--> 390\u001b[0;31m         attn_outputs = self.attn(\n\u001b[0m\u001b[1;32m    391\u001b[0m             \u001b[0mhidden_states\u001b[0m\u001b[0;34m,\u001b[0m\u001b[0;34m\u001b[0m\u001b[0;34m\u001b[0m\u001b[0m\n\u001b[1;32m    392\u001b[0m             \u001b[0mlayer_past\u001b[0m\u001b[0;34m=\u001b[0m\u001b[0mlayer_past\u001b[0m\u001b[0;34m,\u001b[0m\u001b[0;34m\u001b[0m\u001b[0;34m\u001b[0m\u001b[0m\n",
            "\u001b[0;32m/usr/local/lib/python3.11/dist-packages/torch/nn/modules/module.py\u001b[0m in \u001b[0;36m_wrapped_call_impl\u001b[0;34m(self, *args, **kwargs)\u001b[0m\n\u001b[1;32m   1516\u001b[0m             \u001b[0;32mreturn\u001b[0m \u001b[0mself\u001b[0m\u001b[0;34m.\u001b[0m\u001b[0m_compiled_call_impl\u001b[0m\u001b[0;34m(\u001b[0m\u001b[0;34m*\u001b[0m\u001b[0margs\u001b[0m\u001b[0;34m,\u001b[0m \u001b[0;34m**\u001b[0m\u001b[0mkwargs\u001b[0m\u001b[0;34m)\u001b[0m  \u001b[0;31m# type: ignore[misc]\u001b[0m\u001b[0;34m\u001b[0m\u001b[0;34m\u001b[0m\u001b[0m\n\u001b[1;32m   1517\u001b[0m         \u001b[0;32melse\u001b[0m\u001b[0;34m:\u001b[0m\u001b[0;34m\u001b[0m\u001b[0;34m\u001b[0m\u001b[0m\n\u001b[0;32m-> 1518\u001b[0;31m             \u001b[0;32mreturn\u001b[0m \u001b[0mself\u001b[0m\u001b[0;34m.\u001b[0m\u001b[0m_call_impl\u001b[0m\u001b[0;34m(\u001b[0m\u001b[0;34m*\u001b[0m\u001b[0margs\u001b[0m\u001b[0;34m,\u001b[0m \u001b[0;34m**\u001b[0m\u001b[0mkwargs\u001b[0m\u001b[0;34m)\u001b[0m\u001b[0;34m\u001b[0m\u001b[0;34m\u001b[0m\u001b[0m\n\u001b[0m\u001b[1;32m   1519\u001b[0m \u001b[0;34m\u001b[0m\u001b[0m\n\u001b[1;32m   1520\u001b[0m     \u001b[0;32mdef\u001b[0m \u001b[0m_call_impl\u001b[0m\u001b[0;34m(\u001b[0m\u001b[0mself\u001b[0m\u001b[0;34m,\u001b[0m \u001b[0;34m*\u001b[0m\u001b[0margs\u001b[0m\u001b[0;34m,\u001b[0m \u001b[0;34m**\u001b[0m\u001b[0mkwargs\u001b[0m\u001b[0;34m)\u001b[0m\u001b[0;34m:\u001b[0m\u001b[0;34m\u001b[0m\u001b[0;34m\u001b[0m\u001b[0m\n",
            "\u001b[0;32m/usr/local/lib/python3.11/dist-packages/torch/nn/modules/module.py\u001b[0m in \u001b[0;36m_call_impl\u001b[0;34m(self, *args, **kwargs)\u001b[0m\n\u001b[1;32m   1525\u001b[0m                 \u001b[0;32mor\u001b[0m \u001b[0m_global_backward_pre_hooks\u001b[0m \u001b[0;32mor\u001b[0m \u001b[0m_global_backward_hooks\u001b[0m\u001b[0;34m\u001b[0m\u001b[0;34m\u001b[0m\u001b[0m\n\u001b[1;32m   1526\u001b[0m                 or _global_forward_hooks or _global_forward_pre_hooks):\n\u001b[0;32m-> 1527\u001b[0;31m             \u001b[0;32mreturn\u001b[0m \u001b[0mforward_call\u001b[0m\u001b[0;34m(\u001b[0m\u001b[0;34m*\u001b[0m\u001b[0margs\u001b[0m\u001b[0;34m,\u001b[0m \u001b[0;34m**\u001b[0m\u001b[0mkwargs\u001b[0m\u001b[0;34m)\u001b[0m\u001b[0;34m\u001b[0m\u001b[0;34m\u001b[0m\u001b[0m\n\u001b[0m\u001b[1;32m   1528\u001b[0m \u001b[0;34m\u001b[0m\u001b[0m\n\u001b[1;32m   1529\u001b[0m         \u001b[0;32mtry\u001b[0m\u001b[0;34m:\u001b[0m\u001b[0;34m\u001b[0m\u001b[0;34m\u001b[0m\u001b[0m\n",
            "\u001b[0;32m/usr/local/lib/python3.11/dist-packages/transformers/models/gpt2/modeling_gpt2.py\u001b[0m in \u001b[0;36mforward\u001b[0;34m(self, hidden_states, layer_past, attention_mask, head_mask, encoder_hidden_states, encoder_attention_mask, use_cache, output_attentions)\u001b[0m\n\u001b[1;32m    310\u001b[0m             \u001b[0mattention_mask\u001b[0m \u001b[0;34m=\u001b[0m \u001b[0mencoder_attention_mask\u001b[0m\u001b[0;34m\u001b[0m\u001b[0;34m\u001b[0m\u001b[0m\n\u001b[1;32m    311\u001b[0m         \u001b[0;32melse\u001b[0m\u001b[0;34m:\u001b[0m\u001b[0;34m\u001b[0m\u001b[0;34m\u001b[0m\u001b[0m\n\u001b[0;32m--> 312\u001b[0;31m             \u001b[0mquery\u001b[0m\u001b[0;34m,\u001b[0m \u001b[0mkey\u001b[0m\u001b[0;34m,\u001b[0m \u001b[0mvalue\u001b[0m \u001b[0;34m=\u001b[0m \u001b[0mself\u001b[0m\u001b[0;34m.\u001b[0m\u001b[0mc_attn\u001b[0m\u001b[0;34m(\u001b[0m\u001b[0mhidden_states\u001b[0m\u001b[0;34m)\u001b[0m\u001b[0;34m.\u001b[0m\u001b[0msplit\u001b[0m\u001b[0;34m(\u001b[0m\u001b[0mself\u001b[0m\u001b[0;34m.\u001b[0m\u001b[0msplit_size\u001b[0m\u001b[0;34m,\u001b[0m \u001b[0mdim\u001b[0m\u001b[0;34m=\u001b[0m\u001b[0;36m2\u001b[0m\u001b[0;34m)\u001b[0m\u001b[0;34m\u001b[0m\u001b[0;34m\u001b[0m\u001b[0m\n\u001b[0m\u001b[1;32m    313\u001b[0m \u001b[0;34m\u001b[0m\u001b[0m\n\u001b[1;32m    314\u001b[0m         \u001b[0mquery\u001b[0m \u001b[0;34m=\u001b[0m \u001b[0mself\u001b[0m\u001b[0;34m.\u001b[0m\u001b[0m_split_heads\u001b[0m\u001b[0;34m(\u001b[0m\u001b[0mquery\u001b[0m\u001b[0;34m,\u001b[0m \u001b[0mself\u001b[0m\u001b[0;34m.\u001b[0m\u001b[0mnum_heads\u001b[0m\u001b[0;34m,\u001b[0m \u001b[0mself\u001b[0m\u001b[0;34m.\u001b[0m\u001b[0mhead_dim\u001b[0m\u001b[0;34m)\u001b[0m\u001b[0;34m\u001b[0m\u001b[0;34m\u001b[0m\u001b[0m\n",
            "\u001b[0;32m/usr/local/lib/python3.11/dist-packages/torch/nn/modules/module.py\u001b[0m in \u001b[0;36m_wrapped_call_impl\u001b[0;34m(self, *args, **kwargs)\u001b[0m\n\u001b[1;32m   1516\u001b[0m             \u001b[0;32mreturn\u001b[0m \u001b[0mself\u001b[0m\u001b[0;34m.\u001b[0m\u001b[0m_compiled_call_impl\u001b[0m\u001b[0;34m(\u001b[0m\u001b[0;34m*\u001b[0m\u001b[0margs\u001b[0m\u001b[0;34m,\u001b[0m \u001b[0;34m**\u001b[0m\u001b[0mkwargs\u001b[0m\u001b[0;34m)\u001b[0m  \u001b[0;31m# type: ignore[misc]\u001b[0m\u001b[0;34m\u001b[0m\u001b[0;34m\u001b[0m\u001b[0m\n\u001b[1;32m   1517\u001b[0m         \u001b[0;32melse\u001b[0m\u001b[0;34m:\u001b[0m\u001b[0;34m\u001b[0m\u001b[0;34m\u001b[0m\u001b[0m\n\u001b[0;32m-> 1518\u001b[0;31m             \u001b[0;32mreturn\u001b[0m \u001b[0mself\u001b[0m\u001b[0;34m.\u001b[0m\u001b[0m_call_impl\u001b[0m\u001b[0;34m(\u001b[0m\u001b[0;34m*\u001b[0m\u001b[0margs\u001b[0m\u001b[0;34m,\u001b[0m \u001b[0;34m**\u001b[0m\u001b[0mkwargs\u001b[0m\u001b[0;34m)\u001b[0m\u001b[0;34m\u001b[0m\u001b[0;34m\u001b[0m\u001b[0m\n\u001b[0m\u001b[1;32m   1519\u001b[0m \u001b[0;34m\u001b[0m\u001b[0m\n\u001b[1;32m   1520\u001b[0m     \u001b[0;32mdef\u001b[0m \u001b[0m_call_impl\u001b[0m\u001b[0;34m(\u001b[0m\u001b[0mself\u001b[0m\u001b[0;34m,\u001b[0m \u001b[0;34m*\u001b[0m\u001b[0margs\u001b[0m\u001b[0;34m,\u001b[0m \u001b[0;34m**\u001b[0m\u001b[0mkwargs\u001b[0m\u001b[0;34m)\u001b[0m\u001b[0;34m:\u001b[0m\u001b[0;34m\u001b[0m\u001b[0;34m\u001b[0m\u001b[0m\n",
            "\u001b[0;32m/usr/local/lib/python3.11/dist-packages/torch/nn/modules/module.py\u001b[0m in \u001b[0;36m_call_impl\u001b[0;34m(self, *args, **kwargs)\u001b[0m\n\u001b[1;32m   1525\u001b[0m                 \u001b[0;32mor\u001b[0m \u001b[0m_global_backward_pre_hooks\u001b[0m \u001b[0;32mor\u001b[0m \u001b[0m_global_backward_hooks\u001b[0m\u001b[0;34m\u001b[0m\u001b[0;34m\u001b[0m\u001b[0m\n\u001b[1;32m   1526\u001b[0m                 or _global_forward_hooks or _global_forward_pre_hooks):\n\u001b[0;32m-> 1527\u001b[0;31m             \u001b[0;32mreturn\u001b[0m \u001b[0mforward_call\u001b[0m\u001b[0;34m(\u001b[0m\u001b[0;34m*\u001b[0m\u001b[0margs\u001b[0m\u001b[0;34m,\u001b[0m \u001b[0;34m**\u001b[0m\u001b[0mkwargs\u001b[0m\u001b[0;34m)\u001b[0m\u001b[0;34m\u001b[0m\u001b[0;34m\u001b[0m\u001b[0m\n\u001b[0m\u001b[1;32m   1528\u001b[0m \u001b[0;34m\u001b[0m\u001b[0m\n\u001b[1;32m   1529\u001b[0m         \u001b[0;32mtry\u001b[0m\u001b[0;34m:\u001b[0m\u001b[0;34m\u001b[0m\u001b[0;34m\u001b[0m\u001b[0m\n",
            "\u001b[0;32m/usr/local/lib/python3.11/dist-packages/transformers/pytorch_utils.py\u001b[0m in \u001b[0;36mforward\u001b[0;34m(self, x)\u001b[0m\n\u001b[1;32m    101\u001b[0m     \u001b[0;32mdef\u001b[0m \u001b[0mforward\u001b[0m\u001b[0;34m(\u001b[0m\u001b[0mself\u001b[0m\u001b[0;34m,\u001b[0m \u001b[0mx\u001b[0m\u001b[0;34m)\u001b[0m\u001b[0;34m:\u001b[0m\u001b[0;34m\u001b[0m\u001b[0;34m\u001b[0m\u001b[0m\n\u001b[1;32m    102\u001b[0m         \u001b[0msize_out\u001b[0m \u001b[0;34m=\u001b[0m \u001b[0mx\u001b[0m\u001b[0;34m.\u001b[0m\u001b[0msize\u001b[0m\u001b[0;34m(\u001b[0m\u001b[0;34m)\u001b[0m\u001b[0;34m[\u001b[0m\u001b[0;34m:\u001b[0m\u001b[0;34m-\u001b[0m\u001b[0;36m1\u001b[0m\u001b[0;34m]\u001b[0m \u001b[0;34m+\u001b[0m \u001b[0;34m(\u001b[0m\u001b[0mself\u001b[0m\u001b[0;34m.\u001b[0m\u001b[0mnf\u001b[0m\u001b[0;34m,\u001b[0m\u001b[0;34m)\u001b[0m\u001b[0;34m\u001b[0m\u001b[0;34m\u001b[0m\u001b[0m\n\u001b[0;32m--> 103\u001b[0;31m         \u001b[0mx\u001b[0m \u001b[0;34m=\u001b[0m \u001b[0mtorch\u001b[0m\u001b[0;34m.\u001b[0m\u001b[0maddmm\u001b[0m\u001b[0;34m(\u001b[0m\u001b[0mself\u001b[0m\u001b[0;34m.\u001b[0m\u001b[0mbias\u001b[0m\u001b[0;34m,\u001b[0m \u001b[0mx\u001b[0m\u001b[0;34m.\u001b[0m\u001b[0mview\u001b[0m\u001b[0;34m(\u001b[0m\u001b[0;34m-\u001b[0m\u001b[0;36m1\u001b[0m\u001b[0;34m,\u001b[0m \u001b[0mx\u001b[0m\u001b[0;34m.\u001b[0m\u001b[0msize\u001b[0m\u001b[0;34m(\u001b[0m\u001b[0;34m-\u001b[0m\u001b[0;36m1\u001b[0m\u001b[0;34m)\u001b[0m\u001b[0;34m)\u001b[0m\u001b[0;34m,\u001b[0m \u001b[0mself\u001b[0m\u001b[0;34m.\u001b[0m\u001b[0mweight\u001b[0m\u001b[0;34m)\u001b[0m\u001b[0;34m\u001b[0m\u001b[0;34m\u001b[0m\u001b[0m\n\u001b[0m\u001b[1;32m    104\u001b[0m         \u001b[0mx\u001b[0m \u001b[0;34m=\u001b[0m \u001b[0mx\u001b[0m\u001b[0;34m.\u001b[0m\u001b[0mview\u001b[0m\u001b[0;34m(\u001b[0m\u001b[0msize_out\u001b[0m\u001b[0;34m)\u001b[0m\u001b[0;34m\u001b[0m\u001b[0;34m\u001b[0m\u001b[0m\n\u001b[1;32m    105\u001b[0m         \u001b[0;32mreturn\u001b[0m \u001b[0mx\u001b[0m\u001b[0;34m\u001b[0m\u001b[0;34m\u001b[0m\u001b[0m\n",
            "\u001b[0;31mKeyboardInterrupt\u001b[0m: "
          ]
        }
      ]
    },
    {
      "cell_type": "markdown",
      "source": [
        "This process took too long. 2 hours was only 20% complete"
      ],
      "metadata": {
        "id": "fr4sBJcQ6w02"
      }
    },
    {
      "cell_type": "code",
      "source": [
        "df[\"note\"].str.strip().replace(\"\", np.nan).notna().sum()"
      ],
      "metadata": {
        "colab": {
          "base_uri": "https://localhost:8080/",
          "height": 0
        },
        "id": "MKqsNF0567Za",
        "outputId": "5fb6617c-d7b3-4b9e-c0a5-f6f823a57178"
      },
      "execution_count": 14,
      "outputs": [
        {
          "output_type": "execute_result",
          "data": {
            "text/plain": [
              "np.int64(2805)"
            ]
          },
          "metadata": {},
          "execution_count": 14
        }
      ]
    },
    {
      "cell_type": "markdown",
      "source": [
        "###1.4.2 Generate Clinical Notes using Distilgpt"
      ],
      "metadata": {
        "id": "6oZ-aFNc7iyY"
      }
    },
    {
      "cell_type": "markdown",
      "source": [
        "We managed to fill clinical notes for 2805 rows using GPT2 medium. The process took too long. We continue clinical notes using distilgpt.\n",
        "Fill the remaining using Distilgpt"
      ],
      "metadata": {
        "id": "miZ0ePgB7RrE"
      }
    },
    {
      "cell_type": "code",
      "source": [
        "import torch, pandas as pd, numpy as np, tqdm\n",
        "from transformers import AutoTokenizer, AutoModelForCausalLM\n",
        "\n",
        "# 🧠 Use distilgpt2 for speed\n",
        "MODEL_NAME = \"distilgpt2\"\n",
        "BATCH_SIZE = 64\n",
        "MAX_NEW = 25\n",
        "TEMP, TOP_P = 0.9, 0.95\n",
        "\n",
        "# 🔃 Load model + tokenizer\n",
        "tok = AutoTokenizer.from_pretrained(MODEL_NAME)\n",
        "tok.pad_token = tok.eos_token\n",
        "tok.padding_side = \"left\"\n",
        "\n",
        "model = AutoModelForCausalLM.from_pretrained(MODEL_NAME)\n",
        "model.config.pad_token_id = tok.pad_token_id\n",
        "model.eval().to(\"cuda\" if torch.cuda.is_available() else \"cpu\")\n",
        "\n",
        "# 🧹 Filter rows with missing notes\n",
        "df_missing = df[df[\"note\"].str.strip().replace(\"\", np.nan).isna()].copy()\n",
        "\n",
        "# 🧠 Build prompts\n",
        "def build_prompt(row):\n",
        "    safe = lambda v, f=\"{:.1f}\": f.format(v) if pd.notna(v) else \"--\"\n",
        "    return (\n",
        "        f\"F/S: Pt c/o none.\\n\"\n",
        "        f\"F/V/S SpO2 {safe(row.spo2)} %, HR {safe(row.heart_rate)} bpm, \"\n",
        "        f\"Temp {safe(row.temperature)} °C, BP {safe(row.sys_bp)}/{safe(row.dia_bp)}.\\n\"\n",
        "        f\"FSBG {safe(row.glucose)} mmol/L.\\n\"\n",
        "        \"A/P:\"\n",
        "    )\n",
        "\n",
        "SYSTEM = (\n",
        "    \"You are documenting an ED triage encounter in 1–2 concise sentences. \"\n",
        "    \"Use SOAP abbreviations (c/o, NAD, q4h, etc.) and include vitals.\\n\\n\"\n",
        ")\n",
        "\n",
        "# 🧾 Generate prompts\n",
        "prompts = (SYSTEM + df_missing.apply(build_prompt, axis=1)).tolist()\n",
        "n_rows = len(prompts)\n",
        "n_batches = int(np.ceil(n_rows / BATCH_SIZE))\n",
        "\n",
        "notes = [\"\"] * n_rows\n",
        "prompt_log = []\n",
        "\n",
        "# 📥 Autosave setup\n",
        "autosave_every = 5\n",
        "autosave_path = \"autosave_clinical_notes.csv\"\n",
        "log_path = \"autosave_promptlog.csv\"\n",
        "\n",
        "# 🚀 Generate notes\n",
        "for b in tqdm.tqdm(range(n_batches), desc=\"Generating Notes\"):\n",
        "    batch = prompts[b * BATCH_SIZE : (b + 1) * BATCH_SIZE]\n",
        "    ids = tok(batch, return_tensors=\"pt\", padding=True)[\"input_ids\"].to(model.device)\n",
        "\n",
        "    with torch.no_grad():\n",
        "        out = model.generate(\n",
        "            ids,\n",
        "            max_new_tokens=MAX_NEW,\n",
        "            do_sample=True,\n",
        "            temperature=TEMP,\n",
        "            top_p=TOP_P,\n",
        "            pad_token_id=tok.eos_token_id,\n",
        "        )\n",
        "\n",
        "    decoded = tok.batch_decode(out, skip_special_tokens=True)\n",
        "\n",
        "    for idx, full in enumerate(decoded):\n",
        "        note = full.split(\"A/P:\")[-1].strip()\n",
        "        row_i = b * BATCH_SIZE + idx\n",
        "        notes[row_i] = note\n",
        "        prompt_log.append({\"row\": row_i, \"prompt\": batch[idx], \"note\": note})\n",
        "\n",
        "    # 💾 Autosave\n",
        "    if (b + 1) % autosave_every == 0:\n",
        "        df_missing[\"note\"] = notes\n",
        "        df_missing.to_csv(autosave_path, index=False)\n",
        "        pd.DataFrame(prompt_log).to_csv(log_path, index=False)\n",
        "        print(f\"✅ Autosaved at batch {b + 1}\")\n",
        "\n",
        "# ✅ Final merge and save\n",
        "df_missing[\"note\"] = notes\n",
        "df.update(df_missing)\n",
        "df.to_csv(\"full_clinical_notes_completed.csv\", index=False)\n",
        "pd.DataFrame(prompt_log).to_csv(\"full_prompt_log.csv\", index=False)\n",
        "\n",
        "print(f\"\\n✅ Done! {len(notes)} notes generated and saved.\")\n"
      ],
      "metadata": {
        "colab": {
          "base_uri": "https://localhost:8080/",
          "height": 0
        },
        "id": "3xboDwqtIvMG",
        "outputId": "a66bee43-6e9a-47fa-f38b-37dbdd9a1240"
      },
      "execution_count": 23,
      "outputs": [
        {
          "metadata": {
            "tags": null
          },
          "name": "stderr",
          "output_type": "stream",
          "text": [
            "/usr/local/lib/python3.11/dist-packages/huggingface_hub/file_download.py:943: FutureWarning: `resume_download` is deprecated and will be removed in version 1.0.0. Downloads always resume when possible. If you want to force a new download, use `force_download=True`.\n",
            "  warnings.warn(\n",
            "Generating Notes:   3%|▎         | 5/199 [02:59<1:53:47, 35.20s/it]"
          ]
        },
        {
          "metadata": {
            "tags": null
          },
          "name": "stdout",
          "output_type": "stream",
          "text": [
            "✅ Autosaved at batch 5\n"
          ]
        },
        {
          "metadata": {
            "tags": null
          },
          "name": "stderr",
          "output_type": "stream",
          "text": [
            "Generating Notes:   5%|▌         | 10/199 [05:47<1:46:36, 33.85s/it]"
          ]
        },
        {
          "metadata": {
            "tags": null
          },
          "name": "stdout",
          "output_type": "stream",
          "text": [
            "✅ Autosaved at batch 10\n"
          ]
        },
        {
          "metadata": {
            "tags": null
          },
          "name": "stderr",
          "output_type": "stream",
          "text": [
            "Generating Notes:   8%|▊         | 15/199 [08:35<1:42:41, 33.49s/it]"
          ]
        },
        {
          "metadata": {
            "tags": null
          },
          "name": "stdout",
          "output_type": "stream",
          "text": [
            "✅ Autosaved at batch 15\n"
          ]
        },
        {
          "metadata": {
            "tags": null
          },
          "name": "stderr",
          "output_type": "stream",
          "text": [
            "Generating Notes:  10%|█         | 20/199 [11:23<1:39:43, 33.43s/it]"
          ]
        },
        {
          "metadata": {
            "tags": null
          },
          "name": "stdout",
          "output_type": "stream",
          "text": [
            "✅ Autosaved at batch 20\n"
          ]
        },
        {
          "metadata": {
            "tags": null
          },
          "name": "stderr",
          "output_type": "stream",
          "text": [
            "Generating Notes:  13%|█▎        | 25/199 [14:08<1:36:15, 33.19s/it]"
          ]
        },
        {
          "metadata": {
            "tags": null
          },
          "name": "stdout",
          "output_type": "stream",
          "text": [
            "✅ Autosaved at batch 25\n"
          ]
        },
        {
          "metadata": {
            "tags": null
          },
          "name": "stderr",
          "output_type": "stream",
          "text": [
            "Generating Notes:  15%|█▌        | 30/199 [17:48<2:01:07, 43.00s/it]"
          ]
        },
        {
          "metadata": {
            "tags": null
          },
          "name": "stdout",
          "output_type": "stream",
          "text": [
            "✅ Autosaved at batch 30\n"
          ]
        },
        {
          "metadata": {
            "tags": null
          },
          "name": "stderr",
          "output_type": "stream",
          "text": [
            "Generating Notes:  18%|█▊        | 35/199 [20:48<1:40:56, 36.93s/it]"
          ]
        },
        {
          "metadata": {
            "tags": null
          },
          "name": "stdout",
          "output_type": "stream",
          "text": [
            "✅ Autosaved at batch 35\n"
          ]
        },
        {
          "metadata": {
            "tags": null
          },
          "name": "stderr",
          "output_type": "stream",
          "text": [
            "Generating Notes:  20%|██        | 40/199 [23:37<1:30:34, 34.18s/it]"
          ]
        },
        {
          "metadata": {
            "tags": null
          },
          "name": "stdout",
          "output_type": "stream",
          "text": [
            "✅ Autosaved at batch 40\n"
          ]
        },
        {
          "metadata": {
            "tags": null
          },
          "name": "stderr",
          "output_type": "stream",
          "text": [
            "Generating Notes:  23%|██▎       | 45/199 [26:26<1:27:29, 34.09s/it]"
          ]
        },
        {
          "metadata": {
            "tags": null
          },
          "name": "stdout",
          "output_type": "stream",
          "text": [
            "✅ Autosaved at batch 45\n"
          ]
        },
        {
          "metadata": {
            "tags": null
          },
          "name": "stderr",
          "output_type": "stream",
          "text": [
            "Generating Notes:  25%|██▌       | 50/199 [30:13<1:49:52, 44.25s/it]"
          ]
        },
        {
          "metadata": {
            "tags": null
          },
          "name": "stdout",
          "output_type": "stream",
          "text": [
            "✅ Autosaved at batch 50\n"
          ]
        },
        {
          "metadata": {
            "tags": null
          },
          "name": "stderr",
          "output_type": "stream",
          "text": [
            "Generating Notes:  28%|██▊       | 55/199 [33:29<1:35:00, 39.59s/it]"
          ]
        },
        {
          "metadata": {
            "tags": null
          },
          "name": "stdout",
          "output_type": "stream",
          "text": [
            "✅ Autosaved at batch 55\n"
          ]
        },
        {
          "metadata": {
            "tags": null
          },
          "name": "stderr",
          "output_type": "stream",
          "text": [
            "Generating Notes:  30%|███       | 60/199 [36:42<1:24:31, 36.49s/it]"
          ]
        },
        {
          "metadata": {
            "tags": null
          },
          "name": "stdout",
          "output_type": "stream",
          "text": [
            "✅ Autosaved at batch 60\n"
          ]
        },
        {
          "metadata": {
            "tags": null
          },
          "name": "stderr",
          "output_type": "stream",
          "text": [
            "Generating Notes:  33%|███▎      | 65/199 [39:50<1:19:37, 35.66s/it]"
          ]
        },
        {
          "metadata": {
            "tags": null
          },
          "name": "stdout",
          "output_type": "stream",
          "text": [
            "✅ Autosaved at batch 65\n"
          ]
        },
        {
          "metadata": {
            "tags": null
          },
          "name": "stderr",
          "output_type": "stream",
          "text": [
            "Generating Notes:  35%|███▌      | 70/199 [42:37<1:12:39, 33.79s/it]"
          ]
        },
        {
          "metadata": {
            "tags": null
          },
          "name": "stdout",
          "output_type": "stream",
          "text": [
            "✅ Autosaved at batch 70\n"
          ]
        },
        {
          "metadata": {
            "tags": null
          },
          "name": "stderr",
          "output_type": "stream",
          "text": [
            "Generating Notes:  38%|███▊      | 75/199 [45:39<1:15:22, 36.47s/it]"
          ]
        },
        {
          "metadata": {
            "tags": null
          },
          "name": "stdout",
          "output_type": "stream",
          "text": [
            "✅ Autosaved at batch 75\n"
          ]
        },
        {
          "metadata": {
            "tags": null
          },
          "name": "stderr",
          "output_type": "stream",
          "text": [
            "Generating Notes:  40%|████      | 80/199 [48:29<1:08:50, 34.71s/it]"
          ]
        },
        {
          "metadata": {
            "tags": null
          },
          "name": "stdout",
          "output_type": "stream",
          "text": [
            "✅ Autosaved at batch 80\n"
          ]
        },
        {
          "metadata": {
            "tags": null
          },
          "name": "stderr",
          "output_type": "stream",
          "text": [
            "Generating Notes:  43%|████▎     | 85/199 [51:17<1:03:58, 33.67s/it]"
          ]
        },
        {
          "metadata": {
            "tags": null
          },
          "name": "stdout",
          "output_type": "stream",
          "text": [
            "✅ Autosaved at batch 85\n"
          ]
        },
        {
          "metadata": {
            "tags": null
          },
          "name": "stderr",
          "output_type": "stream",
          "text": [
            "Generating Notes:  45%|████▌     | 90/199 [54:05<1:00:52, 33.51s/it]"
          ]
        },
        {
          "metadata": {
            "tags": null
          },
          "name": "stdout",
          "output_type": "stream",
          "text": [
            "✅ Autosaved at batch 90\n"
          ]
        },
        {
          "metadata": {
            "tags": null
          },
          "name": "stderr",
          "output_type": "stream",
          "text": [
            "Generating Notes:  48%|████▊     | 95/199 [57:05<1:02:12, 35.89s/it]"
          ]
        },
        {
          "metadata": {
            "tags": null
          },
          "name": "stdout",
          "output_type": "stream",
          "text": [
            "✅ Autosaved at batch 95\n"
          ]
        },
        {
          "metadata": {
            "tags": null
          },
          "name": "stderr",
          "output_type": "stream",
          "text": [
            "Generating Notes:  50%|█████     | 100/199 [59:56<58:20, 35.36s/it]"
          ]
        },
        {
          "metadata": {
            "tags": null
          },
          "name": "stdout",
          "output_type": "stream",
          "text": [
            "✅ Autosaved at batch 100\n"
          ]
        },
        {
          "metadata": {
            "tags": null
          },
          "name": "stderr",
          "output_type": "stream",
          "text": [
            "Generating Notes:  53%|█████▎    | 105/199 [1:02:50<53:41, 34.27s/it]"
          ]
        },
        {
          "metadata": {
            "tags": null
          },
          "name": "stdout",
          "output_type": "stream",
          "text": [
            "✅ Autosaved at batch 105\n"
          ]
        },
        {
          "metadata": {
            "tags": null
          },
          "name": "stderr",
          "output_type": "stream",
          "text": [
            "Generating Notes:  55%|█████▌    | 110/199 [1:05:53<53:38, 36.16s/it]"
          ]
        },
        {
          "metadata": {
            "tags": null
          },
          "name": "stdout",
          "output_type": "stream",
          "text": [
            "✅ Autosaved at batch 110\n"
          ]
        },
        {
          "metadata": {
            "tags": null
          },
          "name": "stderr",
          "output_type": "stream",
          "text": [
            "Generating Notes:  58%|█████▊    | 115/199 [1:08:41<47:41, 34.07s/it]"
          ]
        },
        {
          "metadata": {
            "tags": null
          },
          "name": "stdout",
          "output_type": "stream",
          "text": [
            "✅ Autosaved at batch 115\n"
          ]
        },
        {
          "metadata": {
            "tags": null
          },
          "name": "stderr",
          "output_type": "stream",
          "text": [
            "Generating Notes:  60%|██████    | 120/199 [1:11:29<44:28, 33.77s/it]"
          ]
        },
        {
          "metadata": {
            "tags": null
          },
          "name": "stdout",
          "output_type": "stream",
          "text": [
            "✅ Autosaved at batch 120\n"
          ]
        },
        {
          "metadata": {
            "tags": null
          },
          "name": "stderr",
          "output_type": "stream",
          "text": [
            "Generating Notes:  63%|██████▎   | 125/199 [1:14:15<40:52, 33.14s/it]"
          ]
        },
        {
          "metadata": {
            "tags": null
          },
          "name": "stdout",
          "output_type": "stream",
          "text": [
            "✅ Autosaved at batch 125\n"
          ]
        },
        {
          "metadata": {
            "tags": null
          },
          "name": "stderr",
          "output_type": "stream",
          "text": [
            "Generating Notes:  65%|██████▌   | 130/199 [1:17:02<38:42, 33.65s/it]"
          ]
        },
        {
          "metadata": {
            "tags": null
          },
          "name": "stdout",
          "output_type": "stream",
          "text": [
            "✅ Autosaved at batch 130\n"
          ]
        },
        {
          "output_type": "stream",
          "name": "stderr",
          "text": [
            "Generating Notes:  68%|██████▊   | 135/199 [1:19:49<35:41, 33.46s/it]"
          ]
        },
        {
          "output_type": "stream",
          "name": "stdout",
          "text": [
            "✅ Autosaved at batch 135\n"
          ]
        },
        {
          "output_type": "stream",
          "name": "stderr",
          "text": [
            "Generating Notes:  70%|███████   | 140/199 [1:22:41<34:36, 35.19s/it]"
          ]
        },
        {
          "output_type": "stream",
          "name": "stdout",
          "text": [
            "✅ Autosaved at batch 140\n"
          ]
        },
        {
          "output_type": "stream",
          "name": "stderr",
          "text": [
            "Generating Notes:  73%|███████▎  | 145/199 [1:25:26<30:06, 33.45s/it]"
          ]
        },
        {
          "output_type": "stream",
          "name": "stdout",
          "text": [
            "✅ Autosaved at batch 145\n"
          ]
        },
        {
          "output_type": "stream",
          "name": "stderr",
          "text": [
            "Generating Notes:  75%|███████▌  | 150/199 [1:28:15<27:59, 34.28s/it]"
          ]
        },
        {
          "output_type": "stream",
          "name": "stdout",
          "text": [
            "✅ Autosaved at batch 150\n"
          ]
        },
        {
          "output_type": "stream",
          "name": "stderr",
          "text": [
            "Generating Notes:  78%|███████▊  | 155/199 [1:31:02<24:33, 33.50s/it]"
          ]
        },
        {
          "output_type": "stream",
          "name": "stdout",
          "text": [
            "✅ Autosaved at batch 155\n"
          ]
        },
        {
          "output_type": "stream",
          "name": "stderr",
          "text": [
            "Generating Notes:  80%|████████  | 160/199 [1:33:48<21:34, 33.19s/it]"
          ]
        },
        {
          "output_type": "stream",
          "name": "stdout",
          "text": [
            "✅ Autosaved at batch 160\n"
          ]
        },
        {
          "output_type": "stream",
          "name": "stderr",
          "text": [
            "Generating Notes:  83%|████████▎ | 165/199 [1:36:33<18:39, 32.94s/it]"
          ]
        },
        {
          "output_type": "stream",
          "name": "stdout",
          "text": [
            "✅ Autosaved at batch 165\n"
          ]
        },
        {
          "output_type": "stream",
          "name": "stderr",
          "text": [
            "Generating Notes:  85%|████████▌ | 170/199 [1:39:17<15:53, 32.89s/it]"
          ]
        },
        {
          "output_type": "stream",
          "name": "stdout",
          "text": [
            "✅ Autosaved at batch 170\n"
          ]
        },
        {
          "output_type": "stream",
          "name": "stderr",
          "text": [
            "Generating Notes:  88%|████████▊ | 175/199 [1:42:03<13:11, 32.99s/it]"
          ]
        },
        {
          "output_type": "stream",
          "name": "stdout",
          "text": [
            "✅ Autosaved at batch 175\n"
          ]
        },
        {
          "output_type": "stream",
          "name": "stderr",
          "text": [
            "Generating Notes:  90%|█████████ | 180/199 [1:44:49<10:29, 33.15s/it]"
          ]
        },
        {
          "output_type": "stream",
          "name": "stdout",
          "text": [
            "✅ Autosaved at batch 180\n"
          ]
        },
        {
          "output_type": "stream",
          "name": "stderr",
          "text": [
            "Generating Notes:  93%|█████████▎| 185/199 [1:47:34<07:47, 33.38s/it]"
          ]
        },
        {
          "output_type": "stream",
          "name": "stdout",
          "text": [
            "✅ Autosaved at batch 185\n"
          ]
        },
        {
          "output_type": "stream",
          "name": "stderr",
          "text": [
            "Generating Notes:  95%|█████████▌| 190/199 [1:50:18<04:56, 32.89s/it]"
          ]
        },
        {
          "output_type": "stream",
          "name": "stdout",
          "text": [
            "✅ Autosaved at batch 190\n"
          ]
        },
        {
          "output_type": "stream",
          "name": "stderr",
          "text": [
            "Generating Notes:  98%|█████████▊| 195/199 [1:53:05<02:13, 33.36s/it]"
          ]
        },
        {
          "output_type": "stream",
          "name": "stdout",
          "text": [
            "✅ Autosaved at batch 195\n"
          ]
        },
        {
          "output_type": "stream",
          "name": "stderr",
          "text": [
            "Generating Notes: 100%|██████████| 199/199 [1:55:01<00:00, 34.68s/it]\n"
          ]
        },
        {
          "output_type": "stream",
          "name": "stdout",
          "text": [
            "\n",
            "✅ Done! 12695 notes generated and saved.\n"
          ]
        }
      ]
    },
    {
      "cell_type": "code",
      "source": [
        "# Total count of note\n",
        "df[\"note\"].str.strip().replace(\"\", np.nan).notna().sum()"
      ],
      "metadata": {
        "colab": {
          "base_uri": "https://localhost:8080/",
          "height": 0
        },
        "id": "D6hlPTwxJloy",
        "outputId": "5ebb394b-f578-4c9a-95cd-13ddc4e3d1de"
      },
      "execution_count": 24,
      "outputs": [
        {
          "output_type": "execute_result",
          "data": {
            "text/plain": [
              "np.int64(15462)"
            ]
          },
          "metadata": {},
          "execution_count": 24
        }
      ]
    },
    {
      "cell_type": "code",
      "source": [
        "df"
      ],
      "metadata": {
        "colab": {
          "base_uri": "https://localhost:8080/",
          "height": 799
        },
        "id": "DFJ9V-eLjn_s",
        "outputId": "38532c5f-1523-44e0-f147-49ff53d3105c"
      },
      "execution_count": 25,
      "outputs": [
        {
          "output_type": "execute_result",
          "data": {
            "text/plain": [
              "       patient_id       date  spo2  heart_rate  temperature  sys_bp  dia_bp  \\\n",
              "0               1 2025-01-01  97.5        92.3         36.2   118.8    82.9   \n",
              "1               1 2025-01-02  95.4        91.6         36.7   148.0    84.8   \n",
              "2               1 2025-01-03  98.1        84.8         36.9   105.7    84.8   \n",
              "3               1 2025-01-04  98.4        91.0         37.3   133.0    81.2   \n",
              "4               1 2025-01-05  94.1        90.2         36.5   135.4    91.9   \n",
              "...           ...        ...   ...         ...          ...     ...     ...   \n",
              "15495         500 2025-01-27  97.8        96.5         37.1   132.3    78.5   \n",
              "15496         500 2025-01-28   NaN        86.1         36.4   126.4    72.0   \n",
              "15497         500 2025-01-29  97.6        85.7         36.7   115.5    78.8   \n",
              "15498         500 2025-01-30  96.5        76.3         36.4     NaN    63.6   \n",
              "15499         500 2025-01-31  98.0        90.2         36.1   127.7    89.2   \n",
              "\n",
              "       weight  glucose profile  \\\n",
              "0        66.6      6.3    BASE   \n",
              "1        67.1      6.3    BASE   \n",
              "2        55.8      6.1    BASE   \n",
              "3        62.0      4.8    BASE   \n",
              "4        91.4      4.8    BASE   \n",
              "...       ...      ...     ...   \n",
              "15495    62.0      6.0    BASE   \n",
              "15496    73.8      5.4    BASE   \n",
              "15497    70.5      4.6    BASE   \n",
              "15498    72.9      6.4    BASE   \n",
              "15499    64.5      7.6    BASE   \n",
              "\n",
              "                                                    note  \n",
              "0      Bw, Bc, Fc, A, b.\\n\\nI/S: No, no one is out th...  \n",
              "1      A/P b/4.\\n\\nB/S: b/2.\\n\\nF/S: f/2.\\n\\nV/S: v/s...  \n",
              "2      SpO2 98.4 %, HR 81.7 bpm, Temp 45.5 °C, BP 106...  \n",
              "3      1/3, P. 4, V. 3, P. 2, E. 2, E. 1.\\n\\nThis is ...  \n",
              "4      F/S: V/S 90.0 %.\\n\\nV/S 0.0 %.\\n\\nFSBG 3.7 mmo...  \n",
              "...                                                  ...  \n",
              "15495       C/o none.\\nF/S: pt p/o none.\\nFSBG 8.0 %, HR  \n",
              "15496            %, HR 97.2 gb/L, HR 96.3/70.0.\\nFSBG 5.  \n",
              "15497        F/V/S SpO2 97.4 %, HR 85.7 bpm, Temp 38.7 °  \n",
              "15498                   0.0, F/P 2.2 %.\\nP: 0.0, F/P 1.9  \n",
              "15499          Pt c/o 3.8 mmol/L.\\nC/R: Pt p/o 6.4 mmol/  \n",
              "\n",
              "[15500 rows x 11 columns]"
            ],
            "text/html": [
              "\n",
              "  <div id=\"df-8473184c-eef3-4309-ac50-26b0442987dc\" class=\"colab-df-container\">\n",
              "    <div>\n",
              "<style scoped>\n",
              "    .dataframe tbody tr th:only-of-type {\n",
              "        vertical-align: middle;\n",
              "    }\n",
              "\n",
              "    .dataframe tbody tr th {\n",
              "        vertical-align: top;\n",
              "    }\n",
              "\n",
              "    .dataframe thead th {\n",
              "        text-align: right;\n",
              "    }\n",
              "</style>\n",
              "<table border=\"1\" class=\"dataframe\">\n",
              "  <thead>\n",
              "    <tr style=\"text-align: right;\">\n",
              "      <th></th>\n",
              "      <th>patient_id</th>\n",
              "      <th>date</th>\n",
              "      <th>spo2</th>\n",
              "      <th>heart_rate</th>\n",
              "      <th>temperature</th>\n",
              "      <th>sys_bp</th>\n",
              "      <th>dia_bp</th>\n",
              "      <th>weight</th>\n",
              "      <th>glucose</th>\n",
              "      <th>profile</th>\n",
              "      <th>note</th>\n",
              "    </tr>\n",
              "  </thead>\n",
              "  <tbody>\n",
              "    <tr>\n",
              "      <th>0</th>\n",
              "      <td>1</td>\n",
              "      <td>2025-01-01</td>\n",
              "      <td>97.5</td>\n",
              "      <td>92.3</td>\n",
              "      <td>36.2</td>\n",
              "      <td>118.8</td>\n",
              "      <td>82.9</td>\n",
              "      <td>66.6</td>\n",
              "      <td>6.3</td>\n",
              "      <td>BASE</td>\n",
              "      <td>Bw, Bc, Fc, A, b.\\n\\nI/S: No, no one is out th...</td>\n",
              "    </tr>\n",
              "    <tr>\n",
              "      <th>1</th>\n",
              "      <td>1</td>\n",
              "      <td>2025-01-02</td>\n",
              "      <td>95.4</td>\n",
              "      <td>91.6</td>\n",
              "      <td>36.7</td>\n",
              "      <td>148.0</td>\n",
              "      <td>84.8</td>\n",
              "      <td>67.1</td>\n",
              "      <td>6.3</td>\n",
              "      <td>BASE</td>\n",
              "      <td>A/P b/4.\\n\\nB/S: b/2.\\n\\nF/S: f/2.\\n\\nV/S: v/s...</td>\n",
              "    </tr>\n",
              "    <tr>\n",
              "      <th>2</th>\n",
              "      <td>1</td>\n",
              "      <td>2025-01-03</td>\n",
              "      <td>98.1</td>\n",
              "      <td>84.8</td>\n",
              "      <td>36.9</td>\n",
              "      <td>105.7</td>\n",
              "      <td>84.8</td>\n",
              "      <td>55.8</td>\n",
              "      <td>6.1</td>\n",
              "      <td>BASE</td>\n",
              "      <td>SpO2 98.4 %, HR 81.7 bpm, Temp 45.5 °C, BP 106...</td>\n",
              "    </tr>\n",
              "    <tr>\n",
              "      <th>3</th>\n",
              "      <td>1</td>\n",
              "      <td>2025-01-04</td>\n",
              "      <td>98.4</td>\n",
              "      <td>91.0</td>\n",
              "      <td>37.3</td>\n",
              "      <td>133.0</td>\n",
              "      <td>81.2</td>\n",
              "      <td>62.0</td>\n",
              "      <td>4.8</td>\n",
              "      <td>BASE</td>\n",
              "      <td>1/3, P. 4, V. 3, P. 2, E. 2, E. 1.\\n\\nThis is ...</td>\n",
              "    </tr>\n",
              "    <tr>\n",
              "      <th>4</th>\n",
              "      <td>1</td>\n",
              "      <td>2025-01-05</td>\n",
              "      <td>94.1</td>\n",
              "      <td>90.2</td>\n",
              "      <td>36.5</td>\n",
              "      <td>135.4</td>\n",
              "      <td>91.9</td>\n",
              "      <td>91.4</td>\n",
              "      <td>4.8</td>\n",
              "      <td>BASE</td>\n",
              "      <td>F/S: V/S 90.0 %.\\n\\nV/S 0.0 %.\\n\\nFSBG 3.7 mmo...</td>\n",
              "    </tr>\n",
              "    <tr>\n",
              "      <th>...</th>\n",
              "      <td>...</td>\n",
              "      <td>...</td>\n",
              "      <td>...</td>\n",
              "      <td>...</td>\n",
              "      <td>...</td>\n",
              "      <td>...</td>\n",
              "      <td>...</td>\n",
              "      <td>...</td>\n",
              "      <td>...</td>\n",
              "      <td>...</td>\n",
              "      <td>...</td>\n",
              "    </tr>\n",
              "    <tr>\n",
              "      <th>15495</th>\n",
              "      <td>500</td>\n",
              "      <td>2025-01-27</td>\n",
              "      <td>97.8</td>\n",
              "      <td>96.5</td>\n",
              "      <td>37.1</td>\n",
              "      <td>132.3</td>\n",
              "      <td>78.5</td>\n",
              "      <td>62.0</td>\n",
              "      <td>6.0</td>\n",
              "      <td>BASE</td>\n",
              "      <td>C/o none.\\nF/S: pt p/o none.\\nFSBG 8.0 %, HR</td>\n",
              "    </tr>\n",
              "    <tr>\n",
              "      <th>15496</th>\n",
              "      <td>500</td>\n",
              "      <td>2025-01-28</td>\n",
              "      <td>NaN</td>\n",
              "      <td>86.1</td>\n",
              "      <td>36.4</td>\n",
              "      <td>126.4</td>\n",
              "      <td>72.0</td>\n",
              "      <td>73.8</td>\n",
              "      <td>5.4</td>\n",
              "      <td>BASE</td>\n",
              "      <td>%, HR 97.2 gb/L, HR 96.3/70.0.\\nFSBG 5.</td>\n",
              "    </tr>\n",
              "    <tr>\n",
              "      <th>15497</th>\n",
              "      <td>500</td>\n",
              "      <td>2025-01-29</td>\n",
              "      <td>97.6</td>\n",
              "      <td>85.7</td>\n",
              "      <td>36.7</td>\n",
              "      <td>115.5</td>\n",
              "      <td>78.8</td>\n",
              "      <td>70.5</td>\n",
              "      <td>4.6</td>\n",
              "      <td>BASE</td>\n",
              "      <td>F/V/S SpO2 97.4 %, HR 85.7 bpm, Temp 38.7 °</td>\n",
              "    </tr>\n",
              "    <tr>\n",
              "      <th>15498</th>\n",
              "      <td>500</td>\n",
              "      <td>2025-01-30</td>\n",
              "      <td>96.5</td>\n",
              "      <td>76.3</td>\n",
              "      <td>36.4</td>\n",
              "      <td>NaN</td>\n",
              "      <td>63.6</td>\n",
              "      <td>72.9</td>\n",
              "      <td>6.4</td>\n",
              "      <td>BASE</td>\n",
              "      <td>0.0, F/P 2.2 %.\\nP: 0.0, F/P 1.9</td>\n",
              "    </tr>\n",
              "    <tr>\n",
              "      <th>15499</th>\n",
              "      <td>500</td>\n",
              "      <td>2025-01-31</td>\n",
              "      <td>98.0</td>\n",
              "      <td>90.2</td>\n",
              "      <td>36.1</td>\n",
              "      <td>127.7</td>\n",
              "      <td>89.2</td>\n",
              "      <td>64.5</td>\n",
              "      <td>7.6</td>\n",
              "      <td>BASE</td>\n",
              "      <td>Pt c/o 3.8 mmol/L.\\nC/R: Pt p/o 6.4 mmol/</td>\n",
              "    </tr>\n",
              "  </tbody>\n",
              "</table>\n",
              "<p>15500 rows × 11 columns</p>\n",
              "</div>\n",
              "    <div class=\"colab-df-buttons\">\n",
              "\n",
              "  <div class=\"colab-df-container\">\n",
              "    <button class=\"colab-df-convert\" onclick=\"convertToInteractive('df-8473184c-eef3-4309-ac50-26b0442987dc')\"\n",
              "            title=\"Convert this dataframe to an interactive table.\"\n",
              "            style=\"display:none;\">\n",
              "\n",
              "  <svg xmlns=\"http://www.w3.org/2000/svg\" height=\"24px\" viewBox=\"0 -960 960 960\">\n",
              "    <path d=\"M120-120v-720h720v720H120Zm60-500h600v-160H180v160Zm220 220h160v-160H400v160Zm0 220h160v-160H400v160ZM180-400h160v-160H180v160Zm440 0h160v-160H620v160ZM180-180h160v-160H180v160Zm440 0h160v-160H620v160Z\"/>\n",
              "  </svg>\n",
              "    </button>\n",
              "\n",
              "  <style>\n",
              "    .colab-df-container {\n",
              "      display:flex;\n",
              "      gap: 12px;\n",
              "    }\n",
              "\n",
              "    .colab-df-convert {\n",
              "      background-color: #E8F0FE;\n",
              "      border: none;\n",
              "      border-radius: 50%;\n",
              "      cursor: pointer;\n",
              "      display: none;\n",
              "      fill: #1967D2;\n",
              "      height: 32px;\n",
              "      padding: 0 0 0 0;\n",
              "      width: 32px;\n",
              "    }\n",
              "\n",
              "    .colab-df-convert:hover {\n",
              "      background-color: #E2EBFA;\n",
              "      box-shadow: 0px 1px 2px rgba(60, 64, 67, 0.3), 0px 1px 3px 1px rgba(60, 64, 67, 0.15);\n",
              "      fill: #174EA6;\n",
              "    }\n",
              "\n",
              "    .colab-df-buttons div {\n",
              "      margin-bottom: 4px;\n",
              "    }\n",
              "\n",
              "    [theme=dark] .colab-df-convert {\n",
              "      background-color: #3B4455;\n",
              "      fill: #D2E3FC;\n",
              "    }\n",
              "\n",
              "    [theme=dark] .colab-df-convert:hover {\n",
              "      background-color: #434B5C;\n",
              "      box-shadow: 0px 1px 3px 1px rgba(0, 0, 0, 0.15);\n",
              "      filter: drop-shadow(0px 1px 2px rgba(0, 0, 0, 0.3));\n",
              "      fill: #FFFFFF;\n",
              "    }\n",
              "  </style>\n",
              "\n",
              "    <script>\n",
              "      const buttonEl =\n",
              "        document.querySelector('#df-8473184c-eef3-4309-ac50-26b0442987dc button.colab-df-convert');\n",
              "      buttonEl.style.display =\n",
              "        google.colab.kernel.accessAllowed ? 'block' : 'none';\n",
              "\n",
              "      async function convertToInteractive(key) {\n",
              "        const element = document.querySelector('#df-8473184c-eef3-4309-ac50-26b0442987dc');\n",
              "        const dataTable =\n",
              "          await google.colab.kernel.invokeFunction('convertToInteractive',\n",
              "                                                    [key], {});\n",
              "        if (!dataTable) return;\n",
              "\n",
              "        const docLinkHtml = 'Like what you see? Visit the ' +\n",
              "          '<a target=\"_blank\" href=https://colab.research.google.com/notebooks/data_table.ipynb>data table notebook</a>'\n",
              "          + ' to learn more about interactive tables.';\n",
              "        element.innerHTML = '';\n",
              "        dataTable['output_type'] = 'display_data';\n",
              "        await google.colab.output.renderOutput(dataTable, element);\n",
              "        const docLink = document.createElement('div');\n",
              "        docLink.innerHTML = docLinkHtml;\n",
              "        element.appendChild(docLink);\n",
              "      }\n",
              "    </script>\n",
              "  </div>\n",
              "\n",
              "\n",
              "    <div id=\"df-1759baeb-db9f-431e-8e62-cb7cd4562291\">\n",
              "      <button class=\"colab-df-quickchart\" onclick=\"quickchart('df-1759baeb-db9f-431e-8e62-cb7cd4562291')\"\n",
              "                title=\"Suggest charts\"\n",
              "                style=\"display:none;\">\n",
              "\n",
              "<svg xmlns=\"http://www.w3.org/2000/svg\" height=\"24px\"viewBox=\"0 0 24 24\"\n",
              "     width=\"24px\">\n",
              "    <g>\n",
              "        <path d=\"M19 3H5c-1.1 0-2 .9-2 2v14c0 1.1.9 2 2 2h14c1.1 0 2-.9 2-2V5c0-1.1-.9-2-2-2zM9 17H7v-7h2v7zm4 0h-2V7h2v10zm4 0h-2v-4h2v4z\"/>\n",
              "    </g>\n",
              "</svg>\n",
              "      </button>\n",
              "\n",
              "<style>\n",
              "  .colab-df-quickchart {\n",
              "      --bg-color: #E8F0FE;\n",
              "      --fill-color: #1967D2;\n",
              "      --hover-bg-color: #E2EBFA;\n",
              "      --hover-fill-color: #174EA6;\n",
              "      --disabled-fill-color: #AAA;\n",
              "      --disabled-bg-color: #DDD;\n",
              "  }\n",
              "\n",
              "  [theme=dark] .colab-df-quickchart {\n",
              "      --bg-color: #3B4455;\n",
              "      --fill-color: #D2E3FC;\n",
              "      --hover-bg-color: #434B5C;\n",
              "      --hover-fill-color: #FFFFFF;\n",
              "      --disabled-bg-color: #3B4455;\n",
              "      --disabled-fill-color: #666;\n",
              "  }\n",
              "\n",
              "  .colab-df-quickchart {\n",
              "    background-color: var(--bg-color);\n",
              "    border: none;\n",
              "    border-radius: 50%;\n",
              "    cursor: pointer;\n",
              "    display: none;\n",
              "    fill: var(--fill-color);\n",
              "    height: 32px;\n",
              "    padding: 0;\n",
              "    width: 32px;\n",
              "  }\n",
              "\n",
              "  .colab-df-quickchart:hover {\n",
              "    background-color: var(--hover-bg-color);\n",
              "    box-shadow: 0 1px 2px rgba(60, 64, 67, 0.3), 0 1px 3px 1px rgba(60, 64, 67, 0.15);\n",
              "    fill: var(--button-hover-fill-color);\n",
              "  }\n",
              "\n",
              "  .colab-df-quickchart-complete:disabled,\n",
              "  .colab-df-quickchart-complete:disabled:hover {\n",
              "    background-color: var(--disabled-bg-color);\n",
              "    fill: var(--disabled-fill-color);\n",
              "    box-shadow: none;\n",
              "  }\n",
              "\n",
              "  .colab-df-spinner {\n",
              "    border: 2px solid var(--fill-color);\n",
              "    border-color: transparent;\n",
              "    border-bottom-color: var(--fill-color);\n",
              "    animation:\n",
              "      spin 1s steps(1) infinite;\n",
              "  }\n",
              "\n",
              "  @keyframes spin {\n",
              "    0% {\n",
              "      border-color: transparent;\n",
              "      border-bottom-color: var(--fill-color);\n",
              "      border-left-color: var(--fill-color);\n",
              "    }\n",
              "    20% {\n",
              "      border-color: transparent;\n",
              "      border-left-color: var(--fill-color);\n",
              "      border-top-color: var(--fill-color);\n",
              "    }\n",
              "    30% {\n",
              "      border-color: transparent;\n",
              "      border-left-color: var(--fill-color);\n",
              "      border-top-color: var(--fill-color);\n",
              "      border-right-color: var(--fill-color);\n",
              "    }\n",
              "    40% {\n",
              "      border-color: transparent;\n",
              "      border-right-color: var(--fill-color);\n",
              "      border-top-color: var(--fill-color);\n",
              "    }\n",
              "    60% {\n",
              "      border-color: transparent;\n",
              "      border-right-color: var(--fill-color);\n",
              "    }\n",
              "    80% {\n",
              "      border-color: transparent;\n",
              "      border-right-color: var(--fill-color);\n",
              "      border-bottom-color: var(--fill-color);\n",
              "    }\n",
              "    90% {\n",
              "      border-color: transparent;\n",
              "      border-bottom-color: var(--fill-color);\n",
              "    }\n",
              "  }\n",
              "</style>\n",
              "\n",
              "      <script>\n",
              "        async function quickchart(key) {\n",
              "          const quickchartButtonEl =\n",
              "            document.querySelector('#' + key + ' button');\n",
              "          quickchartButtonEl.disabled = true;  // To prevent multiple clicks.\n",
              "          quickchartButtonEl.classList.add('colab-df-spinner');\n",
              "          try {\n",
              "            const charts = await google.colab.kernel.invokeFunction(\n",
              "                'suggestCharts', [key], {});\n",
              "          } catch (error) {\n",
              "            console.error('Error during call to suggestCharts:', error);\n",
              "          }\n",
              "          quickchartButtonEl.classList.remove('colab-df-spinner');\n",
              "          quickchartButtonEl.classList.add('colab-df-quickchart-complete');\n",
              "        }\n",
              "        (() => {\n",
              "          let quickchartButtonEl =\n",
              "            document.querySelector('#df-1759baeb-db9f-431e-8e62-cb7cd4562291 button');\n",
              "          quickchartButtonEl.style.display =\n",
              "            google.colab.kernel.accessAllowed ? 'block' : 'none';\n",
              "        })();\n",
              "      </script>\n",
              "    </div>\n",
              "\n",
              "  <div id=\"id_119f6136-ab0e-4332-ad02-124e1b0400fa\">\n",
              "    <style>\n",
              "      .colab-df-generate {\n",
              "        background-color: #E8F0FE;\n",
              "        border: none;\n",
              "        border-radius: 50%;\n",
              "        cursor: pointer;\n",
              "        display: none;\n",
              "        fill: #1967D2;\n",
              "        height: 32px;\n",
              "        padding: 0 0 0 0;\n",
              "        width: 32px;\n",
              "      }\n",
              "\n",
              "      .colab-df-generate:hover {\n",
              "        background-color: #E2EBFA;\n",
              "        box-shadow: 0px 1px 2px rgba(60, 64, 67, 0.3), 0px 1px 3px 1px rgba(60, 64, 67, 0.15);\n",
              "        fill: #174EA6;\n",
              "      }\n",
              "\n",
              "      [theme=dark] .colab-df-generate {\n",
              "        background-color: #3B4455;\n",
              "        fill: #D2E3FC;\n",
              "      }\n",
              "\n",
              "      [theme=dark] .colab-df-generate:hover {\n",
              "        background-color: #434B5C;\n",
              "        box-shadow: 0px 1px 3px 1px rgba(0, 0, 0, 0.15);\n",
              "        filter: drop-shadow(0px 1px 2px rgba(0, 0, 0, 0.3));\n",
              "        fill: #FFFFFF;\n",
              "      }\n",
              "    </style>\n",
              "    <button class=\"colab-df-generate\" onclick=\"generateWithVariable('df')\"\n",
              "            title=\"Generate code using this dataframe.\"\n",
              "            style=\"display:none;\">\n",
              "\n",
              "  <svg xmlns=\"http://www.w3.org/2000/svg\" height=\"24px\"viewBox=\"0 0 24 24\"\n",
              "       width=\"24px\">\n",
              "    <path d=\"M7,19H8.4L18.45,9,17,7.55,7,17.6ZM5,21V16.75L18.45,3.32a2,2,0,0,1,2.83,0l1.4,1.43a1.91,1.91,0,0,1,.58,1.4,1.91,1.91,0,0,1-.58,1.4L9.25,21ZM18.45,9,17,7.55Zm-12,3A5.31,5.31,0,0,0,4.9,8.1,5.31,5.31,0,0,0,1,6.5,5.31,5.31,0,0,0,4.9,4.9,5.31,5.31,0,0,0,6.5,1,5.31,5.31,0,0,0,8.1,4.9,5.31,5.31,0,0,0,12,6.5,5.46,5.46,0,0,0,6.5,12Z\"/>\n",
              "  </svg>\n",
              "    </button>\n",
              "    <script>\n",
              "      (() => {\n",
              "      const buttonEl =\n",
              "        document.querySelector('#id_119f6136-ab0e-4332-ad02-124e1b0400fa button.colab-df-generate');\n",
              "      buttonEl.style.display =\n",
              "        google.colab.kernel.accessAllowed ? 'block' : 'none';\n",
              "\n",
              "      buttonEl.onclick = () => {\n",
              "        google.colab.notebook.generateWithVariable('df');\n",
              "      }\n",
              "      })();\n",
              "    </script>\n",
              "  </div>\n",
              "\n",
              "    </div>\n",
              "  </div>\n"
            ],
            "application/vnd.google.colaboratory.intrinsic+json": {
              "type": "dataframe",
              "variable_name": "df",
              "summary": "{\n  \"name\": \"df\",\n  \"rows\": 15500,\n  \"fields\": [\n    {\n      \"column\": \"patient_id\",\n      \"properties\": {\n        \"dtype\": \"number\",\n        \"std\": 144,\n        \"min\": 1,\n        \"max\": 500,\n        \"num_unique_values\": 500,\n        \"samples\": [\n          362,\n          74,\n          375\n        ],\n        \"semantic_type\": \"\",\n        \"description\": \"\"\n      }\n    },\n    {\n      \"column\": \"date\",\n      \"properties\": {\n        \"dtype\": \"date\",\n        \"min\": \"2025-01-01 00:00:00\",\n        \"max\": \"2025-01-31 00:00:00\",\n        \"num_unique_values\": 31,\n        \"samples\": [\n          \"2025-01-28 00:00:00\",\n          \"2025-01-16 00:00:00\",\n          \"2025-01-24 00:00:00\"\n        ],\n        \"semantic_type\": \"\",\n        \"description\": \"\"\n      }\n    },\n    {\n      \"column\": \"spo2\",\n      \"properties\": {\n        \"dtype\": \"number\",\n        \"std\": 3.7992314625870307,\n        \"min\": 76.3,\n        \"max\": 100.0,\n        \"num_unique_values\": 223,\n        \"samples\": [\n          98.3,\n          94.6,\n          94.2\n        ],\n        \"semantic_type\": \"\",\n        \"description\": \"\"\n      }\n    },\n    {\n      \"column\": \"heart_rate\",\n      \"properties\": {\n        \"dtype\": \"number\",\n        \"std\": 16.433010159635337,\n        \"min\": 37.3,\n        \"max\": 167.5,\n        \"num_unique_values\": 1018,\n        \"samples\": [\n          101.1,\n          121.5,\n          86.6\n        ],\n        \"semantic_type\": \"\",\n        \"description\": \"\"\n      }\n    },\n    {\n      \"column\": \"temperature\",\n      \"properties\": {\n        \"dtype\": \"number\",\n        \"std\": 0.8740397028975687,\n        \"min\": 35.1,\n        \"max\": 41.39999999999999,\n        \"num_unique_values\": 58,\n        \"samples\": [\n          36.2,\n          37.2,\n          40.49999999999999\n        ],\n        \"semantic_type\": \"\",\n        \"description\": \"\"\n      }\n    },\n    {\n      \"column\": \"sys_bp\",\n      \"properties\": {\n        \"dtype\": \"number\",\n        \"std\": 23.72352815004421,\n        \"min\": 80.0,\n        \"max\": 220.0,\n        \"num_unique_values\": 1227,\n        \"samples\": [\n          158.9,\n          120.8,\n          169.2\n        ],\n        \"semantic_type\": \"\",\n        \"description\": \"\"\n      }\n    },\n    {\n      \"column\": \"dia_bp\",\n      \"properties\": {\n        \"dtype\": \"number\",\n        \"std\": 13.224373069819565,\n        \"min\": 40.0,\n        \"max\": 133.0,\n        \"num_unique_values\": 773,\n        \"samples\": [\n          69.6,\n          98.6,\n          57.6\n        ],\n        \"semantic_type\": \"\",\n        \"description\": \"\"\n      }\n    },\n    {\n      \"column\": \"weight\",\n      \"properties\": {\n        \"dtype\": \"number\",\n        \"std\": 8.052715860077535,\n        \"min\": 41.8,\n        \"max\": 99.9,\n        \"num_unique_values\": 496,\n        \"samples\": [\n          87.3,\n          60.7,\n          79.5\n        ],\n        \"semantic_type\": \"\",\n        \"description\": \"\"\n      }\n    },\n    {\n      \"column\": \"glucose\",\n      \"properties\": {\n        \"dtype\": \"number\",\n        \"std\": 2.415570767113708,\n        \"min\": 3.0,\n        \"max\": 15.4,\n        \"num_unique_values\": 122,\n        \"samples\": [\n          4.5,\n          12.9,\n          10.5\n        ],\n        \"semantic_type\": \"\",\n        \"description\": \"\"\n      }\n    },\n    {\n      \"column\": \"profile\",\n      \"properties\": {\n        \"dtype\": \"category\",\n        \"num_unique_values\": 8,\n        \"samples\": [\n          \"HTN\",\n          \"BASE+INF\",\n          \"BASE\"\n        ],\n        \"semantic_type\": \"\",\n        \"description\": \"\"\n      }\n    },\n    {\n      \"column\": \"note\",\n      \"properties\": {\n        \"dtype\": \"string\",\n        \"num_unique_values\": 15196,\n        \"samples\": [\n          \"P/G 0.5 g/G 0.0 g/P 0.3 g/P 0.3 g\",\n          \"c/o 0.4 mmol/L.\\nT/V: 0.3 mmol/L.\\nT/\",\n          \"C/O, O(0.01, 4.02)\\n1.2 Oq/O: N/\"\n        ],\n        \"semantic_type\": \"\",\n        \"description\": \"\"\n      }\n    }\n  ]\n}"
            }
          },
          "metadata": {},
          "execution_count": 25
        },
        {
          "output_type": "stream",
          "name": "stdout",
          "text": [
            "Error: Runtime no longer has a reference to this dataframe, please re-run this cell and try again.\n",
            "Error: Runtime no longer has a reference to this dataframe, please re-run this cell and try again.\n",
            "Error: Runtime no longer has a reference to this dataframe, please re-run this cell and try again.\n",
            "Error: Runtime no longer has a reference to this dataframe, please re-run this cell and try again.\n",
            "Error: Runtime no longer has a reference to this dataframe, please re-run this cell and try again.\n"
          ]
        }
      ]
    },
    {
      "cell_type": "markdown",
      "source": [
        "##1.5 Synthetic Questionnaire"
      ],
      "metadata": {
        "id": "NtbRLCjmoSby"
      }
    },
    {
      "cell_type": "code",
      "source": [
        "#     Generate synthetic questionnaire free-text responses\n",
        "#     (fast – no external model calls)\n",
        "import numpy as np\n",
        "\n",
        "rng = np.random.default_rng(42)\n",
        "\n",
        "# sentiment pools -----------------------------------------------------\n",
        "POS = [\n",
        "    \"I'm feeling well, no real issues today.\",\n",
        "    \"Doing great – no symptoms to report.\",\n",
        "    \"I feel energetic and in good spirits.\"\n",
        "]\n",
        "NEU = [\n",
        "    \"I feel okay overall, just the usual routine.\",\n",
        "    \"No big changes; I'd say I'm average today.\",\n",
        "    \"Nothing special, an ordinary day.\"\n",
        "]\n",
        "NEG = [\n",
        "    \"I'm feeling tired and a bit short of breath.\",\n",
        "    \"Not great – dizziness and mild chest tightness.\",\n",
        "    \"I feel weak and my appetite is low.\"\n",
        "]\n",
        "\n",
        "SYMPTOMS = {\n",
        "    \"HTN\": [\"headache\", \"lightheaded\", \"blurred vision\"],\n",
        "    \"DM\" : [\"thirsty\", \"numb feet\", \"frequent urination\"],\n",
        "    \"COPD\": [\"coughing\", \"wheezing\", \"chest tightness\"]\n",
        "}\n",
        "\n",
        "def make_response(row):\n",
        "    # assign sentiment band\n",
        "    band = rng.choice([\"pos\"]*4 + [\"neu\"]*2 + [\"neg\"]*4)\n",
        "    text = rng.choice({\"pos\": POS, \"neu\": NEU, \"neg\": NEG}[band])\n",
        "\n",
        "    # optionally inject cohort-specific symptom word\n",
        "    cohort = row[\"profile\"].split(\"+\")[0]   # e.g. HTN, DM, COPD, BASE\n",
        "    if cohort in SYMPTOMS:\n",
        "        symptom = rng.choice(SYMPTOMS[cohort])\n",
        "        text = f\"{text} I also feel {symptom}.\"\n",
        "    return text\n",
        "\n",
        "df[\"questionnaire\"] = df.apply(make_response, axis=1)\n",
        "\n",
        "print(df[[\"profile\", \"questionnaire\"]].head())\n"
      ],
      "metadata": {
        "colab": {
          "base_uri": "https://localhost:8080/",
          "height": 0
        },
        "id": "cLNxdyKfoPGJ",
        "outputId": "54e14b8a-c354-4930-c797-d2d1f11e26f4"
      },
      "execution_count": 33,
      "outputs": [
        {
          "output_type": "stream",
          "name": "stdout",
          "text": [
            "  profile                                    questionnaire\n",
            "0    BASE            I feel energetic and in good spirits.\n",
            "1    BASE  Not great – dizziness and mild chest tightness.\n",
            "2    BASE                Nothing special, an ordinary day.\n",
            "3    BASE            I feel energetic and in good spirits.\n",
            "4    BASE          I'm feeling well, no real issues today.\n"
          ]
        }
      ]
    },
    {
      "cell_type": "code",
      "source": [
        "df"
      ],
      "metadata": {
        "colab": {
          "base_uri": "https://localhost:8080/",
          "height": 632
        },
        "id": "kiSgyj15oluB",
        "outputId": "3e26a8b2-f3d5-4f13-b8ed-bef56b3ac9f4"
      },
      "execution_count": 34,
      "outputs": [
        {
          "output_type": "execute_result",
          "data": {
            "text/plain": [
              "       patient_id       date  spo2  heart_rate  temperature  sys_bp  dia_bp  \\\n",
              "0               1 2025-01-01  97.5        92.3         36.2   118.8    82.9   \n",
              "1               1 2025-01-02  95.4        91.6         36.7   148.0    84.8   \n",
              "2               1 2025-01-03  98.1        84.8         36.9   105.7    84.8   \n",
              "3               1 2025-01-04  98.4        91.0         37.3   133.0    81.2   \n",
              "4               1 2025-01-05  94.1        90.2         36.5   135.4    91.9   \n",
              "...           ...        ...   ...         ...          ...     ...     ...   \n",
              "15495         500 2025-01-27  97.8        96.5         37.1   132.3    78.5   \n",
              "15496         500 2025-01-28  97.8        86.1         36.4   126.4    72.0   \n",
              "15497         500 2025-01-29  97.6        85.7         36.7   115.5    78.8   \n",
              "15498         500 2025-01-30  96.5        76.3         36.4   115.5    63.6   \n",
              "15499         500 2025-01-31  98.0        90.2         36.1   127.7    89.2   \n",
              "\n",
              "       weight  glucose profile  \\\n",
              "0        66.6      6.3    BASE   \n",
              "1        67.1      6.3    BASE   \n",
              "2        55.8      6.1    BASE   \n",
              "3        62.0      4.8    BASE   \n",
              "4        91.4      4.8    BASE   \n",
              "...       ...      ...     ...   \n",
              "15495    62.0      6.0    BASE   \n",
              "15496    73.8      5.4    BASE   \n",
              "15497    70.5      4.6    BASE   \n",
              "15498    72.9      6.4    BASE   \n",
              "15499    64.5      7.6    BASE   \n",
              "\n",
              "                                                    note  news_score  \\\n",
              "0      Bw, Bc, Fc, A, b.\\n\\nI/S: No, no one is out th...           0   \n",
              "1      A/P b/4.\\n\\nB/S: b/2.\\n\\nF/S: f/2.\\n\\nV/S: v/s...           0   \n",
              "2      SpO2 98.4 %, HR 81.7 bpm, Temp 45.5 °C, BP 106...           1   \n",
              "3      1/3, P. 4, V. 3, P. 2, E. 2, E. 1.\\n\\nThis is ...           0   \n",
              "4      F/S: V/S 90.0 %.\\n\\nV/S 0.0 %.\\n\\nFSBG 3.7 mmo...           1   \n",
              "...                                                  ...         ...   \n",
              "15495       C/o none.\\nF/S: pt p/o none.\\nFSBG 8.0 %, HR           0   \n",
              "15496            %, HR 97.2 gb/L, HR 96.3/70.0.\\nFSBG 5.           0   \n",
              "15497        F/V/S SpO2 97.4 %, HR 85.7 bpm, Temp 38.7 °           0   \n",
              "15498                   0.0, F/P 2.2 %.\\nP: 0.0, F/P 1.9           0   \n",
              "15499          Pt c/o 3.8 mmol/L.\\nC/R: Pt p/o 6.4 mmol/           0   \n",
              "\n",
              "       news_future  deteriorate_next_day  \\\n",
              "0              0.0                     0   \n",
              "1              1.0                     0   \n",
              "2              1.0                     0   \n",
              "3              1.0                     0   \n",
              "4              2.0                     0   \n",
              "...            ...                   ...   \n",
              "15495          0.0                     0   \n",
              "15496          0.0                     0   \n",
              "15497          0.0                     0   \n",
              "15498          0.0                     0   \n",
              "15499          0.0                     0   \n",
              "\n",
              "                                         questionnaire  \n",
              "0                I feel energetic and in good spirits.  \n",
              "1      Not great – dizziness and mild chest tightness.  \n",
              "2                    Nothing special, an ordinary day.  \n",
              "3                I feel energetic and in good spirits.  \n",
              "4              I'm feeling well, no real issues today.  \n",
              "...                                                ...  \n",
              "15495             Doing great – no symptoms to report.  \n",
              "15496       No big changes; I'd say I'm average today.  \n",
              "15497          I'm feeling well, no real issues today.  \n",
              "15498             Doing great – no symptoms to report.  \n",
              "15499  Not great – dizziness and mild chest tightness.  \n",
              "\n",
              "[15500 rows x 15 columns]"
            ],
            "text/html": [
              "\n",
              "  <div id=\"df-e3c26aa7-f817-484c-9d97-f72a671df64c\" class=\"colab-df-container\">\n",
              "    <div>\n",
              "<style scoped>\n",
              "    .dataframe tbody tr th:only-of-type {\n",
              "        vertical-align: middle;\n",
              "    }\n",
              "\n",
              "    .dataframe tbody tr th {\n",
              "        vertical-align: top;\n",
              "    }\n",
              "\n",
              "    .dataframe thead th {\n",
              "        text-align: right;\n",
              "    }\n",
              "</style>\n",
              "<table border=\"1\" class=\"dataframe\">\n",
              "  <thead>\n",
              "    <tr style=\"text-align: right;\">\n",
              "      <th></th>\n",
              "      <th>patient_id</th>\n",
              "      <th>date</th>\n",
              "      <th>spo2</th>\n",
              "      <th>heart_rate</th>\n",
              "      <th>temperature</th>\n",
              "      <th>sys_bp</th>\n",
              "      <th>dia_bp</th>\n",
              "      <th>weight</th>\n",
              "      <th>glucose</th>\n",
              "      <th>profile</th>\n",
              "      <th>note</th>\n",
              "      <th>news_score</th>\n",
              "      <th>news_future</th>\n",
              "      <th>deteriorate_next_day</th>\n",
              "      <th>questionnaire</th>\n",
              "    </tr>\n",
              "  </thead>\n",
              "  <tbody>\n",
              "    <tr>\n",
              "      <th>0</th>\n",
              "      <td>1</td>\n",
              "      <td>2025-01-01</td>\n",
              "      <td>97.5</td>\n",
              "      <td>92.3</td>\n",
              "      <td>36.2</td>\n",
              "      <td>118.8</td>\n",
              "      <td>82.9</td>\n",
              "      <td>66.6</td>\n",
              "      <td>6.3</td>\n",
              "      <td>BASE</td>\n",
              "      <td>Bw, Bc, Fc, A, b.\\n\\nI/S: No, no one is out th...</td>\n",
              "      <td>0</td>\n",
              "      <td>0.0</td>\n",
              "      <td>0</td>\n",
              "      <td>I feel energetic and in good spirits.</td>\n",
              "    </tr>\n",
              "    <tr>\n",
              "      <th>1</th>\n",
              "      <td>1</td>\n",
              "      <td>2025-01-02</td>\n",
              "      <td>95.4</td>\n",
              "      <td>91.6</td>\n",
              "      <td>36.7</td>\n",
              "      <td>148.0</td>\n",
              "      <td>84.8</td>\n",
              "      <td>67.1</td>\n",
              "      <td>6.3</td>\n",
              "      <td>BASE</td>\n",
              "      <td>A/P b/4.\\n\\nB/S: b/2.\\n\\nF/S: f/2.\\n\\nV/S: v/s...</td>\n",
              "      <td>0</td>\n",
              "      <td>1.0</td>\n",
              "      <td>0</td>\n",
              "      <td>Not great – dizziness and mild chest tightness.</td>\n",
              "    </tr>\n",
              "    <tr>\n",
              "      <th>2</th>\n",
              "      <td>1</td>\n",
              "      <td>2025-01-03</td>\n",
              "      <td>98.1</td>\n",
              "      <td>84.8</td>\n",
              "      <td>36.9</td>\n",
              "      <td>105.7</td>\n",
              "      <td>84.8</td>\n",
              "      <td>55.8</td>\n",
              "      <td>6.1</td>\n",
              "      <td>BASE</td>\n",
              "      <td>SpO2 98.4 %, HR 81.7 bpm, Temp 45.5 °C, BP 106...</td>\n",
              "      <td>1</td>\n",
              "      <td>1.0</td>\n",
              "      <td>0</td>\n",
              "      <td>Nothing special, an ordinary day.</td>\n",
              "    </tr>\n",
              "    <tr>\n",
              "      <th>3</th>\n",
              "      <td>1</td>\n",
              "      <td>2025-01-04</td>\n",
              "      <td>98.4</td>\n",
              "      <td>91.0</td>\n",
              "      <td>37.3</td>\n",
              "      <td>133.0</td>\n",
              "      <td>81.2</td>\n",
              "      <td>62.0</td>\n",
              "      <td>4.8</td>\n",
              "      <td>BASE</td>\n",
              "      <td>1/3, P. 4, V. 3, P. 2, E. 2, E. 1.\\n\\nThis is ...</td>\n",
              "      <td>0</td>\n",
              "      <td>1.0</td>\n",
              "      <td>0</td>\n",
              "      <td>I feel energetic and in good spirits.</td>\n",
              "    </tr>\n",
              "    <tr>\n",
              "      <th>4</th>\n",
              "      <td>1</td>\n",
              "      <td>2025-01-05</td>\n",
              "      <td>94.1</td>\n",
              "      <td>90.2</td>\n",
              "      <td>36.5</td>\n",
              "      <td>135.4</td>\n",
              "      <td>91.9</td>\n",
              "      <td>91.4</td>\n",
              "      <td>4.8</td>\n",
              "      <td>BASE</td>\n",
              "      <td>F/S: V/S 90.0 %.\\n\\nV/S 0.0 %.\\n\\nFSBG 3.7 mmo...</td>\n",
              "      <td>1</td>\n",
              "      <td>2.0</td>\n",
              "      <td>0</td>\n",
              "      <td>I'm feeling well, no real issues today.</td>\n",
              "    </tr>\n",
              "    <tr>\n",
              "      <th>...</th>\n",
              "      <td>...</td>\n",
              "      <td>...</td>\n",
              "      <td>...</td>\n",
              "      <td>...</td>\n",
              "      <td>...</td>\n",
              "      <td>...</td>\n",
              "      <td>...</td>\n",
              "      <td>...</td>\n",
              "      <td>...</td>\n",
              "      <td>...</td>\n",
              "      <td>...</td>\n",
              "      <td>...</td>\n",
              "      <td>...</td>\n",
              "      <td>...</td>\n",
              "      <td>...</td>\n",
              "    </tr>\n",
              "    <tr>\n",
              "      <th>15495</th>\n",
              "      <td>500</td>\n",
              "      <td>2025-01-27</td>\n",
              "      <td>97.8</td>\n",
              "      <td>96.5</td>\n",
              "      <td>37.1</td>\n",
              "      <td>132.3</td>\n",
              "      <td>78.5</td>\n",
              "      <td>62.0</td>\n",
              "      <td>6.0</td>\n",
              "      <td>BASE</td>\n",
              "      <td>C/o none.\\nF/S: pt p/o none.\\nFSBG 8.0 %, HR</td>\n",
              "      <td>0</td>\n",
              "      <td>0.0</td>\n",
              "      <td>0</td>\n",
              "      <td>Doing great – no symptoms to report.</td>\n",
              "    </tr>\n",
              "    <tr>\n",
              "      <th>15496</th>\n",
              "      <td>500</td>\n",
              "      <td>2025-01-28</td>\n",
              "      <td>97.8</td>\n",
              "      <td>86.1</td>\n",
              "      <td>36.4</td>\n",
              "      <td>126.4</td>\n",
              "      <td>72.0</td>\n",
              "      <td>73.8</td>\n",
              "      <td>5.4</td>\n",
              "      <td>BASE</td>\n",
              "      <td>%, HR 97.2 gb/L, HR 96.3/70.0.\\nFSBG 5.</td>\n",
              "      <td>0</td>\n",
              "      <td>0.0</td>\n",
              "      <td>0</td>\n",
              "      <td>No big changes; I'd say I'm average today.</td>\n",
              "    </tr>\n",
              "    <tr>\n",
              "      <th>15497</th>\n",
              "      <td>500</td>\n",
              "      <td>2025-01-29</td>\n",
              "      <td>97.6</td>\n",
              "      <td>85.7</td>\n",
              "      <td>36.7</td>\n",
              "      <td>115.5</td>\n",
              "      <td>78.8</td>\n",
              "      <td>70.5</td>\n",
              "      <td>4.6</td>\n",
              "      <td>BASE</td>\n",
              "      <td>F/V/S SpO2 97.4 %, HR 85.7 bpm, Temp 38.7 °</td>\n",
              "      <td>0</td>\n",
              "      <td>0.0</td>\n",
              "      <td>0</td>\n",
              "      <td>I'm feeling well, no real issues today.</td>\n",
              "    </tr>\n",
              "    <tr>\n",
              "      <th>15498</th>\n",
              "      <td>500</td>\n",
              "      <td>2025-01-30</td>\n",
              "      <td>96.5</td>\n",
              "      <td>76.3</td>\n",
              "      <td>36.4</td>\n",
              "      <td>115.5</td>\n",
              "      <td>63.6</td>\n",
              "      <td>72.9</td>\n",
              "      <td>6.4</td>\n",
              "      <td>BASE</td>\n",
              "      <td>0.0, F/P 2.2 %.\\nP: 0.0, F/P 1.9</td>\n",
              "      <td>0</td>\n",
              "      <td>0.0</td>\n",
              "      <td>0</td>\n",
              "      <td>Doing great – no symptoms to report.</td>\n",
              "    </tr>\n",
              "    <tr>\n",
              "      <th>15499</th>\n",
              "      <td>500</td>\n",
              "      <td>2025-01-31</td>\n",
              "      <td>98.0</td>\n",
              "      <td>90.2</td>\n",
              "      <td>36.1</td>\n",
              "      <td>127.7</td>\n",
              "      <td>89.2</td>\n",
              "      <td>64.5</td>\n",
              "      <td>7.6</td>\n",
              "      <td>BASE</td>\n",
              "      <td>Pt c/o 3.8 mmol/L.\\nC/R: Pt p/o 6.4 mmol/</td>\n",
              "      <td>0</td>\n",
              "      <td>0.0</td>\n",
              "      <td>0</td>\n",
              "      <td>Not great – dizziness and mild chest tightness.</td>\n",
              "    </tr>\n",
              "  </tbody>\n",
              "</table>\n",
              "<p>15500 rows × 15 columns</p>\n",
              "</div>\n",
              "    <div class=\"colab-df-buttons\">\n",
              "\n",
              "  <div class=\"colab-df-container\">\n",
              "    <button class=\"colab-df-convert\" onclick=\"convertToInteractive('df-e3c26aa7-f817-484c-9d97-f72a671df64c')\"\n",
              "            title=\"Convert this dataframe to an interactive table.\"\n",
              "            style=\"display:none;\">\n",
              "\n",
              "  <svg xmlns=\"http://www.w3.org/2000/svg\" height=\"24px\" viewBox=\"0 -960 960 960\">\n",
              "    <path d=\"M120-120v-720h720v720H120Zm60-500h600v-160H180v160Zm220 220h160v-160H400v160Zm0 220h160v-160H400v160ZM180-400h160v-160H180v160Zm440 0h160v-160H620v160ZM180-180h160v-160H180v160Zm440 0h160v-160H620v160Z\"/>\n",
              "  </svg>\n",
              "    </button>\n",
              "\n",
              "  <style>\n",
              "    .colab-df-container {\n",
              "      display:flex;\n",
              "      gap: 12px;\n",
              "    }\n",
              "\n",
              "    .colab-df-convert {\n",
              "      background-color: #E8F0FE;\n",
              "      border: none;\n",
              "      border-radius: 50%;\n",
              "      cursor: pointer;\n",
              "      display: none;\n",
              "      fill: #1967D2;\n",
              "      height: 32px;\n",
              "      padding: 0 0 0 0;\n",
              "      width: 32px;\n",
              "    }\n",
              "\n",
              "    .colab-df-convert:hover {\n",
              "      background-color: #E2EBFA;\n",
              "      box-shadow: 0px 1px 2px rgba(60, 64, 67, 0.3), 0px 1px 3px 1px rgba(60, 64, 67, 0.15);\n",
              "      fill: #174EA6;\n",
              "    }\n",
              "\n",
              "    .colab-df-buttons div {\n",
              "      margin-bottom: 4px;\n",
              "    }\n",
              "\n",
              "    [theme=dark] .colab-df-convert {\n",
              "      background-color: #3B4455;\n",
              "      fill: #D2E3FC;\n",
              "    }\n",
              "\n",
              "    [theme=dark] .colab-df-convert:hover {\n",
              "      background-color: #434B5C;\n",
              "      box-shadow: 0px 1px 3px 1px rgba(0, 0, 0, 0.15);\n",
              "      filter: drop-shadow(0px 1px 2px rgba(0, 0, 0, 0.3));\n",
              "      fill: #FFFFFF;\n",
              "    }\n",
              "  </style>\n",
              "\n",
              "    <script>\n",
              "      const buttonEl =\n",
              "        document.querySelector('#df-e3c26aa7-f817-484c-9d97-f72a671df64c button.colab-df-convert');\n",
              "      buttonEl.style.display =\n",
              "        google.colab.kernel.accessAllowed ? 'block' : 'none';\n",
              "\n",
              "      async function convertToInteractive(key) {\n",
              "        const element = document.querySelector('#df-e3c26aa7-f817-484c-9d97-f72a671df64c');\n",
              "        const dataTable =\n",
              "          await google.colab.kernel.invokeFunction('convertToInteractive',\n",
              "                                                    [key], {});\n",
              "        if (!dataTable) return;\n",
              "\n",
              "        const docLinkHtml = 'Like what you see? Visit the ' +\n",
              "          '<a target=\"_blank\" href=https://colab.research.google.com/notebooks/data_table.ipynb>data table notebook</a>'\n",
              "          + ' to learn more about interactive tables.';\n",
              "        element.innerHTML = '';\n",
              "        dataTable['output_type'] = 'display_data';\n",
              "        await google.colab.output.renderOutput(dataTable, element);\n",
              "        const docLink = document.createElement('div');\n",
              "        docLink.innerHTML = docLinkHtml;\n",
              "        element.appendChild(docLink);\n",
              "      }\n",
              "    </script>\n",
              "  </div>\n",
              "\n",
              "\n",
              "    <div id=\"df-fcfda6ba-1f9e-482b-b507-f0197e733851\">\n",
              "      <button class=\"colab-df-quickchart\" onclick=\"quickchart('df-fcfda6ba-1f9e-482b-b507-f0197e733851')\"\n",
              "                title=\"Suggest charts\"\n",
              "                style=\"display:none;\">\n",
              "\n",
              "<svg xmlns=\"http://www.w3.org/2000/svg\" height=\"24px\"viewBox=\"0 0 24 24\"\n",
              "     width=\"24px\">\n",
              "    <g>\n",
              "        <path d=\"M19 3H5c-1.1 0-2 .9-2 2v14c0 1.1.9 2 2 2h14c1.1 0 2-.9 2-2V5c0-1.1-.9-2-2-2zM9 17H7v-7h2v7zm4 0h-2V7h2v10zm4 0h-2v-4h2v4z\"/>\n",
              "    </g>\n",
              "</svg>\n",
              "      </button>\n",
              "\n",
              "<style>\n",
              "  .colab-df-quickchart {\n",
              "      --bg-color: #E8F0FE;\n",
              "      --fill-color: #1967D2;\n",
              "      --hover-bg-color: #E2EBFA;\n",
              "      --hover-fill-color: #174EA6;\n",
              "      --disabled-fill-color: #AAA;\n",
              "      --disabled-bg-color: #DDD;\n",
              "  }\n",
              "\n",
              "  [theme=dark] .colab-df-quickchart {\n",
              "      --bg-color: #3B4455;\n",
              "      --fill-color: #D2E3FC;\n",
              "      --hover-bg-color: #434B5C;\n",
              "      --hover-fill-color: #FFFFFF;\n",
              "      --disabled-bg-color: #3B4455;\n",
              "      --disabled-fill-color: #666;\n",
              "  }\n",
              "\n",
              "  .colab-df-quickchart {\n",
              "    background-color: var(--bg-color);\n",
              "    border: none;\n",
              "    border-radius: 50%;\n",
              "    cursor: pointer;\n",
              "    display: none;\n",
              "    fill: var(--fill-color);\n",
              "    height: 32px;\n",
              "    padding: 0;\n",
              "    width: 32px;\n",
              "  }\n",
              "\n",
              "  .colab-df-quickchart:hover {\n",
              "    background-color: var(--hover-bg-color);\n",
              "    box-shadow: 0 1px 2px rgba(60, 64, 67, 0.3), 0 1px 3px 1px rgba(60, 64, 67, 0.15);\n",
              "    fill: var(--button-hover-fill-color);\n",
              "  }\n",
              "\n",
              "  .colab-df-quickchart-complete:disabled,\n",
              "  .colab-df-quickchart-complete:disabled:hover {\n",
              "    background-color: var(--disabled-bg-color);\n",
              "    fill: var(--disabled-fill-color);\n",
              "    box-shadow: none;\n",
              "  }\n",
              "\n",
              "  .colab-df-spinner {\n",
              "    border: 2px solid var(--fill-color);\n",
              "    border-color: transparent;\n",
              "    border-bottom-color: var(--fill-color);\n",
              "    animation:\n",
              "      spin 1s steps(1) infinite;\n",
              "  }\n",
              "\n",
              "  @keyframes spin {\n",
              "    0% {\n",
              "      border-color: transparent;\n",
              "      border-bottom-color: var(--fill-color);\n",
              "      border-left-color: var(--fill-color);\n",
              "    }\n",
              "    20% {\n",
              "      border-color: transparent;\n",
              "      border-left-color: var(--fill-color);\n",
              "      border-top-color: var(--fill-color);\n",
              "    }\n",
              "    30% {\n",
              "      border-color: transparent;\n",
              "      border-left-color: var(--fill-color);\n",
              "      border-top-color: var(--fill-color);\n",
              "      border-right-color: var(--fill-color);\n",
              "    }\n",
              "    40% {\n",
              "      border-color: transparent;\n",
              "      border-right-color: var(--fill-color);\n",
              "      border-top-color: var(--fill-color);\n",
              "    }\n",
              "    60% {\n",
              "      border-color: transparent;\n",
              "      border-right-color: var(--fill-color);\n",
              "    }\n",
              "    80% {\n",
              "      border-color: transparent;\n",
              "      border-right-color: var(--fill-color);\n",
              "      border-bottom-color: var(--fill-color);\n",
              "    }\n",
              "    90% {\n",
              "      border-color: transparent;\n",
              "      border-bottom-color: var(--fill-color);\n",
              "    }\n",
              "  }\n",
              "</style>\n",
              "\n",
              "      <script>\n",
              "        async function quickchart(key) {\n",
              "          const quickchartButtonEl =\n",
              "            document.querySelector('#' + key + ' button');\n",
              "          quickchartButtonEl.disabled = true;  // To prevent multiple clicks.\n",
              "          quickchartButtonEl.classList.add('colab-df-spinner');\n",
              "          try {\n",
              "            const charts = await google.colab.kernel.invokeFunction(\n",
              "                'suggestCharts', [key], {});\n",
              "          } catch (error) {\n",
              "            console.error('Error during call to suggestCharts:', error);\n",
              "          }\n",
              "          quickchartButtonEl.classList.remove('colab-df-spinner');\n",
              "          quickchartButtonEl.classList.add('colab-df-quickchart-complete');\n",
              "        }\n",
              "        (() => {\n",
              "          let quickchartButtonEl =\n",
              "            document.querySelector('#df-fcfda6ba-1f9e-482b-b507-f0197e733851 button');\n",
              "          quickchartButtonEl.style.display =\n",
              "            google.colab.kernel.accessAllowed ? 'block' : 'none';\n",
              "        })();\n",
              "      </script>\n",
              "    </div>\n",
              "\n",
              "  <div id=\"id_c6b65591-4328-491e-948a-8f390548b549\">\n",
              "    <style>\n",
              "      .colab-df-generate {\n",
              "        background-color: #E8F0FE;\n",
              "        border: none;\n",
              "        border-radius: 50%;\n",
              "        cursor: pointer;\n",
              "        display: none;\n",
              "        fill: #1967D2;\n",
              "        height: 32px;\n",
              "        padding: 0 0 0 0;\n",
              "        width: 32px;\n",
              "      }\n",
              "\n",
              "      .colab-df-generate:hover {\n",
              "        background-color: #E2EBFA;\n",
              "        box-shadow: 0px 1px 2px rgba(60, 64, 67, 0.3), 0px 1px 3px 1px rgba(60, 64, 67, 0.15);\n",
              "        fill: #174EA6;\n",
              "      }\n",
              "\n",
              "      [theme=dark] .colab-df-generate {\n",
              "        background-color: #3B4455;\n",
              "        fill: #D2E3FC;\n",
              "      }\n",
              "\n",
              "      [theme=dark] .colab-df-generate:hover {\n",
              "        background-color: #434B5C;\n",
              "        box-shadow: 0px 1px 3px 1px rgba(0, 0, 0, 0.15);\n",
              "        filter: drop-shadow(0px 1px 2px rgba(0, 0, 0, 0.3));\n",
              "        fill: #FFFFFF;\n",
              "      }\n",
              "    </style>\n",
              "    <button class=\"colab-df-generate\" onclick=\"generateWithVariable('df')\"\n",
              "            title=\"Generate code using this dataframe.\"\n",
              "            style=\"display:none;\">\n",
              "\n",
              "  <svg xmlns=\"http://www.w3.org/2000/svg\" height=\"24px\"viewBox=\"0 0 24 24\"\n",
              "       width=\"24px\">\n",
              "    <path d=\"M7,19H8.4L18.45,9,17,7.55,7,17.6ZM5,21V16.75L18.45,3.32a2,2,0,0,1,2.83,0l1.4,1.43a1.91,1.91,0,0,1,.58,1.4,1.91,1.91,0,0,1-.58,1.4L9.25,21ZM18.45,9,17,7.55Zm-12,3A5.31,5.31,0,0,0,4.9,8.1,5.31,5.31,0,0,0,1,6.5,5.31,5.31,0,0,0,4.9,4.9,5.31,5.31,0,0,0,6.5,1,5.31,5.31,0,0,0,8.1,4.9,5.31,5.31,0,0,0,12,6.5,5.46,5.46,0,0,0,6.5,12Z\"/>\n",
              "  </svg>\n",
              "    </button>\n",
              "    <script>\n",
              "      (() => {\n",
              "      const buttonEl =\n",
              "        document.querySelector('#id_c6b65591-4328-491e-948a-8f390548b549 button.colab-df-generate');\n",
              "      buttonEl.style.display =\n",
              "        google.colab.kernel.accessAllowed ? 'block' : 'none';\n",
              "\n",
              "      buttonEl.onclick = () => {\n",
              "        google.colab.notebook.generateWithVariable('df');\n",
              "      }\n",
              "      })();\n",
              "    </script>\n",
              "  </div>\n",
              "\n",
              "    </div>\n",
              "  </div>\n"
            ],
            "application/vnd.google.colaboratory.intrinsic+json": {
              "type": "dataframe",
              "variable_name": "df",
              "summary": "{\n  \"name\": \"df\",\n  \"rows\": 15500,\n  \"fields\": [\n    {\n      \"column\": \"patient_id\",\n      \"properties\": {\n        \"dtype\": \"number\",\n        \"std\": 144,\n        \"min\": 1,\n        \"max\": 500,\n        \"num_unique_values\": 500,\n        \"samples\": [\n          362,\n          74,\n          375\n        ],\n        \"semantic_type\": \"\",\n        \"description\": \"\"\n      }\n    },\n    {\n      \"column\": \"date\",\n      \"properties\": {\n        \"dtype\": \"date\",\n        \"min\": \"2025-01-01 00:00:00\",\n        \"max\": \"2025-01-31 00:00:00\",\n        \"num_unique_values\": 31,\n        \"samples\": [\n          \"2025-01-28 00:00:00\",\n          \"2025-01-16 00:00:00\",\n          \"2025-01-24 00:00:00\"\n        ],\n        \"semantic_type\": \"\",\n        \"description\": \"\"\n      }\n    },\n    {\n      \"column\": \"spo2\",\n      \"properties\": {\n        \"dtype\": \"number\",\n        \"std\": 3.7933104176519037,\n        \"min\": 76.3,\n        \"max\": 100.0,\n        \"num_unique_values\": 223,\n        \"samples\": [\n          98.3,\n          94.6,\n          94.2\n        ],\n        \"semantic_type\": \"\",\n        \"description\": \"\"\n      }\n    },\n    {\n      \"column\": \"heart_rate\",\n      \"properties\": {\n        \"dtype\": \"number\",\n        \"std\": 16.40752189621614,\n        \"min\": 37.3,\n        \"max\": 167.5,\n        \"num_unique_values\": 1018,\n        \"samples\": [\n          101.1,\n          121.5,\n          86.6\n        ],\n        \"semantic_type\": \"\",\n        \"description\": \"\"\n      }\n    },\n    {\n      \"column\": \"temperature\",\n      \"properties\": {\n        \"dtype\": \"number\",\n        \"std\": 0.87033724188893,\n        \"min\": 35.1,\n        \"max\": 41.39999999999999,\n        \"num_unique_values\": 58,\n        \"samples\": [\n          36.2,\n          37.2,\n          40.49999999999999\n        ],\n        \"semantic_type\": \"\",\n        \"description\": \"\"\n      }\n    },\n    {\n      \"column\": \"sys_bp\",\n      \"properties\": {\n        \"dtype\": \"number\",\n        \"std\": 23.677911915347444,\n        \"min\": 80.0,\n        \"max\": 220.0,\n        \"num_unique_values\": 1227,\n        \"samples\": [\n          158.9,\n          120.8,\n          169.2\n        ],\n        \"semantic_type\": \"\",\n        \"description\": \"\"\n      }\n    },\n    {\n      \"column\": \"dia_bp\",\n      \"properties\": {\n        \"dtype\": \"number\",\n        \"std\": 13.244268645574547,\n        \"min\": 40.0,\n        \"max\": 133.0,\n        \"num_unique_values\": 773,\n        \"samples\": [\n          69.6,\n          98.6,\n          57.6\n        ],\n        \"semantic_type\": \"\",\n        \"description\": \"\"\n      }\n    },\n    {\n      \"column\": \"weight\",\n      \"properties\": {\n        \"dtype\": \"number\",\n        \"std\": 8.031349878677277,\n        \"min\": 41.8,\n        \"max\": 99.9,\n        \"num_unique_values\": 496,\n        \"samples\": [\n          87.3,\n          60.7,\n          79.5\n        ],\n        \"semantic_type\": \"\",\n        \"description\": \"\"\n      }\n    },\n    {\n      \"column\": \"glucose\",\n      \"properties\": {\n        \"dtype\": \"number\",\n        \"std\": 2.4055790950254106,\n        \"min\": 3.0,\n        \"max\": 15.4,\n        \"num_unique_values\": 122,\n        \"samples\": [\n          4.5,\n          12.9,\n          10.5\n        ],\n        \"semantic_type\": \"\",\n        \"description\": \"\"\n      }\n    },\n    {\n      \"column\": \"profile\",\n      \"properties\": {\n        \"dtype\": \"category\",\n        \"num_unique_values\": 8,\n        \"samples\": [\n          \"HTN\",\n          \"BASE+INF\",\n          \"BASE\"\n        ],\n        \"semantic_type\": \"\",\n        \"description\": \"\"\n      }\n    },\n    {\n      \"column\": \"note\",\n      \"properties\": {\n        \"dtype\": \"string\",\n        \"num_unique_values\": 15196,\n        \"samples\": [\n          \"P/G 0.5 g/G 0.0 g/P 0.3 g/P 0.3 g\",\n          \"c/o 0.4 mmol/L.\\nT/V: 0.3 mmol/L.\\nT/\",\n          \"C/O, O(0.01, 4.02)\\n1.2 Oq/O: N/\"\n        ],\n        \"semantic_type\": \"\",\n        \"description\": \"\"\n      }\n    },\n    {\n      \"column\": \"news_score\",\n      \"properties\": {\n        \"dtype\": \"number\",\n        \"std\": 2,\n        \"min\": 0,\n        \"max\": 12,\n        \"num_unique_values\": 13,\n        \"samples\": [\n          12,\n          6,\n          0\n        ],\n        \"semantic_type\": \"\",\n        \"description\": \"\"\n      }\n    },\n    {\n      \"column\": \"news_future\",\n      \"properties\": {\n        \"dtype\": \"number\",\n        \"std\": 2.5461140256932593,\n        \"min\": 0.0,\n        \"max\": 12.0,\n        \"num_unique_values\": 13,\n        \"samples\": [\n          12.0,\n          6.0,\n          0.0\n        ],\n        \"semantic_type\": \"\",\n        \"description\": \"\"\n      }\n    },\n    {\n      \"column\": \"deteriorate_next_day\",\n      \"properties\": {\n        \"dtype\": \"number\",\n        \"std\": 0,\n        \"min\": 0,\n        \"max\": 1,\n        \"num_unique_values\": 2,\n        \"samples\": [\n          1,\n          0\n        ],\n        \"semantic_type\": \"\",\n        \"description\": \"\"\n      }\n    },\n    {\n      \"column\": \"questionnaire\",\n      \"properties\": {\n        \"dtype\": \"category\",\n        \"num_unique_values\": 90,\n        \"samples\": [\n          \"Not great \\u2013 dizziness and mild chest tightness. I also feel frequent urination.\",\n          \"I'm feeling tired and a bit short of breath. I also feel lightheaded.\"\n        ],\n        \"semantic_type\": \"\",\n        \"description\": \"\"\n      }\n    }\n  ]\n}"
            }
          },
          "metadata": {},
          "execution_count": 34
        }
      ]
    },
    {
      "cell_type": "markdown",
      "source": [
        "#2.0 EDA and Data Preprocessing, Feature Engineering"
      ],
      "metadata": {
        "id": "UAGatgwAGl45"
      }
    },
    {
      "cell_type": "markdown",
      "source": [
        "##2.1 EDA"
      ],
      "metadata": {
        "id": "Ew3BULAr0NoV"
      }
    },
    {
      "cell_type": "markdown",
      "source": [
        "### 2.1.1 Missing Data Heatmap"
      ],
      "metadata": {
        "id": "XE7fLKxr0ha_"
      }
    },
    {
      "cell_type": "markdown",
      "source": [
        "Missing Data Heatmap: A visual inspection showed approximately 10% missing values, intentionally introduced to simulate real-world EHR incompleteness. Temperature and glucose were among the features with more frequent missingness."
      ],
      "metadata": {
        "id": "ZHjvCaDe8Nvn"
      }
    },
    {
      "cell_type": "code",
      "source": [
        "import seaborn as sns\n",
        "import matplotlib.pyplot as plt\n",
        "sns.heatmap(df.isnull(), cbar=False)\n",
        "plt.title(\"Missing Data Heatmap\")\n",
        "plt.show()"
      ],
      "metadata": {
        "colab": {
          "base_uri": "https://localhost:8080/",
          "height": 568
        },
        "id": "oz4Grg4l0VXG",
        "outputId": "cd740725-79ee-4e24-975c-8978b2515267"
      },
      "execution_count": 58,
      "outputs": [
        {
          "output_type": "display_data",
          "data": {
            "text/plain": [
              "<Figure size 640x480 with 1 Axes>"
            ],
            "image/png": "[encoded data removed]"
          },
          "metadata": {}
        }
      ]
    },
    {
      "cell_type": "markdown",
      "source": [
        "### 2.1.2 Vital Signs Distribution"
      ],
      "metadata": {
        "id": "fbii2VRy0rMA"
      }
    },
    {
      "cell_type": "markdown",
      "source": [
        "Histograms showed that heart rate and glucose were right-skewed, while SpO2 was tightly clustered between 95–99% with some drops below 90%, which could indicate clinical events. Temperature centered around 36.7°C–37°C, consistent with human physiology."
      ],
      "metadata": {
        "id": "m5VoY2xT8SAy"
      }
    },
    {
      "cell_type": "code",
      "source": [
        "vitals = ['spo2', 'heart_rate', 'temperature', 'sys_bp', 'dia_bp', 'glucose']\n",
        "df[vitals].hist(figsize=(12, 8), bins=30)\n",
        "plt.suptitle(\"Distribution of Vital Signs\", fontsize=16)\n",
        "plt.tight_layout()\n",
        "plt.show()\n"
      ],
      "metadata": {
        "colab": {
          "base_uri": "https://localhost:8080/",
          "height": 806
        },
        "id": "MyLvlm6z0ecq",
        "outputId": "efa77544-b721-41d2-eaa7-8236a040c6fa"
      },
      "execution_count": 59,
      "outputs": [
        {
          "output_type": "display_data",
          "data": {
            "text/plain": [
              "<Figure size 1200x800 with 6 Axes>"
            ],
            "image/png": "[encoded data removed]"
          },
          "metadata": {}
        }
      ]
    },
    {
      "cell_type": "markdown",
      "source": [
        "###2.1.3 Trend over Time"
      ],
      "metadata": {
        "id": "ig17xFeg0xX4"
      }
    },
    {
      "cell_type": "markdown",
      "source": [
        "Average SpO2 over the month showed fluctuating trends, including noticeable dips suggestive of hypoxic events in subsets of the population. This highlights temporal instability in oxygenation."
      ],
      "metadata": {
        "id": "nkmTkSmw8U-R"
      }
    },
    {
      "cell_type": "code",
      "source": [
        "df['date'] = pd.to_datetime(df['date'])\n",
        "df.groupby('date')['spo2'].mean().plot(title=\"Average SpO2 Over Time\")"
      ],
      "metadata": {
        "colab": {
          "base_uri": "https://localhost:8080/",
          "height": 537
        },
        "id": "4lKVHurN0wZl",
        "outputId": "d2fda429-f263-43f3-a15a-a2eae97557fc"
      },
      "execution_count": 60,
      "outputs": [
        {
          "output_type": "execute_result",
          "data": {
            "text/plain": [
              "<Axes: title={'center': 'Average SpO2 Over Time'}, xlabel='date'>"
            ]
          },
          "metadata": {},
          "execution_count": 60
        },
        {
          "output_type": "display_data",
          "data": {
            "text/plain": [
              "<Figure size 640x480 with 1 Axes>"
            ],
            "image/png": "[encoded data removed]"
          },
          "metadata": {}
        }
      ]
    },
    {
      "cell_type": "markdown",
      "source": [
        "###2.1.4 Correlation between Vital Signs"
      ],
      "metadata": {
        "id": "o9zzcWu-1K4u"
      }
    },
    {
      "cell_type": "markdown",
      "source": [
        "Blood pressure (systolic and diastolic) exhibited strong correlation (r=0.49), and temperature and heart rate had a moderate positive relationship (r=0.48). SpO2 showed negative correlation with heart rate (r=−0.34) and temperature (r=−0.25), hinting at potential decompensation patterns."
      ],
      "metadata": {
        "id": "KYewM7Vi8a1-"
      }
    },
    {
      "cell_type": "code",
      "source": [
        "sns.heatmap(df[vitals].corr(), annot=True, cmap=\"coolwarm\")\n",
        "plt.title(\"Correlation Between Vital Signs\")\n",
        "plt.show()"
      ],
      "metadata": {
        "colab": {
          "base_uri": "https://localhost:8080/",
          "height": 526
        },
        "id": "zvQbbbo31I_c",
        "outputId": "cce0e86c-8740-4afe-d9d7-07c64a016e3f"
      },
      "execution_count": 62,
      "outputs": [
        {
          "output_type": "display_data",
          "data": {
            "text/plain": [
              "<Figure size 640x480 with 2 Axes>"
            ],
            "image/png": "[encoded data removed]"
          },
          "metadata": {}
        }
      ]
    },
    {
      "cell_type": "markdown",
      "source": [
        "##2.2 Initial Inspections and Basic Fixes"
      ],
      "metadata": {
        "id": "IewSwaF4lM31"
      }
    },
    {
      "cell_type": "code",
      "source": [
        "import numpy as np, pandas as pd\n",
        "from sklearn.base import BaseEstimator, TransformerMixin\n",
        "from sklearn.pipeline import Pipeline\n",
        "from sklearn.impute import SimpleImputer\n",
        "from sklearn.preprocessing import StandardScaler, OneHotEncoder\n",
        "from sklearn.compose import ColumnTransformer"
      ],
      "metadata": {
        "id": "PBDMrvkckLam"
      },
      "execution_count": 35,
      "outputs": []
    },
    {
      "cell_type": "code",
      "source": [
        "# 1 inspect\n",
        "print(df.info())\n",
        "display(df.describe(include='all').T.head())\n",
        "\n",
        "# 2 ensure correct dtypes\n",
        "df['date'] = pd.to_datetime(df['date'])\n",
        "num_cols = [\"spo2\",\"heart_rate\",\"temperature\",\n",
        "            \"sys_bp\",\"dia_bp\",\"weight\",\"glucose\"]\n",
        "df[num_cols] = df[num_cols].apply(pd.to_numeric, errors='coerce')\n"
      ],
      "metadata": {
        "colab": {
          "base_uri": "https://localhost:8080/",
          "height": 1039
        },
        "id": "5YVcCsMjkb8X",
        "outputId": "26b2a644-3fdd-4d29-9b2a-9bb8b867022c"
      },
      "execution_count": 63,
      "outputs": [
        {
          "output_type": "stream",
          "name": "stdout",
          "text": [
            "<class 'pandas.core.frame.DataFrame'>\n",
            "RangeIndex: 15500 entries, 0 to 15499\n",
            "Data columns (total 40 columns):\n",
            " #   Column                Non-Null Count  Dtype         \n",
            "---  ------                --------------  -----         \n",
            " 0   patient_id            15500 non-null  int64         \n",
            " 1   date                  15500 non-null  datetime64[ns]\n",
            " 2   spo2                  15500 non-null  float64       \n",
            " 3   heart_rate            15500 non-null  float64       \n",
            " 4   temperature           15500 non-null  float64       \n",
            " 5   sys_bp                15500 non-null  float64       \n",
            " 6   dia_bp                15500 non-null  float64       \n",
            " 7   weight                15500 non-null  float64       \n",
            " 8   glucose               15500 non-null  float64       \n",
            " 9   profile               15500 non-null  object        \n",
            " 10  note                  15500 non-null  object        \n",
            " 11  news_score            15500 non-null  int64         \n",
            " 12  news_future           15500 non-null  float64       \n",
            " 13  deteriorate_next_day  15500 non-null  int64         \n",
            " 14  questionnaire         15500 non-null  object        \n",
            " 15  pulse_pressure        15500 non-null  float64       \n",
            " 16  shock_index           15500 non-null  float64       \n",
            " 17  spo2_mean3            15500 non-null  float64       \n",
            " 18  spo2_min3             15500 non-null  float64       \n",
            " 19  spo2_slope            15000 non-null  float64       \n",
            " 20  heart_rate_mean3      15500 non-null  float64       \n",
            " 21  heart_rate_min3       15500 non-null  float64       \n",
            " 22  heart_rate_slope      15000 non-null  float64       \n",
            " 23  temperature_mean3     15500 non-null  float64       \n",
            " 24  temperature_min3      15500 non-null  float64       \n",
            " 25  temperature_slope     15000 non-null  float64       \n",
            " 26  sys_bp_mean3          15500 non-null  float64       \n",
            " 27  sys_bp_min3           15500 non-null  float64       \n",
            " 28  sys_bp_slope          15000 non-null  float64       \n",
            " 29  dia_bp_mean3          15500 non-null  float64       \n",
            " 30  dia_bp_min3           15500 non-null  float64       \n",
            " 31  dia_bp_slope          15000 non-null  float64       \n",
            " 32  weight_mean3          15500 non-null  float64       \n",
            " 33  weight_min3           15500 non-null  float64       \n",
            " 34  weight_slope          15000 non-null  float64       \n",
            " 35  glucose_mean3         15500 non-null  float64       \n",
            " 36  glucose_min3          15500 non-null  float64       \n",
            " 37  glucose_slope         15000 non-null  float64       \n",
            " 38  sentiment_score       15500 non-null  float64       \n",
            " 39  sentiment_label       15500 non-null  object        \n",
            "dtypes: datetime64[ns](1), float64(32), int64(3), object(4)\n",
            "memory usage: 4.7+ MB\n",
            "None\n"
          ]
        },
        {
          "output_type": "display_data",
          "data": {
            "text/plain": [
              "               count unique  top freq                           mean  \\\n",
              "patient_id   15500.0    NaN  NaN  NaN                          250.5   \n",
              "date           15500    NaN  NaN  NaN  2025-01-15 23:59:59.999999744   \n",
              "spo2         15500.0    NaN  NaN  NaN                      95.721445   \n",
              "heart_rate   15500.0    NaN  NaN  NaN                      83.617703   \n",
              "temperature  15500.0    NaN  NaN  NaN                      36.968974   \n",
              "\n",
              "                             min                  25%                  50%  \\\n",
              "patient_id                   1.0               125.75                250.5   \n",
              "date         2025-01-01 00:00:00  2025-01-08 00:00:00  2025-01-16 00:00:00   \n",
              "spo2                        76.3                 95.4                 96.7   \n",
              "heart_rate                  37.3                 73.3                 82.1   \n",
              "temperature                 35.1                 36.5                 36.8   \n",
              "\n",
              "                             75%                  max         std  \n",
              "patient_id                375.25                500.0  144.341935  \n",
              "date         2025-01-24 00:00:00  2025-01-31 00:00:00         NaN  \n",
              "spo2                        97.8                100.0     3.79331  \n",
              "heart_rate                  91.0                167.5   16.407522  \n",
              "temperature                 37.1                 41.4    0.870337  "
            ],
            "text/html": [
              "\n",
              "  <div id=\"df-ed651f7e-d206-40f1-9e98-2c9c192a623a\" class=\"colab-df-container\">\n",
              "    <div>\n",
              "<style scoped>\n",
              "    .dataframe tbody tr th:only-of-type {\n",
              "        vertical-align: middle;\n",
              "    }\n",
              "\n",
              "    .dataframe tbody tr th {\n",
              "        vertical-align: top;\n",
              "    }\n",
              "\n",
              "    .dataframe thead th {\n",
              "        text-align: right;\n",
              "    }\n",
              "</style>\n",
              "<table border=\"1\" class=\"dataframe\">\n",
              "  <thead>\n",
              "    <tr style=\"text-align: right;\">\n",
              "      <th></th>\n",
              "      <th>count</th>\n",
              "      <th>unique</th>\n",
              "      <th>top</th>\n",
              "      <th>freq</th>\n",
              "      <th>mean</th>\n",
              "      <th>min</th>\n",
              "      <th>25%</th>\n",
              "      <th>50%</th>\n",
              "      <th>75%</th>\n",
              "      <th>max</th>\n",
              "      <th>std</th>\n",
              "    </tr>\n",
              "  </thead>\n",
              "  <tbody>\n",
              "    <tr>\n",
              "      <th>patient_id</th>\n",
              "      <td>15500.0</td>\n",
              "      <td>NaN</td>\n",
              "      <td>NaN</td>\n",
              "      <td>NaN</td>\n",
              "      <td>250.5</td>\n",
              "      <td>1.0</td>\n",
              "      <td>125.75</td>\n",
              "      <td>250.5</td>\n",
              "      <td>375.25</td>\n",
              "      <td>500.0</td>\n",
              "      <td>144.341935</td>\n",
              "    </tr>\n",
              "    <tr>\n",
              "      <th>date</th>\n",
              "      <td>15500</td>\n",
              "      <td>NaN</td>\n",
              "      <td>NaN</td>\n",
              "      <td>NaN</td>\n",
              "      <td>2025-01-15 23:59:59.999999744</td>\n",
              "      <td>2025-01-01 00:00:00</td>\n",
              "      <td>2025-01-08 00:00:00</td>\n",
              "      <td>2025-01-16 00:00:00</td>\n",
              "      <td>2025-01-24 00:00:00</td>\n",
              "      <td>2025-01-31 00:00:00</td>\n",
              "      <td>NaN</td>\n",
              "    </tr>\n",
              "    <tr>\n",
              "      <th>spo2</th>\n",
              "      <td>15500.0</td>\n",
              "      <td>NaN</td>\n",
              "      <td>NaN</td>\n",
              "      <td>NaN</td>\n",
              "      <td>95.721445</td>\n",
              "      <td>76.3</td>\n",
              "      <td>95.4</td>\n",
              "      <td>96.7</td>\n",
              "      <td>97.8</td>\n",
              "      <td>100.0</td>\n",
              "      <td>3.79331</td>\n",
              "    </tr>\n",
              "    <tr>\n",
              "      <th>heart_rate</th>\n",
              "      <td>15500.0</td>\n",
              "      <td>NaN</td>\n",
              "      <td>NaN</td>\n",
              "      <td>NaN</td>\n",
              "      <td>83.617703</td>\n",
              "      <td>37.3</td>\n",
              "      <td>73.3</td>\n",
              "      <td>82.1</td>\n",
              "      <td>91.0</td>\n",
              "      <td>167.5</td>\n",
              "      <td>16.407522</td>\n",
              "    </tr>\n",
              "    <tr>\n",
              "      <th>temperature</th>\n",
              "      <td>15500.0</td>\n",
              "      <td>NaN</td>\n",
              "      <td>NaN</td>\n",
              "      <td>NaN</td>\n",
              "      <td>36.968974</td>\n",
              "      <td>35.1</td>\n",
              "      <td>36.5</td>\n",
              "      <td>36.8</td>\n",
              "      <td>37.1</td>\n",
              "      <td>41.4</td>\n",
              "      <td>0.870337</td>\n",
              "    </tr>\n",
              "  </tbody>\n",
              "</table>\n",
              "</div>\n",
              "    <div class=\"colab-df-buttons\">\n",
              "\n",
              "  <div class=\"colab-df-container\">\n",
              "    <button class=\"colab-df-convert\" onclick=\"convertToInteractive('df-ed651f7e-d206-40f1-9e98-2c9c192a623a')\"\n",
              "            title=\"Convert this dataframe to an interactive table.\"\n",
              "            style=\"display:none;\">\n",
              "\n",
              "  <svg xmlns=\"http://www.w3.org/2000/svg\" height=\"24px\" viewBox=\"0 -960 960 960\">\n",
              "    <path d=\"M120-120v-720h720v720H120Zm60-500h600v-160H180v160Zm220 220h160v-160H400v160Zm0 220h160v-160H400v160ZM180-400h160v-160H180v160Zm440 0h160v-160H620v160ZM180-180h160v-160H180v160Zm440 0h160v-160H620v160Z\"/>\n",
              "  </svg>\n",
              "    </button>\n",
              "\n",
              "  <style>\n",
              "    .colab-df-container {\n",
              "      display:flex;\n",
              "      gap: 12px;\n",
              "    }\n",
              "\n",
              "    .colab-df-convert {\n",
              "      background-color: #E8F0FE;\n",
              "      border: none;\n",
              "      border-radius: 50%;\n",
              "      cursor: pointer;\n",
              "      display: none;\n",
              "      fill: #1967D2;\n",
              "      height: 32px;\n",
              "      padding: 0 0 0 0;\n",
              "      width: 32px;\n",
              "    }\n",
              "\n",
              "    .colab-df-convert:hover {\n",
              "      background-color: #E2EBFA;\n",
              "      box-shadow: 0px 1px 2px rgba(60, 64, 67, 0.3), 0px 1px 3px 1px rgba(60, 64, 67, 0.15);\n",
              "      fill: #174EA6;\n",
              "    }\n",
              "\n",
              "    .colab-df-buttons div {\n",
              "      margin-bottom: 4px;\n",
              "    }\n",
              "\n",
              "    [theme=dark] .colab-df-convert {\n",
              "      background-color: #3B4455;\n",
              "      fill: #D2E3FC;\n",
              "    }\n",
              "\n",
              "    [theme=dark] .colab-df-convert:hover {\n",
              "      background-color: #434B5C;\n",
              "      box-shadow: 0px 1px 3px 1px rgba(0, 0, 0, 0.15);\n",
              "      filter: drop-shadow(0px 1px 2px rgba(0, 0, 0, 0.3));\n",
              "      fill: #FFFFFF;\n",
              "    }\n",
              "  </style>\n",
              "\n",
              "    <script>\n",
              "      const buttonEl =\n",
              "        document.querySelector('#df-ed651f7e-d206-40f1-9e98-2c9c192a623a button.colab-df-convert');\n",
              "      buttonEl.style.display =\n",
              "        google.colab.kernel.accessAllowed ? 'block' : 'none';\n",
              "\n",
              "      async function convertToInteractive(key) {\n",
              "        const element = document.querySelector('#df-ed651f7e-d206-40f1-9e98-2c9c192a623a');\n",
              "        const dataTable =\n",
              "          await google.colab.kernel.invokeFunction('convertToInteractive',\n",
              "                                                    [key], {});\n",
              "        if (!dataTable) return;\n",
              "\n",
              "        const docLinkHtml = 'Like what you see? Visit the ' +\n",
              "          '<a target=\"_blank\" href=https://colab.research.google.com/notebooks/data_table.ipynb>data table notebook</a>'\n",
              "          + ' to learn more about interactive tables.';\n",
              "        element.innerHTML = '';\n",
              "        dataTable['output_type'] = 'display_data';\n",
              "        await google.colab.output.renderOutput(dataTable, element);\n",
              "        const docLink = document.createElement('div');\n",
              "        docLink.innerHTML = docLinkHtml;\n",
              "        element.appendChild(docLink);\n",
              "      }\n",
              "    </script>\n",
              "  </div>\n",
              "\n",
              "\n",
              "    <div id=\"df-76096401-fa4f-4477-a48d-5c62e7a9036a\">\n",
              "      <button class=\"colab-df-quickchart\" onclick=\"quickchart('df-76096401-fa4f-4477-a48d-5c62e7a9036a')\"\n",
              "                title=\"Suggest charts\"\n",
              "                style=\"display:none;\">\n",
              "\n",
              "<svg xmlns=\"http://www.w3.org/2000/svg\" height=\"24px\"viewBox=\"0 0 24 24\"\n",
              "     width=\"24px\">\n",
              "    <g>\n",
              "        <path d=\"M19 3H5c-1.1 0-2 .9-2 2v14c0 1.1.9 2 2 2h14c1.1 0 2-.9 2-2V5c0-1.1-.9-2-2-2zM9 17H7v-7h2v7zm4 0h-2V7h2v10zm4 0h-2v-4h2v4z\"/>\n",
              "    </g>\n",
              "</svg>\n",
              "      </button>\n",
              "\n",
              "<style>\n",
              "  .colab-df-quickchart {\n",
              "      --bg-color: #E8F0FE;\n",
              "      --fill-color: #1967D2;\n",
              "      --hover-bg-color: #E2EBFA;\n",
              "      --hover-fill-color: #174EA6;\n",
              "      --disabled-fill-color: #AAA;\n",
              "      --disabled-bg-color: #DDD;\n",
              "  }\n",
              "\n",
              "  [theme=dark] .colab-df-quickchart {\n",
              "      --bg-color: #3B4455;\n",
              "      --fill-color: #D2E3FC;\n",
              "      --hover-bg-color: #434B5C;\n",
              "      --hover-fill-color: #FFFFFF;\n",
              "      --disabled-bg-color: #3B4455;\n",
              "      --disabled-fill-color: #666;\n",
              "  }\n",
              "\n",
              "  .colab-df-quickchart {\n",
              "    background-color: var(--bg-color);\n",
              "    border: none;\n",
              "    border-radius: 50%;\n",
              "    cursor: pointer;\n",
              "    display: none;\n",
              "    fill: var(--fill-color);\n",
              "    height: 32px;\n",
              "    padding: 0;\n",
              "    width: 32px;\n",
              "  }\n",
              "\n",
              "  .colab-df-quickchart:hover {\n",
              "    background-color: var(--hover-bg-color);\n",
              "    box-shadow: 0 1px 2px rgba(60, 64, 67, 0.3), 0 1px 3px 1px rgba(60, 64, 67, 0.15);\n",
              "    fill: var(--button-hover-fill-color);\n",
              "  }\n",
              "\n",
              "  .colab-df-quickchart-complete:disabled,\n",
              "  .colab-df-quickchart-complete:disabled:hover {\n",
              "    background-color: var(--disabled-bg-color);\n",
              "    fill: var(--disabled-fill-color);\n",
              "    box-shadow: none;\n",
              "  }\n",
              "\n",
              "  .colab-df-spinner {\n",
              "    border: 2px solid var(--fill-color);\n",
              "    border-color: transparent;\n",
              "    border-bottom-color: var(--fill-color);\n",
              "    animation:\n",
              "      spin 1s steps(1) infinite;\n",
              "  }\n",
              "\n",
              "  @keyframes spin {\n",
              "    0% {\n",
              "      border-color: transparent;\n",
              "      border-bottom-color: var(--fill-color);\n",
              "      border-left-color: var(--fill-color);\n",
              "    }\n",
              "    20% {\n",
              "      border-color: transparent;\n",
              "      border-left-color: var(--fill-color);\n",
              "      border-top-color: var(--fill-color);\n",
              "    }\n",
              "    30% {\n",
              "      border-color: transparent;\n",
              "      border-left-color: var(--fill-color);\n",
              "      border-top-color: var(--fill-color);\n",
              "      border-right-color: var(--fill-color);\n",
              "    }\n",
              "    40% {\n",
              "      border-color: transparent;\n",
              "      border-right-color: var(--fill-color);\n",
              "      border-top-color: var(--fill-color);\n",
              "    }\n",
              "    60% {\n",
              "      border-color: transparent;\n",
              "      border-right-color: var(--fill-color);\n",
              "    }\n",
              "    80% {\n",
              "      border-color: transparent;\n",
              "      border-right-color: var(--fill-color);\n",
              "      border-bottom-color: var(--fill-color);\n",
              "    }\n",
              "    90% {\n",
              "      border-color: transparent;\n",
              "      border-bottom-color: var(--fill-color);\n",
              "    }\n",
              "  }\n",
              "</style>\n",
              "\n",
              "      <script>\n",
              "        async function quickchart(key) {\n",
              "          const quickchartButtonEl =\n",
              "            document.querySelector('#' + key + ' button');\n",
              "          quickchartButtonEl.disabled = true;  // To prevent multiple clicks.\n",
              "          quickchartButtonEl.classList.add('colab-df-spinner');\n",
              "          try {\n",
              "            const charts = await google.colab.kernel.invokeFunction(\n",
              "                'suggestCharts', [key], {});\n",
              "          } catch (error) {\n",
              "            console.error('Error during call to suggestCharts:', error);\n",
              "          }\n",
              "          quickchartButtonEl.classList.remove('colab-df-spinner');\n",
              "          quickchartButtonEl.classList.add('colab-df-quickchart-complete');\n",
              "        }\n",
              "        (() => {\n",
              "          let quickchartButtonEl =\n",
              "            document.querySelector('#df-76096401-fa4f-4477-a48d-5c62e7a9036a button');\n",
              "          quickchartButtonEl.style.display =\n",
              "            google.colab.kernel.accessAllowed ? 'block' : 'none';\n",
              "        })();\n",
              "      </script>\n",
              "    </div>\n",
              "\n",
              "    </div>\n",
              "  </div>\n"
            ],
            "application/vnd.google.colaboratory.intrinsic+json": {
              "type": "dataframe",
              "repr_error": "Out of range float values are not JSON compliant: nan"
            }
          },
          "metadata": {}
        }
      ]
    },
    {
      "cell_type": "markdown",
      "source": [
        "##2.2 Outlier Clippings (Phsychological Bounds)"
      ],
      "metadata": {
        "id": "ah8IERvYlTNp"
      }
    },
    {
      "cell_type": "markdown",
      "source": [
        "To keep the vitals realistic we clipped extreme outliers to physiologically plausible ranges that an adult could survive (e.g. SpO₂ 70–100 %, heart-rate 30–220 bpm)."
      ],
      "metadata": {
        "id": "Z1RN1L1Dp959"
      }
    },
    {
      "cell_type": "code",
      "source": [
        "bounds = {\n",
        "    \"spo2\":      (70, 100),\n",
        "    \"heart_rate\":(30, 220),\n",
        "    \"temperature\":(34.0, 42.0),\n",
        "    \"sys_bp\":    (80, 220),\n",
        "    \"dia_bp\":    (40, 140),\n",
        "    \"weight\":    (30, 250),\n",
        "    \"glucose\":   (3.0, 20.0),\n",
        "}\n",
        "\n",
        "for c,(lo,hi) in bounds.items():\n",
        "    df[c] = df[c].clip(lo, hi)\n",
        "\n",
        "print(\"After clipping:\")\n",
        "display(df.describe().T.loc[list(bounds)].head())\n"
      ],
      "metadata": {
        "colab": {
          "base_uri": "https://localhost:8080/",
          "height": 223
        },
        "id": "vGEZ1dwLkhH-",
        "outputId": "7b5835ba-4331-487f-8f44-2b224f857215"
      },
      "execution_count": 37,
      "outputs": [
        {
          "output_type": "stream",
          "name": "stdout",
          "text": [
            "After clipping:\n"
          ]
        },
        {
          "output_type": "display_data",
          "data": {
            "text/plain": [
              "               count        mean   min    25%    50%    75%    max        std\n",
              "spo2         15500.0   95.721445  76.3   95.4   96.7   97.8  100.0    3.79331\n",
              "heart_rate   15500.0   83.617703  37.3   73.3   82.1   91.0  167.5  16.407522\n",
              "temperature  15500.0   36.968974  35.1   36.5   36.8   37.1   41.4   0.870337\n",
              "sys_bp       15500.0  126.408677  80.0  110.5  122.2  137.2  220.0  23.677912\n",
              "dia_bp       15500.0   81.652955  40.0   72.6   80.3   89.0  133.0  13.244269"
            ],
            "text/html": [
              "\n",
              "  <div id=\"df-21f63f9c-f613-4b68-b939-b382d4058b55\" class=\"colab-df-container\">\n",
              "    <div>\n",
              "<style scoped>\n",
              "    .dataframe tbody tr th:only-of-type {\n",
              "        vertical-align: middle;\n",
              "    }\n",
              "\n",
              "    .dataframe tbody tr th {\n",
              "        vertical-align: top;\n",
              "    }\n",
              "\n",
              "    .dataframe thead th {\n",
              "        text-align: right;\n",
              "    }\n",
              "</style>\n",
              "<table border=\"1\" class=\"dataframe\">\n",
              "  <thead>\n",
              "    <tr style=\"text-align: right;\">\n",
              "      <th></th>\n",
              "      <th>count</th>\n",
              "      <th>mean</th>\n",
              "      <th>min</th>\n",
              "      <th>25%</th>\n",
              "      <th>50%</th>\n",
              "      <th>75%</th>\n",
              "      <th>max</th>\n",
              "      <th>std</th>\n",
              "    </tr>\n",
              "  </thead>\n",
              "  <tbody>\n",
              "    <tr>\n",
              "      <th>spo2</th>\n",
              "      <td>15500.0</td>\n",
              "      <td>95.721445</td>\n",
              "      <td>76.3</td>\n",
              "      <td>95.4</td>\n",
              "      <td>96.7</td>\n",
              "      <td>97.8</td>\n",
              "      <td>100.0</td>\n",
              "      <td>3.79331</td>\n",
              "    </tr>\n",
              "    <tr>\n",
              "      <th>heart_rate</th>\n",
              "      <td>15500.0</td>\n",
              "      <td>83.617703</td>\n",
              "      <td>37.3</td>\n",
              "      <td>73.3</td>\n",
              "      <td>82.1</td>\n",
              "      <td>91.0</td>\n",
              "      <td>167.5</td>\n",
              "      <td>16.407522</td>\n",
              "    </tr>\n",
              "    <tr>\n",
              "      <th>temperature</th>\n",
              "      <td>15500.0</td>\n",
              "      <td>36.968974</td>\n",
              "      <td>35.1</td>\n",
              "      <td>36.5</td>\n",
              "      <td>36.8</td>\n",
              "      <td>37.1</td>\n",
              "      <td>41.4</td>\n",
              "      <td>0.870337</td>\n",
              "    </tr>\n",
              "    <tr>\n",
              "      <th>sys_bp</th>\n",
              "      <td>15500.0</td>\n",
              "      <td>126.408677</td>\n",
              "      <td>80.0</td>\n",
              "      <td>110.5</td>\n",
              "      <td>122.2</td>\n",
              "      <td>137.2</td>\n",
              "      <td>220.0</td>\n",
              "      <td>23.677912</td>\n",
              "    </tr>\n",
              "    <tr>\n",
              "      <th>dia_bp</th>\n",
              "      <td>15500.0</td>\n",
              "      <td>81.652955</td>\n",
              "      <td>40.0</td>\n",
              "      <td>72.6</td>\n",
              "      <td>80.3</td>\n",
              "      <td>89.0</td>\n",
              "      <td>133.0</td>\n",
              "      <td>13.244269</td>\n",
              "    </tr>\n",
              "  </tbody>\n",
              "</table>\n",
              "</div>\n",
              "    <div class=\"colab-df-buttons\">\n",
              "\n",
              "  <div class=\"colab-df-container\">\n",
              "    <button class=\"colab-df-convert\" onclick=\"convertToInteractive('df-21f63f9c-f613-4b68-b939-b382d4058b55')\"\n",
              "            title=\"Convert this dataframe to an interactive table.\"\n",
              "            style=\"display:none;\">\n",
              "\n",
              "  <svg xmlns=\"http://www.w3.org/2000/svg\" height=\"24px\" viewBox=\"0 -960 960 960\">\n",
              "    <path d=\"M120-120v-720h720v720H120Zm60-500h600v-160H180v160Zm220 220h160v-160H400v160Zm0 220h160v-160H400v160ZM180-400h160v-160H180v160Zm440 0h160v-160H620v160ZM180-180h160v-160H180v160Zm440 0h160v-160H620v160Z\"/>\n",
              "  </svg>\n",
              "    </button>\n",
              "\n",
              "  <style>\n",
              "    .colab-df-container {\n",
              "      display:flex;\n",
              "      gap: 12px;\n",
              "    }\n",
              "\n",
              "    .colab-df-convert {\n",
              "      background-color: #E8F0FE;\n",
              "      border: none;\n",
              "      border-radius: 50%;\n",
              "      cursor: pointer;\n",
              "      display: none;\n",
              "      fill: #1967D2;\n",
              "      height: 32px;\n",
              "      padding: 0 0 0 0;\n",
              "      width: 32px;\n",
              "    }\n",
              "\n",
              "    .colab-df-convert:hover {\n",
              "      background-color: #E2EBFA;\n",
              "      box-shadow: 0px 1px 2px rgba(60, 64, 67, 0.3), 0px 1px 3px 1px rgba(60, 64, 67, 0.15);\n",
              "      fill: #174EA6;\n",
              "    }\n",
              "\n",
              "    .colab-df-buttons div {\n",
              "      margin-bottom: 4px;\n",
              "    }\n",
              "\n",
              "    [theme=dark] .colab-df-convert {\n",
              "      background-color: #3B4455;\n",
              "      fill: #D2E3FC;\n",
              "    }\n",
              "\n",
              "    [theme=dark] .colab-df-convert:hover {\n",
              "      background-color: #434B5C;\n",
              "      box-shadow: 0px 1px 3px 1px rgba(0, 0, 0, 0.15);\n",
              "      filter: drop-shadow(0px 1px 2px rgba(0, 0, 0, 0.3));\n",
              "      fill: #FFFFFF;\n",
              "    }\n",
              "  </style>\n",
              "\n",
              "    <script>\n",
              "      const buttonEl =\n",
              "        document.querySelector('#df-21f63f9c-f613-4b68-b939-b382d4058b55 button.colab-df-convert');\n",
              "      buttonEl.style.display =\n",
              "        google.colab.kernel.accessAllowed ? 'block' : 'none';\n",
              "\n",
              "      async function convertToInteractive(key) {\n",
              "        const element = document.querySelector('#df-21f63f9c-f613-4b68-b939-b382d4058b55');\n",
              "        const dataTable =\n",
              "          await google.colab.kernel.invokeFunction('convertToInteractive',\n",
              "                                                    [key], {});\n",
              "        if (!dataTable) return;\n",
              "\n",
              "        const docLinkHtml = 'Like what you see? Visit the ' +\n",
              "          '<a target=\"_blank\" href=https://colab.research.google.com/notebooks/data_table.ipynb>data table notebook</a>'\n",
              "          + ' to learn more about interactive tables.';\n",
              "        element.innerHTML = '';\n",
              "        dataTable['output_type'] = 'display_data';\n",
              "        await google.colab.output.renderOutput(dataTable, element);\n",
              "        const docLink = document.createElement('div');\n",
              "        docLink.innerHTML = docLinkHtml;\n",
              "        element.appendChild(docLink);\n",
              "      }\n",
              "    </script>\n",
              "  </div>\n",
              "\n",
              "\n",
              "    <div id=\"df-2e3abf56-18d3-4646-bbb1-7332bd0fcb2c\">\n",
              "      <button class=\"colab-df-quickchart\" onclick=\"quickchart('df-2e3abf56-18d3-4646-bbb1-7332bd0fcb2c')\"\n",
              "                title=\"Suggest charts\"\n",
              "                style=\"display:none;\">\n",
              "\n",
              "<svg xmlns=\"http://www.w3.org/2000/svg\" height=\"24px\"viewBox=\"0 0 24 24\"\n",
              "     width=\"24px\">\n",
              "    <g>\n",
              "        <path d=\"M19 3H5c-1.1 0-2 .9-2 2v14c0 1.1.9 2 2 2h14c1.1 0 2-.9 2-2V5c0-1.1-.9-2-2-2zM9 17H7v-7h2v7zm4 0h-2V7h2v10zm4 0h-2v-4h2v4z\"/>\n",
              "    </g>\n",
              "</svg>\n",
              "      </button>\n",
              "\n",
              "<style>\n",
              "  .colab-df-quickchart {\n",
              "      --bg-color: #E8F0FE;\n",
              "      --fill-color: #1967D2;\n",
              "      --hover-bg-color: #E2EBFA;\n",
              "      --hover-fill-color: #174EA6;\n",
              "      --disabled-fill-color: #AAA;\n",
              "      --disabled-bg-color: #DDD;\n",
              "  }\n",
              "\n",
              "  [theme=dark] .colab-df-quickchart {\n",
              "      --bg-color: #3B4455;\n",
              "      --fill-color: #D2E3FC;\n",
              "      --hover-bg-color: #434B5C;\n",
              "      --hover-fill-color: #FFFFFF;\n",
              "      --disabled-bg-color: #3B4455;\n",
              "      --disabled-fill-color: #666;\n",
              "  }\n",
              "\n",
              "  .colab-df-quickchart {\n",
              "    background-color: var(--bg-color);\n",
              "    border: none;\n",
              "    border-radius: 50%;\n",
              "    cursor: pointer;\n",
              "    display: none;\n",
              "    fill: var(--fill-color);\n",
              "    height: 32px;\n",
              "    padding: 0;\n",
              "    width: 32px;\n",
              "  }\n",
              "\n",
              "  .colab-df-quickchart:hover {\n",
              "    background-color: var(--hover-bg-color);\n",
              "    box-shadow: 0 1px 2px rgba(60, 64, 67, 0.3), 0 1px 3px 1px rgba(60, 64, 67, 0.15);\n",
              "    fill: var(--button-hover-fill-color);\n",
              "  }\n",
              "\n",
              "  .colab-df-quickchart-complete:disabled,\n",
              "  .colab-df-quickchart-complete:disabled:hover {\n",
              "    background-color: var(--disabled-bg-color);\n",
              "    fill: var(--disabled-fill-color);\n",
              "    box-shadow: none;\n",
              "  }\n",
              "\n",
              "  .colab-df-spinner {\n",
              "    border: 2px solid var(--fill-color);\n",
              "    border-color: transparent;\n",
              "    border-bottom-color: var(--fill-color);\n",
              "    animation:\n",
              "      spin 1s steps(1) infinite;\n",
              "  }\n",
              "\n",
              "  @keyframes spin {\n",
              "    0% {\n",
              "      border-color: transparent;\n",
              "      border-bottom-color: var(--fill-color);\n",
              "      border-left-color: var(--fill-color);\n",
              "    }\n",
              "    20% {\n",
              "      border-color: transparent;\n",
              "      border-left-color: var(--fill-color);\n",
              "      border-top-color: var(--fill-color);\n",
              "    }\n",
              "    30% {\n",
              "      border-color: transparent;\n",
              "      border-left-color: var(--fill-color);\n",
              "      border-top-color: var(--fill-color);\n",
              "      border-right-color: var(--fill-color);\n",
              "    }\n",
              "    40% {\n",
              "      border-color: transparent;\n",
              "      border-right-color: var(--fill-color);\n",
              "      border-top-color: var(--fill-color);\n",
              "    }\n",
              "    60% {\n",
              "      border-color: transparent;\n",
              "      border-right-color: var(--fill-color);\n",
              "    }\n",
              "    80% {\n",
              "      border-color: transparent;\n",
              "      border-right-color: var(--fill-color);\n",
              "      border-bottom-color: var(--fill-color);\n",
              "    }\n",
              "    90% {\n",
              "      border-color: transparent;\n",
              "      border-bottom-color: var(--fill-color);\n",
              "    }\n",
              "  }\n",
              "</style>\n",
              "\n",
              "      <script>\n",
              "        async function quickchart(key) {\n",
              "          const quickchartButtonEl =\n",
              "            document.querySelector('#' + key + ' button');\n",
              "          quickchartButtonEl.disabled = true;  // To prevent multiple clicks.\n",
              "          quickchartButtonEl.classList.add('colab-df-spinner');\n",
              "          try {\n",
              "            const charts = await google.colab.kernel.invokeFunction(\n",
              "                'suggestCharts', [key], {});\n",
              "          } catch (error) {\n",
              "            console.error('Error during call to suggestCharts:', error);\n",
              "          }\n",
              "          quickchartButtonEl.classList.remove('colab-df-spinner');\n",
              "          quickchartButtonEl.classList.add('colab-df-quickchart-complete');\n",
              "        }\n",
              "        (() => {\n",
              "          let quickchartButtonEl =\n",
              "            document.querySelector('#df-2e3abf56-18d3-4646-bbb1-7332bd0fcb2c button');\n",
              "          quickchartButtonEl.style.display =\n",
              "            google.colab.kernel.accessAllowed ? 'block' : 'none';\n",
              "        })();\n",
              "      </script>\n",
              "    </div>\n",
              "\n",
              "    </div>\n",
              "  </div>\n"
            ],
            "application/vnd.google.colaboratory.intrinsic+json": {
              "type": "dataframe",
              "summary": "{\n  \"name\": \"display(df\",\n  \"rows\": 5,\n  \"fields\": [\n    {\n      \"column\": \"count\",\n      \"properties\": {\n        \"dtype\": \"date\",\n        \"min\": 15500.0,\n        \"max\": 15500.0,\n        \"num_unique_values\": 1,\n        \"samples\": [\n          15500.0\n        ],\n        \"semantic_type\": \"\",\n        \"description\": \"\"\n      }\n    },\n    {\n      \"column\": \"mean\",\n      \"properties\": {\n        \"dtype\": \"date\",\n        \"min\": 36.968974193548384,\n        \"max\": 126.40867741935485,\n        \"num_unique_values\": 5,\n        \"samples\": [\n          83.61770322580645\n        ],\n        \"semantic_type\": \"\",\n        \"description\": \"\"\n      }\n    },\n    {\n      \"column\": \"min\",\n      \"properties\": {\n        \"dtype\": \"date\",\n        \"min\": 35.1,\n        \"max\": 80.0,\n        \"num_unique_values\": 5,\n        \"samples\": [\n          37.3\n        ],\n        \"semantic_type\": \"\",\n        \"description\": \"\"\n      }\n    },\n    {\n      \"column\": \"25%\",\n      \"properties\": {\n        \"dtype\": \"date\",\n        \"min\": 36.5,\n        \"max\": 110.5,\n        \"num_unique_values\": 5,\n        \"samples\": [\n          73.3\n        ],\n        \"semantic_type\": \"\",\n        \"description\": \"\"\n      }\n    },\n    {\n      \"column\": \"50%\",\n      \"properties\": {\n        \"dtype\": \"date\",\n        \"min\": 36.8,\n        \"max\": 122.2,\n        \"num_unique_values\": 5,\n        \"samples\": [\n          82.1\n        ],\n        \"semantic_type\": \"\",\n        \"description\": \"\"\n      }\n    },\n    {\n      \"column\": \"75%\",\n      \"properties\": {\n        \"dtype\": \"date\",\n        \"min\": 37.1,\n        \"max\": 137.2,\n        \"num_unique_values\": 5,\n        \"samples\": [\n          91.0\n        ],\n        \"semantic_type\": \"\",\n        \"description\": \"\"\n      }\n    },\n    {\n      \"column\": \"max\",\n      \"properties\": {\n        \"dtype\": \"date\",\n        \"min\": 41.39999999999999,\n        \"max\": 220.0,\n        \"num_unique_values\": 5,\n        \"samples\": [\n          167.5\n        ],\n        \"semantic_type\": \"\",\n        \"description\": \"\"\n      }\n    },\n    {\n      \"column\": \"std\",\n      \"properties\": {\n        \"dtype\": \"date\",\n        \"min\": 0.87033724188893,\n        \"max\": 23.677911915347444,\n        \"num_unique_values\": 5,\n        \"samples\": [\n          16.40752189621614\n        ],\n        \"semantic_type\": \"\",\n        \"description\": \"\"\n      }\n    }\n  ]\n}"
            }
          },
          "metadata": {}
        }
      ]
    },
    {
      "cell_type": "markdown",
      "source": [
        "Key finding: after clipping, the descriptive stats show all vitals now fall inside plausible adult ranges while preserving natural variability (see updated max values in the table). This prevents extreme outliers from dominating scale-sensitive models (e.g. distance-based algorithms) and keeps the NEWS-based deterioration label meaningful."
      ],
      "metadata": {
        "id": "afk-MW2qp5mO"
      }
    },
    {
      "cell_type": "markdown",
      "source": [
        "##2.3 Missing Value Handling"
      ],
      "metadata": {
        "id": "IR_4OshRlcgW"
      }
    },
    {
      "cell_type": "markdown",
      "source": [
        "We forward-fill, then back-fill within each patient so every row has vitals for NEWS / rolling stats:"
      ],
      "metadata": {
        "id": "aK62StdLljmo"
      }
    },
    {
      "cell_type": "code",
      "source": [
        "#Forward- then back-fill within each patient\n",
        "df = df.sort_values([\"patient_id\", \"date\"])\n",
        "\n",
        "num_cols = [\"spo2\",\"heart_rate\",\"temperature\",\n",
        "            \"sys_bp\",\"dia_bp\",\"weight\",\"glucose\"]\n",
        "\n",
        "df[num_cols] = (\n",
        "    df.groupby(\"patient_id\")[num_cols]\n",
        "      .apply(lambda g: g.ffill().bfill())\n",
        "      .reset_index(level=0, drop=True)\n",
        ")\n",
        "\n",
        "print(\"NaNs remaining per column:\")\n",
        "print(df[num_cols].isna().sum())\n"
      ],
      "metadata": {
        "colab": {
          "base_uri": "https://localhost:8080/",
          "height": 0
        },
        "id": "0raQ2qmYkrec",
        "outputId": "6ffc9c34-e461-45cd-80d9-8f206fa69456"
      },
      "execution_count": 32,
      "outputs": [
        {
          "output_type": "stream",
          "name": "stdout",
          "text": [
            "NaNs remaining per column:\n",
            "spo2           0\n",
            "heart_rate     0\n",
            "temperature    0\n",
            "sys_bp         0\n",
            "dia_bp         0\n",
            "weight         0\n",
            "glucose        0\n",
            "dtype: int64\n"
          ]
        }
      ]
    },
    {
      "cell_type": "markdown",
      "source": [
        "##2.4 Label engineering to define a deterioration target"
      ],
      "metadata": {
        "id": "Rr_CTEZ2lr7j"
      }
    },
    {
      "cell_type": "markdown",
      "source": [
        "A NEWS-based scoring system was employed to label deterioration events (e.g., SpO2 < 92%, HR > 130 bpm, etc.). A binary label deteriorate_next_day was created for predictive modeling, affecting roughly 11% of the data"
      ],
      "metadata": {
        "id": "c9tHOPndqvfB"
      }
    },
    {
      "cell_type": "code",
      "source": [
        "def news_sub(row):\n",
        "    # minimal NEWS2 rules (edit as needed)\n",
        "    spo2 = row.spo2\n",
        "    hr   = row.heart_rate\n",
        "    temp = row.temperature\n",
        "    sbp  = row.sys_bp\n",
        "\n",
        "    s_spo2 = 3 if spo2 < 91 else (2 if spo2 < 93 else (1 if spo2 < 95 else 0))\n",
        "    s_hr   = 3 if hr   >= 130 or hr < 40 else (\n",
        "             2 if hr > 110 else (1 if hr > 100 or hr < 50 else 0))\n",
        "    s_temp = 3 if temp >= 39 or temp < 35 else (1 if temp > 38 else 0)\n",
        "    s_sbp  = 3 if sbp  <  90 else (2 if sbp < 100 else (1 if sbp < 110 else 0))\n",
        "    return s_spo2 + s_hr + s_temp + s_sbp\n",
        "\n",
        "df[\"news_score\"] = df.apply(news_sub, axis=1)\n",
        "\n",
        "# rolling max NEWS in next 24 h for each patient (label)\n",
        "df = (df\n",
        "      .sort_values([\"patient_id\",\"date\"])\n",
        "      .assign(news_future=lambda d:\n",
        "              d.groupby(\"patient_id\")[\"news_score\"]\n",
        "               .shift(-1).rolling(2, min_periods=1).max())\n",
        ")\n",
        "\n",
        "df[\"deteriorate_next_day\"] = (df[\"news_future\"] >= 5).astype(int)\n"
      ],
      "metadata": {
        "id": "O06MJ0vwkymS"
      },
      "execution_count": 30,
      "outputs": []
    },
    {
      "cell_type": "markdown",
      "source": [
        "##2.5 Feature Engineering"
      ],
      "metadata": {
        "id": "mPDVBIXEl3rs"
      }
    },
    {
      "cell_type": "markdown",
      "source": [
        "This section of the notebook demonstrates feature engineering to extract both static and temporal features from the vitals dataset for each patient. Here's a breakdown of what's happening:"
      ],
      "metadata": {
        "id": "SirvSa-YrQaV"
      }
    },
    {
      "cell_type": "markdown",
      "source": [
        "###2.5.1 Static / point-in-time features"
      ],
      "metadata": {
        "id": "IW8Aa7-SmPr2"
      }
    },
    {
      "cell_type": "markdown",
      "source": [
        "Two new clinical indicators are derived:\n",
        "\n",
        "1. pulse_pressure = sys_bp - dia_bp: This reflects the force the heart generates each time it contracts. High or low values may indicate cardiovascular risk.\n",
        "\n",
        "2. shock_index = heart_rate / sys_bp: Often used to assess the severity of illness or shock. Values >0.7 can be concerning in clinical settings."
      ],
      "metadata": {
        "id": "Px3e_KQXrTnL"
      }
    },
    {
      "cell_type": "code",
      "source": [
        "df[\"pulse_pressure\"] = df.sys_bp - df.dia_bp\n",
        "df[\"shock_index\"]    = df.heart_rate / df.sys_bp"
      ],
      "metadata": {
        "id": "3AsYM7FXk3Qs"
      },
      "execution_count": 38,
      "outputs": []
    },
    {
      "cell_type": "markdown",
      "source": [
        "###2.5.2 Temporal aggregation features"
      ],
      "metadata": {
        "id": "8BmYmlqZmXOM"
      }
    },
    {
      "cell_type": "markdown",
      "source": [
        "To capture trends over time, this step creates rolling statistics per patient:\n",
        "\n",
        "A 3-day rolling window is applied to each numerical vital sign.\n",
        "\n",
        "For each feature and window, it computes:\n",
        "\n",
        ">* `mean3`: The rolling average of the last 3 days.\n",
        "* `min3`: The rolling minimum value across the 3 days.\n",
        "* `slope`: A simple trend estimate based on the difference between consecutive values.\n",
        "\n",
        "\n",
        "These features help the model understand not just the current state but also how vitals are changing over time — important for detecting early signs of deterioration."
      ],
      "metadata": {
        "id": "UayL-IukrbMF"
      }
    },
    {
      "cell_type": "code",
      "source": [
        "def add_roll(group):\n",
        "    roll = group[num_cols].rolling(3, min_periods=1)\n",
        "    for col in num_cols:\n",
        "        group[f\"{col}_mean3\"] = roll[col].mean()\n",
        "        group[f\"{col}_min3\"]  = roll[col].min()\n",
        "        # simple slope: current – previous day\n",
        "        group[f\"{col}_slope\"] = group[col].diff()\n",
        "    return group\n",
        "\n",
        "df = df.groupby(\"patient_id\").apply(add_roll).reset_index(drop=True)\n"
      ],
      "metadata": {
        "colab": {
          "base_uri": "https://localhost:8080/",
          "height": 0
        },
        "id": "wHFs3CY1mYdZ",
        "outputId": "c08ec213-fd3b-4d5f-8e67-8cb021c745e9"
      },
      "execution_count": 39,
      "outputs": [
        {
          "output_type": "stream",
          "name": "stderr",
          "text": [
            "/tmp/ipython-input-39-1478952144.py:10: DeprecationWarning: DataFrameGroupBy.apply operated on the grouping columns. This behavior is deprecated, and in a future version of pandas the grouping columns will be excluded from the operation. Either pass `include_groups=False` to exclude the groupings or explicitly select the grouping columns after groupby to silence this warning.\n",
            "  df = df.groupby(\"patient_id\").apply(add_roll).reset_index(drop=True)\n"
          ]
        }
      ]
    },
    {
      "cell_type": "code",
      "source": [
        "df"
      ],
      "metadata": {
        "colab": {
          "base_uri": "https://localhost:8080/",
          "height": 3044
        },
        "id": "TqADbYZAql74",
        "outputId": "a087c57c-7245-4865-930c-6e3db1562310"
      },
      "execution_count": 40,
      "outputs": [
        {
          "output_type": "execute_result",
          "data": {
            "text/plain": [
              "       patient_id       date  spo2  heart_rate  temperature  sys_bp  dia_bp  \\\n",
              "0               1 2025-01-01  97.5        92.3         36.2   118.8    82.9   \n",
              "1               1 2025-01-02  95.4        91.6         36.7   148.0    84.8   \n",
              "2               1 2025-01-03  98.1        84.8         36.9   105.7    84.8   \n",
              "3               1 2025-01-04  98.4        91.0         37.3   133.0    81.2   \n",
              "4               1 2025-01-05  94.1        90.2         36.5   135.4    91.9   \n",
              "...           ...        ...   ...         ...          ...     ...     ...   \n",
              "15495         500 2025-01-27  97.8        96.5         37.1   132.3    78.5   \n",
              "15496         500 2025-01-28  97.8        86.1         36.4   126.4    72.0   \n",
              "15497         500 2025-01-29  97.6        85.7         36.7   115.5    78.8   \n",
              "15498         500 2025-01-30  96.5        76.3         36.4   115.5    63.6   \n",
              "15499         500 2025-01-31  98.0        90.2         36.1   127.7    89.2   \n",
              "\n",
              "       weight  glucose profile  ... sys_bp_slope  dia_bp_mean3  dia_bp_min3  \\\n",
              "0        66.6      6.3    BASE  ...          NaN     82.900000         82.9   \n",
              "1        67.1      6.3    BASE  ...         29.2     83.850000         82.9   \n",
              "2        55.8      6.1    BASE  ...        -42.3     84.166667         82.9   \n",
              "3        62.0      4.8    BASE  ...         27.3     83.600000         81.2   \n",
              "4        91.4      4.8    BASE  ...          2.4     85.966667         81.2   \n",
              "...       ...      ...     ...  ...          ...           ...          ...   \n",
              "15495    62.0      6.0    BASE  ...         -0.8     83.766667         78.5   \n",
              "15496    73.8      5.4    BASE  ...         -5.9     78.566667         72.0   \n",
              "15497    70.5      4.6    BASE  ...        -10.9     76.433333         72.0   \n",
              "15498    72.9      6.4    BASE  ...          0.0     71.466667         63.6   \n",
              "15499    64.5      7.6    BASE  ...         12.2     77.200000         63.6   \n",
              "\n",
              "       dia_bp_slope weight_mean3  weight_min3  weight_slope  glucose_mean3  \\\n",
              "0               NaN    66.600000         66.6           NaN       6.300000   \n",
              "1               1.9    66.850000         66.6           0.5       6.300000   \n",
              "2               0.0    63.166667         55.8         -11.3       6.233333   \n",
              "3              -3.6    61.633333         55.8           6.2       5.733333   \n",
              "4              10.7    69.733333         55.8          29.4       5.233333   \n",
              "...             ...          ...          ...           ...            ...   \n",
              "15495          -6.7    66.433333         62.0           0.0       6.266667   \n",
              "15496          -6.5    65.933333         62.0          11.8       6.366667   \n",
              "15497           6.8    68.766667         62.0          -3.3       5.333333   \n",
              "15498         -15.2    72.400000         70.5           2.4       5.466667   \n",
              "15499          25.6    69.300000         64.5          -8.4       6.200000   \n",
              "\n",
              "       glucose_min3  glucose_slope  \n",
              "0               6.3            NaN  \n",
              "1               6.3            0.0  \n",
              "2               6.1           -0.2  \n",
              "3               4.8           -1.3  \n",
              "4               4.8            0.0  \n",
              "...             ...            ...  \n",
              "15495           5.1           -1.7  \n",
              "15496           5.4           -0.6  \n",
              "15497           4.6           -0.8  \n",
              "15498           4.6            1.8  \n",
              "15499           4.6            1.2  \n",
              "\n",
              "[15500 rows x 38 columns]"
            ],
            "text/html": [
              "\n",
              "  <div id=\"df-eedfb9e7-b587-49d5-ac92-bd61e37b3051\" class=\"colab-df-container\">\n",
              "    <div>\n",
              "<style scoped>\n",
              "    .dataframe tbody tr th:only-of-type {\n",
              "        vertical-align: middle;\n",
              "    }\n",
              "\n",
              "    .dataframe tbody tr th {\n",
              "        vertical-align: top;\n",
              "    }\n",
              "\n",
              "    .dataframe thead th {\n",
              "        text-align: right;\n",
              "    }\n",
              "</style>\n",
              "<table border=\"1\" class=\"dataframe\">\n",
              "  <thead>\n",
              "    <tr style=\"text-align: right;\">\n",
              "      <th></th>\n",
              "      <th>patient_id</th>\n",
              "      <th>date</th>\n",
              "      <th>spo2</th>\n",
              "      <th>heart_rate</th>\n",
              "      <th>temperature</th>\n",
              "      <th>sys_bp</th>\n",
              "      <th>dia_bp</th>\n",
              "      <th>weight</th>\n",
              "      <th>glucose</th>\n",
              "      <th>profile</th>\n",
              "      <th>...</th>\n",
              "      <th>sys_bp_slope</th>\n",
              "      <th>dia_bp_mean3</th>\n",
              "      <th>dia_bp_min3</th>\n",
              "      <th>dia_bp_slope</th>\n",
              "      <th>weight_mean3</th>\n",
              "      <th>weight_min3</th>\n",
              "      <th>weight_slope</th>\n",
              "      <th>glucose_mean3</th>\n",
              "      <th>glucose_min3</th>\n",
              "      <th>glucose_slope</th>\n",
              "    </tr>\n",
              "  </thead>\n",
              "  <tbody>\n",
              "    <tr>\n",
              "      <th>0</th>\n",
              "      <td>1</td>\n",
              "      <td>2025-01-01</td>\n",
              "      <td>97.5</td>\n",
              "      <td>92.3</td>\n",
              "      <td>36.2</td>\n",
              "      <td>118.8</td>\n",
              "      <td>82.9</td>\n",
              "      <td>66.6</td>\n",
              "      <td>6.3</td>\n",
              "      <td>BASE</td>\n",
              "      <td>...</td>\n",
              "      <td>NaN</td>\n",
              "      <td>82.900000</td>\n",
              "      <td>82.9</td>\n",
              "      <td>NaN</td>\n",
              "      <td>66.600000</td>\n",
              "      <td>66.6</td>\n",
              "      <td>NaN</td>\n",
              "      <td>6.300000</td>\n",
              "      <td>6.3</td>\n",
              "      <td>NaN</td>\n",
              "    </tr>\n",
              "    <tr>\n",
              "      <th>1</th>\n",
              "      <td>1</td>\n",
              "      <td>2025-01-02</td>\n",
              "      <td>95.4</td>\n",
              "      <td>91.6</td>\n",
              "      <td>36.7</td>\n",
              "      <td>148.0</td>\n",
              "      <td>84.8</td>\n",
              "      <td>67.1</td>\n",
              "      <td>6.3</td>\n",
              "      <td>BASE</td>\n",
              "      <td>...</td>\n",
              "      <td>29.2</td>\n",
              "      <td>83.850000</td>\n",
              "      <td>82.9</td>\n",
              "      <td>1.9</td>\n",
              "      <td>66.850000</td>\n",
              "      <td>66.6</td>\n",
              "      <td>0.5</td>\n",
              "      <td>6.300000</td>\n",
              "      <td>6.3</td>\n",
              "      <td>0.0</td>\n",
              "    </tr>\n",
              "    <tr>\n",
              "      <th>2</th>\n",
              "      <td>1</td>\n",
              "      <td>2025-01-03</td>\n",
              "      <td>98.1</td>\n",
              "      <td>84.8</td>\n",
              "      <td>36.9</td>\n",
              "      <td>105.7</td>\n",
              "      <td>84.8</td>\n",
              "      <td>55.8</td>\n",
              "      <td>6.1</td>\n",
              "      <td>BASE</td>\n",
              "      <td>...</td>\n",
              "      <td>-42.3</td>\n",
              "      <td>84.166667</td>\n",
              "      <td>82.9</td>\n",
              "      <td>0.0</td>\n",
              "      <td>63.166667</td>\n",
              "      <td>55.8</td>\n",
              "      <td>-11.3</td>\n",
              "      <td>6.233333</td>\n",
              "      <td>6.1</td>\n",
              "      <td>-0.2</td>\n",
              "    </tr>\n",
              "    <tr>\n",
              "      <th>3</th>\n",
              "      <td>1</td>\n",
              "      <td>2025-01-04</td>\n",
              "      <td>98.4</td>\n",
              "      <td>91.0</td>\n",
              "      <td>37.3</td>\n",
              "      <td>133.0</td>\n",
              "      <td>81.2</td>\n",
              "      <td>62.0</td>\n",
              "      <td>4.8</td>\n",
              "      <td>BASE</td>\n",
              "      <td>...</td>\n",
              "      <td>27.3</td>\n",
              "      <td>83.600000</td>\n",
              "      <td>81.2</td>\n",
              "      <td>-3.6</td>\n",
              "      <td>61.633333</td>\n",
              "      <td>55.8</td>\n",
              "      <td>6.2</td>\n",
              "      <td>5.733333</td>\n",
              "      <td>4.8</td>\n",
              "      <td>-1.3</td>\n",
              "    </tr>\n",
              "    <tr>\n",
              "      <th>4</th>\n",
              "      <td>1</td>\n",
              "      <td>2025-01-05</td>\n",
              "      <td>94.1</td>\n",
              "      <td>90.2</td>\n",
              "      <td>36.5</td>\n",
              "      <td>135.4</td>\n",
              "      <td>91.9</td>\n",
              "      <td>91.4</td>\n",
              "      <td>4.8</td>\n",
              "      <td>BASE</td>\n",
              "      <td>...</td>\n",
              "      <td>2.4</td>\n",
              "      <td>85.966667</td>\n",
              "      <td>81.2</td>\n",
              "      <td>10.7</td>\n",
              "      <td>69.733333</td>\n",
              "      <td>55.8</td>\n",
              "      <td>29.4</td>\n",
              "      <td>5.233333</td>\n",
              "      <td>4.8</td>\n",
              "      <td>0.0</td>\n",
              "    </tr>\n",
              "    <tr>\n",
              "      <th>...</th>\n",
              "      <td>...</td>\n",
              "      <td>...</td>\n",
              "      <td>...</td>\n",
              "      <td>...</td>\n",
              "      <td>...</td>\n",
              "      <td>...</td>\n",
              "      <td>...</td>\n",
              "      <td>...</td>\n",
              "      <td>...</td>\n",
              "      <td>...</td>\n",
              "      <td>...</td>\n",
              "      <td>...</td>\n",
              "      <td>...</td>\n",
              "      <td>...</td>\n",
              "      <td>...</td>\n",
              "      <td>...</td>\n",
              "      <td>...</td>\n",
              "      <td>...</td>\n",
              "      <td>...</td>\n",
              "      <td>...</td>\n",
              "      <td>...</td>\n",
              "    </tr>\n",
              "    <tr>\n",
              "      <th>15495</th>\n",
              "      <td>500</td>\n",
              "      <td>2025-01-27</td>\n",
              "      <td>97.8</td>\n",
              "      <td>96.5</td>\n",
              "      <td>37.1</td>\n",
              "      <td>132.3</td>\n",
              "      <td>78.5</td>\n",
              "      <td>62.0</td>\n",
              "      <td>6.0</td>\n",
              "      <td>BASE</td>\n",
              "      <td>...</td>\n",
              "      <td>-0.8</td>\n",
              "      <td>83.766667</td>\n",
              "      <td>78.5</td>\n",
              "      <td>-6.7</td>\n",
              "      <td>66.433333</td>\n",
              "      <td>62.0</td>\n",
              "      <td>0.0</td>\n",
              "      <td>6.266667</td>\n",
              "      <td>5.1</td>\n",
              "      <td>-1.7</td>\n",
              "    </tr>\n",
              "    <tr>\n",
              "      <th>15496</th>\n",
              "      <td>500</td>\n",
              "      <td>2025-01-28</td>\n",
              "      <td>97.8</td>\n",
              "      <td>86.1</td>\n",
              "      <td>36.4</td>\n",
              "      <td>126.4</td>\n",
              "      <td>72.0</td>\n",
              "      <td>73.8</td>\n",
              "      <td>5.4</td>\n",
              "      <td>BASE</td>\n",
              "      <td>...</td>\n",
              "      <td>-5.9</td>\n",
              "      <td>78.566667</td>\n",
              "      <td>72.0</td>\n",
              "      <td>-6.5</td>\n",
              "      <td>65.933333</td>\n",
              "      <td>62.0</td>\n",
              "      <td>11.8</td>\n",
              "      <td>6.366667</td>\n",
              "      <td>5.4</td>\n",
              "      <td>-0.6</td>\n",
              "    </tr>\n",
              "    <tr>\n",
              "      <th>15497</th>\n",
              "      <td>500</td>\n",
              "      <td>2025-01-29</td>\n",
              "      <td>97.6</td>\n",
              "      <td>85.7</td>\n",
              "      <td>36.7</td>\n",
              "      <td>115.5</td>\n",
              "      <td>78.8</td>\n",
              "      <td>70.5</td>\n",
              "      <td>4.6</td>\n",
              "      <td>BASE</td>\n",
              "      <td>...</td>\n",
              "      <td>-10.9</td>\n",
              "      <td>76.433333</td>\n",
              "      <td>72.0</td>\n",
              "      <td>6.8</td>\n",
              "      <td>68.766667</td>\n",
              "      <td>62.0</td>\n",
              "      <td>-3.3</td>\n",
              "      <td>5.333333</td>\n",
              "      <td>4.6</td>\n",
              "      <td>-0.8</td>\n",
              "    </tr>\n",
              "    <tr>\n",
              "      <th>15498</th>\n",
              "      <td>500</td>\n",
              "      <td>2025-01-30</td>\n",
              "      <td>96.5</td>\n",
              "      <td>76.3</td>\n",
              "      <td>36.4</td>\n",
              "      <td>115.5</td>\n",
              "      <td>63.6</td>\n",
              "      <td>72.9</td>\n",
              "      <td>6.4</td>\n",
              "      <td>BASE</td>\n",
              "      <td>...</td>\n",
              "      <td>0.0</td>\n",
              "      <td>71.466667</td>\n",
              "      <td>63.6</td>\n",
              "      <td>-15.2</td>\n",
              "      <td>72.400000</td>\n",
              "      <td>70.5</td>\n",
              "      <td>2.4</td>\n",
              "      <td>5.466667</td>\n",
              "      <td>4.6</td>\n",
              "      <td>1.8</td>\n",
              "    </tr>\n",
              "    <tr>\n",
              "      <th>15499</th>\n",
              "      <td>500</td>\n",
              "      <td>2025-01-31</td>\n",
              "      <td>98.0</td>\n",
              "      <td>90.2</td>\n",
              "      <td>36.1</td>\n",
              "      <td>127.7</td>\n",
              "      <td>89.2</td>\n",
              "      <td>64.5</td>\n",
              "      <td>7.6</td>\n",
              "      <td>BASE</td>\n",
              "      <td>...</td>\n",
              "      <td>12.2</td>\n",
              "      <td>77.200000</td>\n",
              "      <td>63.6</td>\n",
              "      <td>25.6</td>\n",
              "      <td>69.300000</td>\n",
              "      <td>64.5</td>\n",
              "      <td>-8.4</td>\n",
              "      <td>6.200000</td>\n",
              "      <td>4.6</td>\n",
              "      <td>1.2</td>\n",
              "    </tr>\n",
              "  </tbody>\n",
              "</table>\n",
              "<p>15500 rows × 38 columns</p>\n",
              "</div>\n",
              "    <div class=\"colab-df-buttons\">\n",
              "\n",
              "  <div class=\"colab-df-container\">\n",
              "    <button class=\"colab-df-convert\" onclick=\"convertToInteractive('df-eedfb9e7-b587-49d5-ac92-bd61e37b3051')\"\n",
              "            title=\"Convert this dataframe to an interactive table.\"\n",
              "            style=\"display:none;\">\n",
              "\n",
              "  <svg xmlns=\"http://www.w3.org/2000/svg\" height=\"24px\" viewBox=\"0 -960 960 960\">\n",
              "    <path d=\"M120-120v-720h720v720H120Zm60-500h600v-160H180v160Zm220 220h160v-160H400v160Zm0 220h160v-160H400v160ZM180-400h160v-160H180v160Zm440 0h160v-160H620v160ZM180-180h160v-160H180v160Zm440 0h160v-160H620v160Z\"/>\n",
              "  </svg>\n",
              "    </button>\n",
              "\n",
              "  <style>\n",
              "    .colab-df-container {\n",
              "      display:flex;\n",
              "      gap: 12px;\n",
              "    }\n",
              "\n",
              "    .colab-df-convert {\n",
              "      background-color: #E8F0FE;\n",
              "      border: none;\n",
              "      border-radius: 50%;\n",
              "      cursor: pointer;\n",
              "      display: none;\n",
              "      fill: #1967D2;\n",
              "      height: 32px;\n",
              "      padding: 0 0 0 0;\n",
              "      width: 32px;\n",
              "    }\n",
              "\n",
              "    .colab-df-convert:hover {\n",
              "      background-color: #E2EBFA;\n",
              "      box-shadow: 0px 1px 2px rgba(60, 64, 67, 0.3), 0px 1px 3px 1px rgba(60, 64, 67, 0.15);\n",
              "      fill: #174EA6;\n",
              "    }\n",
              "\n",
              "    .colab-df-buttons div {\n",
              "      margin-bottom: 4px;\n",
              "    }\n",
              "\n",
              "    [theme=dark] .colab-df-convert {\n",
              "      background-color: #3B4455;\n",
              "      fill: #D2E3FC;\n",
              "    }\n",
              "\n",
              "    [theme=dark] .colab-df-convert:hover {\n",
              "      background-color: #434B5C;\n",
              "      box-shadow: 0px 1px 3px 1px rgba(0, 0, 0, 0.15);\n",
              "      filter: drop-shadow(0px 1px 2px rgba(0, 0, 0, 0.3));\n",
              "      fill: #FFFFFF;\n",
              "    }\n",
              "  </style>\n",
              "\n",
              "    <script>\n",
              "      const buttonEl =\n",
              "        document.querySelector('#df-eedfb9e7-b587-49d5-ac92-bd61e37b3051 button.colab-df-convert');\n",
              "      buttonEl.style.display =\n",
              "        google.colab.kernel.accessAllowed ? 'block' : 'none';\n",
              "\n",
              "      async function convertToInteractive(key) {\n",
              "        const element = document.querySelector('#df-eedfb9e7-b587-49d5-ac92-bd61e37b3051');\n",
              "        const dataTable =\n",
              "          await google.colab.kernel.invokeFunction('convertToInteractive',\n",
              "                                                    [key], {});\n",
              "        if (!dataTable) return;\n",
              "\n",
              "        const docLinkHtml = 'Like what you see? Visit the ' +\n",
              "          '<a target=\"_blank\" href=https://colab.research.google.com/notebooks/data_table.ipynb>data table notebook</a>'\n",
              "          + ' to learn more about interactive tables.';\n",
              "        element.innerHTML = '';\n",
              "        dataTable['output_type'] = 'display_data';\n",
              "        await google.colab.output.renderOutput(dataTable, element);\n",
              "        const docLink = document.createElement('div');\n",
              "        docLink.innerHTML = docLinkHtml;\n",
              "        element.appendChild(docLink);\n",
              "      }\n",
              "    </script>\n",
              "  </div>\n",
              "\n",
              "\n",
              "    <div id=\"df-0b786a35-2134-45e5-a93c-d7fe5699e33f\">\n",
              "      <button class=\"colab-df-quickchart\" onclick=\"quickchart('df-0b786a35-2134-45e5-a93c-d7fe5699e33f')\"\n",
              "                title=\"Suggest charts\"\n",
              "                style=\"display:none;\">\n",
              "\n",
              "<svg xmlns=\"http://www.w3.org/2000/svg\" height=\"24px\"viewBox=\"0 0 24 24\"\n",
              "     width=\"24px\">\n",
              "    <g>\n",
              "        <path d=\"M19 3H5c-1.1 0-2 .9-2 2v14c0 1.1.9 2 2 2h14c1.1 0 2-.9 2-2V5c0-1.1-.9-2-2-2zM9 17H7v-7h2v7zm4 0h-2V7h2v10zm4 0h-2v-4h2v4z\"/>\n",
              "    </g>\n",
              "</svg>\n",
              "      </button>\n",
              "\n",
              "<style>\n",
              "  .colab-df-quickchart {\n",
              "      --bg-color: #E8F0FE;\n",
              "      --fill-color: #1967D2;\n",
              "      --hover-bg-color: #E2EBFA;\n",
              "      --hover-fill-color: #174EA6;\n",
              "      --disabled-fill-color: #AAA;\n",
              "      --disabled-bg-color: #DDD;\n",
              "  }\n",
              "\n",
              "  [theme=dark] .colab-df-quickchart {\n",
              "      --bg-color: #3B4455;\n",
              "      --fill-color: #D2E3FC;\n",
              "      --hover-bg-color: #434B5C;\n",
              "      --hover-fill-color: #FFFFFF;\n",
              "      --disabled-bg-color: #3B4455;\n",
              "      --disabled-fill-color: #666;\n",
              "  }\n",
              "\n",
              "  .colab-df-quickchart {\n",
              "    background-color: var(--bg-color);\n",
              "    border: none;\n",
              "    border-radius: 50%;\n",
              "    cursor: pointer;\n",
              "    display: none;\n",
              "    fill: var(--fill-color);\n",
              "    height: 32px;\n",
              "    padding: 0;\n",
              "    width: 32px;\n",
              "  }\n",
              "\n",
              "  .colab-df-quickchart:hover {\n",
              "    background-color: var(--hover-bg-color);\n",
              "    box-shadow: 0 1px 2px rgba(60, 64, 67, 0.3), 0 1px 3px 1px rgba(60, 64, 67, 0.15);\n",
              "    fill: var(--button-hover-fill-color);\n",
              "  }\n",
              "\n",
              "  .colab-df-quickchart-complete:disabled,\n",
              "  .colab-df-quickchart-complete:disabled:hover {\n",
              "    background-color: var(--disabled-bg-color);\n",
              "    fill: var(--disabled-fill-color);\n",
              "    box-shadow: none;\n",
              "  }\n",
              "\n",
              "  .colab-df-spinner {\n",
              "    border: 2px solid var(--fill-color);\n",
              "    border-color: transparent;\n",
              "    border-bottom-color: var(--fill-color);\n",
              "    animation:\n",
              "      spin 1s steps(1) infinite;\n",
              "  }\n",
              "\n",
              "  @keyframes spin {\n",
              "    0% {\n",
              "      border-color: transparent;\n",
              "      border-bottom-color: var(--fill-color);\n",
              "      border-left-color: var(--fill-color);\n",
              "    }\n",
              "    20% {\n",
              "      border-color: transparent;\n",
              "      border-left-color: var(--fill-color);\n",
              "      border-top-color: var(--fill-color);\n",
              "    }\n",
              "    30% {\n",
              "      border-color: transparent;\n",
              "      border-left-color: var(--fill-color);\n",
              "      border-top-color: var(--fill-color);\n",
              "      border-right-color: var(--fill-color);\n",
              "    }\n",
              "    40% {\n",
              "      border-color: transparent;\n",
              "      border-right-color: var(--fill-color);\n",
              "      border-top-color: var(--fill-color);\n",
              "    }\n",
              "    60% {\n",
              "      border-color: transparent;\n",
              "      border-right-color: var(--fill-color);\n",
              "    }\n",
              "    80% {\n",
              "      border-color: transparent;\n",
              "      border-right-color: var(--fill-color);\n",
              "      border-bottom-color: var(--fill-color);\n",
              "    }\n",
              "    90% {\n",
              "      border-color: transparent;\n",
              "      border-bottom-color: var(--fill-color);\n",
              "    }\n",
              "  }\n",
              "</style>\n",
              "\n",
              "      <script>\n",
              "        async function quickchart(key) {\n",
              "          const quickchartButtonEl =\n",
              "            document.querySelector('#' + key + ' button');\n",
              "          quickchartButtonEl.disabled = true;  // To prevent multiple clicks.\n",
              "          quickchartButtonEl.classList.add('colab-df-spinner');\n",
              "          try {\n",
              "            const charts = await google.colab.kernel.invokeFunction(\n",
              "                'suggestCharts', [key], {});\n",
              "          } catch (error) {\n",
              "            console.error('Error during call to suggestCharts:', error);\n",
              "          }\n",
              "          quickchartButtonEl.classList.remove('colab-df-spinner');\n",
              "          quickchartButtonEl.classList.add('colab-df-quickchart-complete');\n",
              "        }\n",
              "        (() => {\n",
              "          let quickchartButtonEl =\n",
              "            document.querySelector('#df-0b786a35-2134-45e5-a93c-d7fe5699e33f button');\n",
              "          quickchartButtonEl.style.display =\n",
              "            google.colab.kernel.accessAllowed ? 'block' : 'none';\n",
              "        })();\n",
              "      </script>\n",
              "    </div>\n",
              "\n",
              "  <div id=\"id_9f2c31c5-a971-430b-a3ee-4daa3537c655\">\n",
              "    <style>\n",
              "      .colab-df-generate {\n",
              "        background-color: #E8F0FE;\n",
              "        border: none;\n",
              "        border-radius: 50%;\n",
              "        cursor: pointer;\n",
              "        display: none;\n",
              "        fill: #1967D2;\n",
              "        height: 32px;\n",
              "        padding: 0 0 0 0;\n",
              "        width: 32px;\n",
              "      }\n",
              "\n",
              "      .colab-df-generate:hover {\n",
              "        background-color: #E2EBFA;\n",
              "        box-shadow: 0px 1px 2px rgba(60, 64, 67, 0.3), 0px 1px 3px 1px rgba(60, 64, 67, 0.15);\n",
              "        fill: #174EA6;\n",
              "      }\n",
              "\n",
              "      [theme=dark] .colab-df-generate {\n",
              "        background-color: #3B4455;\n",
              "        fill: #D2E3FC;\n",
              "      }\n",
              "\n",
              "      [theme=dark] .colab-df-generate:hover {\n",
              "        background-color: #434B5C;\n",
              "        box-shadow: 0px 1px 3px 1px rgba(0, 0, 0, 0.15);\n",
              "        filter: drop-shadow(0px 1px 2px rgba(0, 0, 0, 0.3));\n",
              "        fill: #FFFFFF;\n",
              "      }\n",
              "    </style>\n",
              "    <button class=\"colab-df-generate\" onclick=\"generateWithVariable('df')\"\n",
              "            title=\"Generate code using this dataframe.\"\n",
              "            style=\"display:none;\">\n",
              "\n",
              "  <svg xmlns=\"http://www.w3.org/2000/svg\" height=\"24px\"viewBox=\"0 0 24 24\"\n",
              "       width=\"24px\">\n",
              "    <path d=\"M7,19H8.4L18.45,9,17,7.55,7,17.6ZM5,21V16.75L18.45,3.32a2,2,0,0,1,2.83,0l1.4,1.43a1.91,1.91,0,0,1,.58,1.4,1.91,1.91,0,0,1-.58,1.4L9.25,21ZM18.45,9,17,7.55Zm-12,3A5.31,5.31,0,0,0,4.9,8.1,5.31,5.31,0,0,0,1,6.5,5.31,5.31,0,0,0,4.9,4.9,5.31,5.31,0,0,0,6.5,1,5.31,5.31,0,0,0,8.1,4.9,5.31,5.31,0,0,0,12,6.5,5.46,5.46,0,0,0,6.5,12Z\"/>\n",
              "  </svg>\n",
              "    </button>\n",
              "    <script>\n",
              "      (() => {\n",
              "      const buttonEl =\n",
              "        document.querySelector('#id_9f2c31c5-a971-430b-a3ee-4daa3537c655 button.colab-df-generate');\n",
              "      buttonEl.style.display =\n",
              "        google.colab.kernel.accessAllowed ? 'block' : 'none';\n",
              "\n",
              "      buttonEl.onclick = () => {\n",
              "        google.colab.notebook.generateWithVariable('df');\n",
              "      }\n",
              "      })();\n",
              "    </script>\n",
              "  </div>\n",
              "\n",
              "    </div>\n",
              "  </div>\n"
            ],
            "application/vnd.google.colaboratory.intrinsic+json": {
              "type": "dataframe",
              "variable_name": "df"
            }
          },
          "metadata": {},
          "execution_count": 40
        },
        {
          "output_type": "stream",
          "name": "stdout",
          "text": [
            "Warning: Total number of columns (40) exceeds max_columns (20) limiting to first (20) columns.\n",
            "Error: Runtime no longer has a reference to this dataframe, please re-run this cell and try again.\n"
          ]
        }
      ]
    },
    {
      "cell_type": "markdown",
      "source": [
        "We engineered both static and temporal features. Static indicators like pulse pressure and shock index reflect cardiovascular health. For temporal features, we applied a 3-day rolling window to capture trends in patient vitals (mean, minimum, and slope), which are critical for detecting gradual deterioration."
      ],
      "metadata": {
        "id": "M0RelIwprw5F"
      }
    },
    {
      "cell_type": "markdown",
      "source": [
        "# 3.0 Predictive Model Development using ML & LLM Features"
      ],
      "metadata": {
        "id": "-gJJnMLmNAJ-"
      }
    },
    {
      "cell_type": "markdown",
      "source": [
        "Target feature is `deteriorate_next_day`. This is a binary classification label indicating whether a patient is likely to experience clinical deterioration in the next 24 hours.\n",
        "\n",
        "It was engineered using the NEWS2 score logic (from Section 2.4). Specifically:\n",
        "\n",
        "* A patient is labeled as 1 (deteriorate) if their maximum NEWS2 score within the next 24 hours is ≥ 5, based on a rolling window.\n",
        "* Otherwise, the label is 0 (no deterioration).\n",
        "\n",
        "This makes it suitable for predicting next-day health deterioration, enabling early intervention using the vitals and features you've prepared."
      ],
      "metadata": {
        "id": "FuRe2abWs5qH"
      }
    },
    {
      "cell_type": "markdown",
      "source": [
        "## 3.1 Prepare Dataset for Modeling\n"
      ],
      "metadata": {
        "id": "ZZ9SKX2zNSTY"
      }
    },
    {
      "cell_type": "code",
      "source": [
        "#Prepare Dataset for Modeling\n",
        "\n",
        "from sklearn.model_selection import train_test_split\n",
        "\n",
        "# Drop columns that are not useful for modeling\n",
        "drop_cols = [\"patient_id\", \"date\", \"note\", \"questionnaire\", \"profile\"]\n",
        "df_model = df.drop(columns=drop_cols)\n",
        "\n",
        "# Define features (X) and target (y)\n",
        "X = df_model.drop(columns=[\"deteriorate_next_day\"])\n",
        "y = df_model[\"deteriorate_next_day\"]\n",
        "\n",
        "# Handle missing values (fill with column medians)\n",
        "X = X.fillna(X.median())\n",
        "\n",
        "# Train-test split (80/20 stratified)\n",
        "X_train, X_test, y_train, y_test = train_test_split(\n",
        "    X, y, stratify=y, test_size=0.2, random_state=42\n",
        ")"
      ],
      "metadata": {
        "id": "Jg4Sa08kNFAr"
      },
      "execution_count": 42,
      "outputs": []
    },
    {
      "cell_type": "markdown",
      "source": [
        "## 3.2 Train Traditional ML Models"
      ],
      "metadata": {
        "id": "34KQrUSMNMm5"
      }
    },
    {
      "cell_type": "code",
      "source": [
        "from sklearn.ensemble import RandomForestClassifier\n",
        "from xgboost import XGBClassifier\n",
        "from sklearn.neural_network import MLPClassifier\n",
        "\n",
        "# Random Forest\n",
        "rf_model = RandomForestClassifier().fit(X_train, y_train)\n",
        "\n",
        "# XGBoost\n",
        "xgb_model = XGBClassifier(use_label_encoder=False, eval_metric='logloss').fit(X_train, y_train)\n",
        "\n",
        "# Neural Network\n",
        "nn_model = MLPClassifier(hidden_layer_sizes=(100,), max_iter=300).fit(X_train, y_train)"
      ],
      "metadata": {
        "colab": {
          "base_uri": "https://localhost:8080/",
          "height": 0
        },
        "id": "4EKWE_WpPZZG",
        "outputId": "92f3c4ab-9f02-4c5b-fa76-8d5be6a85990"
      },
      "execution_count": 43,
      "outputs": [
        {
          "output_type": "stream",
          "name": "stderr",
          "text": [
            "/usr/local/lib/python3.11/dist-packages/xgboost/core.py:158: UserWarning: [12:56:08] WARNING: /workspace/src/learner.cc:740: \n",
            "Parameters: { \"use_label_encoder\" } are not used.\n",
            "\n",
            "  warnings.warn(smsg, UserWarning)\n"
          ]
        }
      ]
    },
    {
      "cell_type": "markdown",
      "source": [
        "##3.3 Sentiment Analysis on Questionnaire"
      ],
      "metadata": {
        "id": "l6X-CknfwTbC"
      }
    },
    {
      "cell_type": "code",
      "source": [
        "df['questionnaire'].dropna().sample(5)  # View sample"
      ],
      "metadata": {
        "colab": {
          "base_uri": "https://localhost:8080/",
          "height": 241
        },
        "id": "SQDVhVkFwTAD",
        "outputId": "cf0b27ce-66d7-49a1-afe1-07ccc1b5783f"
      },
      "execution_count": 48,
      "outputs": [
        {
          "output_type": "execute_result",
          "data": {
            "text/plain": [
              "9123                  I feel weak and my appetite is low.\n",
              "8871      Not great – dizziness and mild chest tightness.\n",
              "1144    I feel weak and my appetite is low. I also fee...\n",
              "4915           No big changes; I'd say I'm average today.\n",
              "3287    No big changes; I'd say I'm average today. I a...\n",
              "Name: questionnaire, dtype: object"
            ],
            "text/html": [
              "<div>\n",
              "<style scoped>\n",
              "    .dataframe tbody tr th:only-of-type {\n",
              "        vertical-align: middle;\n",
              "    }\n",
              "\n",
              "    .dataframe tbody tr th {\n",
              "        vertical-align: top;\n",
              "    }\n",
              "\n",
              "    .dataframe thead th {\n",
              "        text-align: right;\n",
              "    }\n",
              "</style>\n",
              "<table border=\"1\" class=\"dataframe\">\n",
              "  <thead>\n",
              "    <tr style=\"text-align: right;\">\n",
              "      <th></th>\n",
              "      <th>questionnaire</th>\n",
              "    </tr>\n",
              "  </thead>\n",
              "  <tbody>\n",
              "    <tr>\n",
              "      <th>9123</th>\n",
              "      <td>I feel weak and my appetite is low.</td>\n",
              "    </tr>\n",
              "    <tr>\n",
              "      <th>8871</th>\n",
              "      <td>Not great – dizziness and mild chest tightness.</td>\n",
              "    </tr>\n",
              "    <tr>\n",
              "      <th>1144</th>\n",
              "      <td>I feel weak and my appetite is low. I also fee...</td>\n",
              "    </tr>\n",
              "    <tr>\n",
              "      <th>4915</th>\n",
              "      <td>No big changes; I'd say I'm average today.</td>\n",
              "    </tr>\n",
              "    <tr>\n",
              "      <th>3287</th>\n",
              "      <td>No big changes; I'd say I'm average today. I a...</td>\n",
              "    </tr>\n",
              "  </tbody>\n",
              "</table>\n",
              "</div><br><label><b>dtype:</b> object</label>"
            ]
          },
          "metadata": {},
          "execution_count": 48
        }
      ]
    },
    {
      "cell_type": "markdown",
      "source": [
        "### 3.3.1 Sentiment Analysis using Textblob"
      ],
      "metadata": {
        "id": "K19dmZwUw6EK"
      }
    },
    {
      "cell_type": "code",
      "source": [
        "!pip install textblob\n",
        "from textblob import TextBlob\n",
        "\n",
        "# Function to get polarity score\n",
        "def get_sentiment(text):\n",
        "    return TextBlob(text).sentiment.polarity  # Returns score from -1 to 1\n",
        "\n",
        "# Apply to the questionnaire column\n",
        "df['sentiment_score'] = df['questionnaire'].apply(lambda x: get_sentiment(str(x)))\n",
        "\n",
        "# Optional: classify sentiment\n",
        "df['sentiment_label'] = df['sentiment_score'].apply(\n",
        "    lambda x: 'positive' if x > 0 else 'negative' if x < 0 else 'neutral'\n",
        ")"
      ],
      "metadata": {
        "colab": {
          "base_uri": "https://localhost:8080/",
          "height": 0
        },
        "id": "i_UzRAN7wiIS",
        "outputId": "68db2157-383a-4211-e6f4-91b8b6ff733c"
      },
      "execution_count": 49,
      "outputs": [
        {
          "output_type": "stream",
          "name": "stdout",
          "text": [
            "Requirement already satisfied: textblob in /usr/local/lib/python3.11/dist-packages (0.19.0)\n",
            "Requirement already satisfied: nltk>=3.9 in /usr/local/lib/python3.11/dist-packages (from textblob) (3.9.1)\n",
            "Requirement already satisfied: click in /usr/local/lib/python3.11/dist-packages (from nltk>=3.9->textblob) (8.2.1)\n",
            "Requirement already satisfied: joblib in /usr/local/lib/python3.11/dist-packages (from nltk>=3.9->textblob) (1.5.1)\n",
            "Requirement already satisfied: regex>=2021.8.3 in /usr/local/lib/python3.11/dist-packages (from nltk>=3.9->textblob) (2024.11.6)\n",
            "Requirement already satisfied: tqdm in /usr/local/lib/python3.11/dist-packages (from nltk>=3.9->textblob) (4.67.1)\n"
          ]
        }
      ]
    },
    {
      "cell_type": "code",
      "source": [
        "import seaborn as sns\n",
        "import matplotlib.pyplot as plt\n",
        "\n",
        "sns.countplot(x='sentiment_label', data=df)\n",
        "plt.title(\"Sentiment Distribution of Questionnaire Responses\")\n",
        "plt.show()"
      ],
      "metadata": {
        "colab": {
          "base_uri": "https://localhost:8080/",
          "height": 472
        },
        "id": "xlAZEJiIwsvy",
        "outputId": "0e8f6440-0784-48fc-c52e-bea5af3f903f"
      },
      "execution_count": 50,
      "outputs": [
        {
          "output_type": "display_data",
          "data": {
            "text/plain": [
              "<Figure size 640x480 with 1 Axes>"
            ],
            "image/png": "[encoded data removed]"
          },
          "metadata": {}
        }
      ]
    },
    {
      "cell_type": "markdown",
      "source": [
        "# 4.0 Model Evaluation and Interpretation"
      ],
      "metadata": {
        "id": "JCtMJueEA8i_"
      }
    },
    {
      "cell_type": "markdown",
      "source": [
        "## 4.1 Evaluate Models"
      ],
      "metadata": {
        "id": "B5fkD6RnQHto"
      }
    },
    {
      "cell_type": "code",
      "source": [
        "from sklearn.metrics import classification_report, confusion_matrix, roc_auc_score\n",
        "\n",
        "models = {\n",
        "    \"Random Forest\": rf_model,\n",
        "    \"XGBoost\": xgb_model,\n",
        "    \"Neural Network\": nn_model,\n",
        "}\n",
        "\n",
        "for name, model in models.items():\n",
        "    y_pred = model.predict(X_test)\n",
        "    y_prob = model.predict_proba(X_test)[:, 1] if hasattr(model, \"predict_proba\") else None\n",
        "\n",
        "    print(f\"🔍 Model: {name}\")\n",
        "    print(\"Confusion Matrix:\")\n",
        "    print(confusion_matrix(y_test, y_pred))\n",
        "    print(\"\\nClassification Report:\")\n",
        "    print(classification_report(y_test, y_pred))\n",
        "    if y_prob is not None:\n",
        "        print(f\"ROC AUC Score: {roc_auc_score(y_test, y_prob):.4f}\")\n",
        "    print(\"=\"*60)\n"
      ],
      "metadata": {
        "colab": {
          "base_uri": "https://localhost:8080/",
          "height": 0
        },
        "id": "tWgDKkg-uE7R",
        "outputId": "d68a4f87-486f-4a80-a4c7-7d15984c7bca"
      },
      "execution_count": 56,
      "outputs": [
        {
          "output_type": "stream",
          "name": "stdout",
          "text": [
            "🔍 Model: Random Forest\n",
            "Confusion Matrix:\n",
            "[[2753    0]\n",
            " [   0  347]]\n",
            "\n",
            "Classification Report:\n",
            "              precision    recall  f1-score   support\n",
            "\n",
            "           0       1.00      1.00      1.00      2753\n",
            "           1       1.00      1.00      1.00       347\n",
            "\n",
            "    accuracy                           1.00      3100\n",
            "   macro avg       1.00      1.00      1.00      3100\n",
            "weighted avg       1.00      1.00      1.00      3100\n",
            "\n",
            "ROC AUC Score: 1.0000\n",
            "============================================================\n",
            "🔍 Model: XGBoost\n",
            "Confusion Matrix:\n",
            "[[2753    0]\n",
            " [   0  347]]\n",
            "\n",
            "Classification Report:\n",
            "              precision    recall  f1-score   support\n",
            "\n",
            "           0       1.00      1.00      1.00      2753\n",
            "           1       1.00      1.00      1.00       347\n",
            "\n",
            "    accuracy                           1.00      3100\n",
            "   macro avg       1.00      1.00      1.00      3100\n",
            "weighted avg       1.00      1.00      1.00      3100\n",
            "\n",
            "ROC AUC Score: 1.0000\n",
            "============================================================\n",
            "🔍 Model: Neural Network\n",
            "Confusion Matrix:\n",
            "[[2753    0]\n",
            " [   0  347]]\n",
            "\n",
            "Classification Report:\n",
            "              precision    recall  f1-score   support\n",
            "\n",
            "           0       1.00      1.00      1.00      2753\n",
            "           1       1.00      1.00      1.00       347\n",
            "\n",
            "    accuracy                           1.00      3100\n",
            "   macro avg       1.00      1.00      1.00      3100\n",
            "weighted avg       1.00      1.00      1.00      3100\n",
            "\n",
            "ROC AUC Score: 1.0000\n",
            "============================================================\n"
          ]
        }
      ]
    },
    {
      "cell_type": "markdown",
      "source": [
        "##4.2 Model Interpretation with SHAP"
      ],
      "metadata": {
        "id": "-AYGcJ2TQK2u"
      }
    },
    {
      "cell_type": "code",
      "source": [
        "import shap\n",
        "\n",
        "explainer = shap.Explainer(rf_model, X_train)\n",
        "shap_values = explainer(X_test)\n",
        "\n",
        "# Summary plot\n",
        "shap.summary_plot(shap_values, X_test)"
      ],
      "metadata": {
        "colab": {
          "base_uri": "https://localhost:8080/",
          "height": 714
        },
        "id": "ULSS1PeTQ8de",
        "outputId": "ea4ee28e-b2ae-4c10-f785-cc359fad8842"
      },
      "execution_count": 57,
      "outputs": [
        {
          "output_type": "stream",
          "name": "stderr",
          "text": [
            " 98%|===================| 6086/6200 [00:33<00:00]       "
          ]
        },
        {
          "output_type": "display_data",
          "data": {
            "text/plain": [
              "<Figure size 1150x660 with 2 Axes>"
            ],
            "image/png": "[encoded data removed]"
          },
          "metadata": {}
        }
      ]
    },
    {
      "cell_type": "markdown",
      "source": [
        "SHAP Summary Explanation:\n",
        "The SHAP analysis highlights that SpO₂ and heart rate are the two most influential features driving the model's predictions for patient deterioration. The symmetric distribution of SHAP interaction values around zero indicates a balanced impact of both high and low values of these features on the predicted outcome. This reinforces the clinical relevance of monitoring vital signs for early detection of deterioration."
      ],
      "metadata": {
        "id": "cMXR28s6vVpg"
      }
    },
    {
      "cell_type": "code",
      "source": [
        "import seaborn as sns\n",
        "import matplotlib.pyplot as plt\n",
        "\n",
        "# Select only numerical features\n",
        "numerical_df = df.select_dtypes(include=['float64', 'int64'])\n",
        "\n",
        "# Compute correlation matrix\n",
        "corr_matrix = numerical_df.corr()\n",
        "\n",
        "# Plot heatmap\n",
        "plt.figure(figsize=(14, 10))\n",
        "sns.heatmap(corr_matrix, cmap='coolwarm', annot=False, fmt=\".2f\")\n",
        "plt.title(\"Correlation Matrix of Numerical Features\")\n",
        "plt.tight_layout()\n",
        "plt.show()\n"
      ],
      "metadata": {
        "colab": {
          "base_uri": "https://localhost:8080/",
          "height": 1000
        },
        "id": "hptY3CGe2gy8",
        "outputId": "818fb3c1-99e2-4eff-8f4e-ea44a16c5119"
      },
      "execution_count": 64,
      "outputs": [
        {
          "output_type": "display_data",
          "data": {
            "text/plain": [
              "<Figure size 1400x1000 with 2 Axes>"
            ],
            "image/png": "[encoded data removed]"
          },
          "metadata": {}
        }
      ]
    }
  ]
}