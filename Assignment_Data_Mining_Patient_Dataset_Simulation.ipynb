{
  "nbformat": 4,
  "nbformat_minor": 0,
  "metadata": {
    "colab": {
      "provenance": [],
      "authorship_tag": "ABX9TyPBOV0ftyKBF2Td9YmuvdI3",
      "include_colab_link": true
    },
    "kernelspec": {
      "name": "python3",
      "display_name": "Python 3"
    },
    "language_info": {
      "name": "python"
    }
  },
  "cells": [
    {
      "cell_type": "markdown",
      "metadata": {
        "id": "view-in-github",
        "colab_type": "text"
      },
      "source": [
        "<a href=\"https://colab.research.google.com/github/Aishah-Manam/PredictingPatientHealthDeterioration/blob/main/Assignment_Data_Mining_Patient_Dataset_Simulation.ipynb\" target=\"_parent\"><img src=\"https://colab.research.google.com/assets/colab-badge.svg\" alt=\"Open In Colab\"/></a>"
      ]
    },
    {
      "cell_type": "code",
      "source": [
        "#@title ⬇️  One‑time Git setup  {display-mode: code}\n",
        "!git config --global user.name \"Aishah-Manam\"\n",
        "!git config --global user.email \"aishahmnm@gmail.com\"\n",
        "\n",
        "# Clone your empty GitHub repo to /content\n",
        "REPO_URL = \"https://github.com/Aishah-Manam/PredictingPatientHealthDeterioration\"\n",
        "!git clone $REPO_URL\n"
      ],
      "metadata": {
        "colab": {
          "base_uri": "https://localhost:8080/"
        },
        "id": "2WHK05gQdlWj",
        "outputId": "523624e4-adb1-404a-f3dc-7694bf696109"
      },
      "execution_count": 2,
      "outputs": [
        {
          "output_type": "stream",
          "name": "stdout",
          "text": [
            "Cloning into 'PredictingPatientHealthDeterioration'...\n",
            "remote: Enumerating objects: 9, done.\u001b[K\n",
            "remote: Counting objects: 100% (9/9), done.\u001b[K\n",
            "remote: Compressing objects: 100% (5/5), done.\u001b[K\n",
            "remote: Total 9 (delta 1), reused 0 (delta 0), pack-reused 0 (from 0)\u001b[K\n",
            "Receiving objects: 100% (9/9), done.\n",
            "Resolving deltas: 100% (1/1), done.\n"
          ]
        }
      ]
    },
    {
      "cell_type": "code",
      "source": [
        "%%bash\n",
        "# Path of the repo you just cloned (check with !ls /content if unsure)\n",
        "REPO_DIR=\"/content/PredictingPatientHealthDeterioration\"\n",
        "echo \"Repo dir is $REPO_DIR\"\n"
      ],
      "metadata": {
        "colab": {
          "base_uri": "https://localhost:8080/"
        },
        "id": "AmxSmCI8f_uz",
        "outputId": "988ded43-5c2e-4a3c-afb7-12e2e389da3d"
      },
      "execution_count": 8,
      "outputs": [
        {
          "output_type": "stream",
          "name": "stdout",
          "text": [
            "Repo dir is /content/PredictingPatientHealthDeterioration\n"
          ]
        }
      ]
    },
    {
      "cell_type": "code",
      "source": [
        "%%bash\n",
        "# Recursively find every notebook path under /content\n",
        "find /content -name '*.ipynb' -print\n"
      ],
      "metadata": {
        "id": "I_r2vhnuhbtO"
      },
      "execution_count": 9,
      "outputs": []
    },
    {
      "cell_type": "code",
      "source": [
        "import shutil, os, glob\n",
        "\n",
        "REPO_DIR = \"/content/wqd7005-synthetic-ed\"\n",
        "\n",
        "# 1. Save notebook inside repo\n",
        "nb_path = \"/content/WQD7005.ipynb\"\n",
        "shutil.copy(nb_path, os.path.join(REPO_DIR, \"notebooks_WQD7005.ipynb\"))\n",
        "\n",
        "# 2. Move dataset, log, figure if they exist\n",
        "for f in [\"synthetic_patients.csv\", \"prompt_log.csv\", \"shap_summary.png\"]:\n",
        "    if os.path.exists(f):\n",
        "        shutil.copy(f, os.path.join(REPO_DIR, f))\n"
      ],
      "metadata": {
        "id": "HxBgCfb1eBqv"
      },
      "execution_count": null,
      "outputs": []
    },
    {
      "cell_type": "code",
      "execution_count": 1,
      "metadata": {
        "colab": {
          "base_uri": "https://localhost:8080/"
        },
        "id": "3by9qPtkaKv7",
        "outputId": "ef6b1236-0005-45f7-8df1-e644737a2fd8"
      },
      "outputs": [
        {
          "output_type": "stream",
          "name": "stdout",
          "text": [
            "\u001b[2K   \u001b[90m━━━━━━━━━━━━━━━━━━━━━━━━━━━━━━━━━━━━━━━━\u001b[0m \u001b[32m363.4/363.4 MB\u001b[0m \u001b[31m3.7 MB/s\u001b[0m eta \u001b[36m0:00:00\u001b[0m\n",
            "\u001b[2K   \u001b[90m━━━━━━━━━━━━━━━━━━━━━━━━━━━━━━━━━━━━━━━━\u001b[0m \u001b[32m13.8/13.8 MB\u001b[0m \u001b[31m59.9 MB/s\u001b[0m eta \u001b[36m0:00:00\u001b[0m\n",
            "\u001b[2K   \u001b[90m━━━━━━━━━━━━━━━━━━━━━━━━━━━━━━━━━━━━━━━━\u001b[0m \u001b[32m24.6/24.6 MB\u001b[0m \u001b[31m52.4 MB/s\u001b[0m eta \u001b[36m0:00:00\u001b[0m\n",
            "\u001b[2K   \u001b[90m━━━━━━━━━━━━━━━━━━━━━━━━━━━━━━━━━━━━━━━━\u001b[0m \u001b[32m883.7/883.7 kB\u001b[0m \u001b[31m28.8 MB/s\u001b[0m eta \u001b[36m0:00:00\u001b[0m\n",
            "\u001b[2K   \u001b[90m━━━━━━━━━━━━━━━━━━━━━━━━━━━━━━━━━━━━━━━━\u001b[0m \u001b[32m664.8/664.8 MB\u001b[0m \u001b[31m2.7 MB/s\u001b[0m eta \u001b[36m0:00:00\u001b[0m\n",
            "\u001b[2K   \u001b[90m━━━━━━━━━━━━━━━━━━━━━━━━━━━━━━━━━━━━━━━━\u001b[0m \u001b[32m211.5/211.5 MB\u001b[0m \u001b[31m5.5 MB/s\u001b[0m eta \u001b[36m0:00:00\u001b[0m\n",
            "\u001b[2K   \u001b[90m━━━━━━━━━━━━━━━━━━━━━━━━━━━━━━━━━━━━━━━━\u001b[0m \u001b[32m56.3/56.3 MB\u001b[0m \u001b[31m11.2 MB/s\u001b[0m eta \u001b[36m0:00:00\u001b[0m\n",
            "\u001b[2K   \u001b[90m━━━━━━━━━━━━━━━━━━━━━━━━━━━━━━━━━━━━━━━━\u001b[0m \u001b[32m127.9/127.9 MB\u001b[0m \u001b[31m7.1 MB/s\u001b[0m eta \u001b[36m0:00:00\u001b[0m\n",
            "\u001b[2K   \u001b[90m━━━━━━━━━━━━━━━━━━━━━━━━━━━━━━━━━━━━━━━━\u001b[0m \u001b[32m207.5/207.5 MB\u001b[0m \u001b[31m5.7 MB/s\u001b[0m eta \u001b[36m0:00:00\u001b[0m\n",
            "\u001b[2K   \u001b[90m━━━━━━━━━━━━━━━━━━━━━━━━━━━━━━━━━━━━━━━━\u001b[0m \u001b[32m21.1/21.1 MB\u001b[0m \u001b[31m56.5 MB/s\u001b[0m eta \u001b[36m0:00:00\u001b[0m\n",
            "\u001b[?25h"
          ]
        }
      ],
      "source": [
        "# 📦 Install libraries needed (only once per session)\n",
        "# !pip -q install openai sentence-transformers shap scikit-learn pandas numpy matplotlib seaborn\n"
      ]
    },
    {
      "cell_type": "markdown",
      "source": [
        "Step 1: Install Librariens once every session\n",
        "\n",
        "Step 2: add openAI API key so colab can talk to gpt, LHS bar"
      ],
      "metadata": {
        "id": "vkPYpyJhcRAm"
      }
    },
    {
      "cell_type": "code",
      "source": [
        "import os, csv, time, numpy as np, pandas as pd\n",
        "from openai import OpenAI\n",
        "client = OpenAI(api_key=os.getenv(\"OPENAI_API_KEY\"))\n",
        "rng = np.random.default_rng(42)\n",
        "\n",
        "# ----- build patient-day grid -----\n",
        "n_patients = 500\n",
        "days = pd.date_range(\"2025-01-01\", periods=31, freq=\"D\")\n",
        "index = pd.MultiIndex.from_product([range(1, n_patients+1), days],\n",
        "                                   names=[\"patient_id\",\"date\"])\n",
        "df = pd.DataFrame(index=index).reset_index()\n",
        "\n",
        "# ----- numeric vitals -----\n",
        "def vital_series(base, sd, drift):\n",
        "    noise = rng.normal(0, sd, len(df))\n",
        "    day_no = df['date'].dt.dayofyear.values\n",
        "    return (base + drift * (day_no - day_no.mean())/day_no.std() + noise).round(1)\n",
        "\n",
        "df[\"spo2\"]        = vital_series(97, 1.5,  0)\n",
        "df[\"heart_rate\"]  = vital_series(80, 12,  0.2)\n",
        "df[\"temperature\"] = vital_series(36.8, 0.4, 0.05)\n",
        "df[\"sys_bp\"]      = vital_series(120, 15, 0.3)\n",
        "df[\"dia_bp\"]      = vital_series(78, 10, 0.2)\n",
        "df[\"weight\"]      = vital_series(70, 8,  -0.05)\n",
        "df[\"glucose\"]     = vital_series(5.5, 1.2, 0.1)\n",
        "\n",
        "# ----- 10 % missing values -----\n",
        "for col in [\"spo2\",\"heart_rate\",\"temperature\",\"sys_bp\",\"dia_bp\",\"weight\",\"glucose\"]:\n",
        "    mask = rng.random(len(df)) < 0.10\n",
        "    df.loc[mask, col] = np.nan\n",
        "\n",
        "# ----- generate short clinical notes using GPT (5 % sample for speed) -----\n",
        "PROMPT = \"\"\"\n",
        "You are a nurse filling daily notes.\n",
        "Given SPO2={spo2}, HR={hr}, Temp={temp}, BP={sbp}/{dbp}, Weight={wt}, Glucose={glu},\n",
        "write 1‑2 sentences on patient's general feeling and any symptoms.\n",
        "If any value is missing, mention 'data not recorded'. Use 'c/o' or 'hx' sometimes.\n",
        "\"\"\"\n",
        "\n",
        "def make_note(row):\n",
        "    prompt = PROMPT.format(spo2=row.spo2, hr=row.heart_rate, temp=row.temperature,\n",
        "                           sbp=row.sys_bp, dbp=row.dia_bp, wt=row.weight, glu=row.glucose)\n",
        "    resp = client.chat.completions.create(\n",
        "        model=\"gpt-3.5-turbo\", temperature=0.7,\n",
        "        messages=[{\"role\":\"system\",\"content\":prompt}]\n",
        "    )\n",
        "    note = resp.choices[0].message.content.strip()\n",
        "    # log for transparency\n",
        "    with open(\"prompt_log.csv\",\"a\") as f:\n",
        "        f.write(f\"{time.time()}\\t{prompt}\\t{note}\\n\")\n",
        "    return note\n",
        "\n",
        "df[\"note\"] = \"\"\n",
        "sample_idx = rng.choice(df.index, size=int(0.05*len(df)), replace=False)\n",
        "df.loc[sample_idx, \"note\"] = df.loc[sample_idx].apply(make_note, axis=1)\n",
        "\n",
        "# save dataset\n",
        "df.to_csv(\"synthetic_patient_month.csv\", index=False)\n",
        "df.head()\n"
      ],
      "metadata": {
        "id": "ELP0Bw6WcHJ2"
      },
      "execution_count": null,
      "outputs": []
    }
  ]
}